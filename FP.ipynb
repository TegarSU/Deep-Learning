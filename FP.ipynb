{
 "cells": [
  {
   "cell_type": "code",
   "execution_count": 1,
   "metadata": {},
   "outputs": [
    {
     "name": "stderr",
     "output_type": "stream",
     "text": [
      "C:\\Users\\USER\\Anaconda3\\lib\\importlib\\_bootstrap.py:219: RuntimeWarning: cymem.cymem.Pool size changed, may indicate binary incompatibility. Expected 48 from C header, got 64 from PyObject\n",
      "  return f(*args, **kwds)\n",
      "C:\\Users\\USER\\Anaconda3\\lib\\importlib\\_bootstrap.py:219: RuntimeWarning: cymem.cymem.Address size changed, may indicate binary incompatibility. Expected 24 from C header, got 40 from PyObject\n",
      "  return f(*args, **kwds)\n",
      "C:\\Users\\USER\\Anaconda3\\lib\\importlib\\_bootstrap.py:219: RuntimeWarning: cymem.cymem.Pool size changed, may indicate binary incompatibility. Expected 48 from C header, got 64 from PyObject\n",
      "  return f(*args, **kwds)\n",
      "C:\\Users\\USER\\Anaconda3\\lib\\importlib\\_bootstrap.py:219: RuntimeWarning: cymem.cymem.Address size changed, may indicate binary incompatibility. Expected 24 from C header, got 40 from PyObject\n",
      "  return f(*args, **kwds)\n",
      "C:\\Users\\USER\\Anaconda3\\lib\\site-packages\\gensim\\utils.py:1212: UserWarning: detected Windows; aliasing chunkize to chunkize_serial\n",
      "  warnings.warn(\"detected Windows; aliasing chunkize to chunkize_serial\")\n"
     ]
    },
    {
     "name": "stdout",
     "output_type": "stream",
     "text": [
      "[nltk_data] Downloading package wordnet to\n",
      "[nltk_data]     C:\\Users\\USER\\AppData\\Roaming\\nltk_data...\n",
      "[nltk_data]   Package wordnet is already up-to-date!\n"
     ]
    }
   ],
   "source": [
    "import pandas as pd\n",
    "import numpy as np\n",
    "import string\n",
    "import pickle\n",
    "import re\n",
    "\n",
    "import spacy\n",
    "from spacy.lang.id import Indonesian\n",
    "\n",
    "import nltk\n",
    "from nltk.corpus import wordnet as wn\n",
    "\n",
    "import gensim\n",
    "from gensim import corpora\n",
    "import pyLDAvis.gensim\n",
    "\n",
    "nltk.download('wordnet')\n",
    "nlp = Indonesian()  # use directly\n",
    "stopwords = spacy.lang.id.stop_words.STOP_WORDS\n",
    "exclude = set(string.punctuation)"
   ]
  },
  {
   "cell_type": "code",
   "execution_count": 5,
   "metadata": {},
   "outputs": [
    {
     "data": {
      "text/html": [
       "<div>\n",
       "<style scoped>\n",
       "    .dataframe tbody tr th:only-of-type {\n",
       "        vertical-align: middle;\n",
       "    }\n",
       "\n",
       "    .dataframe tbody tr th {\n",
       "        vertical-align: top;\n",
       "    }\n",
       "\n",
       "    .dataframe thead th {\n",
       "        text-align: right;\n",
       "    }\n",
       "</style>\n",
       "<table border=\"1\" class=\"dataframe\">\n",
       "  <thead>\n",
       "    <tr style=\"text-align: right;\">\n",
       "      <th></th>\n",
       "      <th>diposisi</th>\n",
       "      <th>judul</th>\n",
       "      <th>keluhan</th>\n",
       "      <th>tipe</th>\n",
       "    </tr>\n",
       "  </thead>\n",
       "  <tbody>\n",
       "    <tr>\n",
       "      <th>12856</th>\n",
       "      <td>Kementerian Sosial</td>\n",
       "      <td>Orang-Orang Mampu Mendapatkan BLSM</td>\n",
       "      <td>KPS di daerah desa sambong belum ada BLSM..dan...</td>\n",
       "      <td>Bantuan Langsung Sementara Masyarakat (BLSM)</td>\n",
       "    </tr>\n",
       "    <tr>\n",
       "      <th>12857</th>\n",
       "      <td>Kantor Walikota Jakarta Timur</td>\n",
       "      <td>Pungli di Kecamatan Makasar Dalam Pengurusan IMB</td>\n",
       "      <td>Hal melaporkan Staf Perizinan Bangunan Kec. Ma...</td>\n",
       "      <td>Reformasi Birokrasi dan Tata Kelola</td>\n",
       "    </tr>\n",
       "    <tr>\n",
       "      <th>12858</th>\n",
       "      <td>Kantor Walikota Jakarta Utara</td>\n",
       "      <td>Kader-kader Kelurahan Cilincing Memanfaatkan P...</td>\n",
       "      <td>Yth. Pemerintah Provinsi DKI Jakarta. Saya ing...</td>\n",
       "      <td>Infrastruktur</td>\n",
       "    </tr>\n",
       "    <tr>\n",
       "      <th>12859</th>\n",
       "      <td>Kementerian Sosial</td>\n",
       "      <td>BLSM Di Bondowoso</td>\n",
       "      <td>KPS Di desa kemirian kec. tamanan kab.bondowos...</td>\n",
       "      <td>Bantuan Langsung Sementara Masyarakat (BLSM)</td>\n",
       "    </tr>\n",
       "    <tr>\n",
       "      <th>12860</th>\n",
       "      <td>Kementerian Sosial</td>\n",
       "      <td>BLSM Tidak Tepat Sasaran di Mataram</td>\n",
       "      <td>KPS BLSM tdk tepat sasaran mRNA ada yg seharus...</td>\n",
       "      <td>Kepesertaan Non-KPS</td>\n",
       "    </tr>\n",
       "  </tbody>\n",
       "</table>\n",
       "</div>"
      ],
      "text/plain": [
       "                            diposisi  \\\n",
       "12856             Kementerian Sosial   \n",
       "12857  Kantor Walikota Jakarta Timur   \n",
       "12858  Kantor Walikota Jakarta Utara   \n",
       "12859             Kementerian Sosial   \n",
       "12860             Kementerian Sosial   \n",
       "\n",
       "                                                   judul  \\\n",
       "12856                 Orang-Orang Mampu Mendapatkan BLSM   \n",
       "12857   Pungli di Kecamatan Makasar Dalam Pengurusan IMB   \n",
       "12858  Kader-kader Kelurahan Cilincing Memanfaatkan P...   \n",
       "12859                                  BLSM Di Bondowoso   \n",
       "12860                BLSM Tidak Tepat Sasaran di Mataram   \n",
       "\n",
       "                                                 keluhan  \\\n",
       "12856  KPS di daerah desa sambong belum ada BLSM..dan...   \n",
       "12857  Hal melaporkan Staf Perizinan Bangunan Kec. Ma...   \n",
       "12858  Yth. Pemerintah Provinsi DKI Jakarta. Saya ing...   \n",
       "12859  KPS Di desa kemirian kec. tamanan kab.bondowos...   \n",
       "12860  KPS BLSM tdk tepat sasaran mRNA ada yg seharus...   \n",
       "\n",
       "                                               tipe  \n",
       "12856  Bantuan Langsung Sementara Masyarakat (BLSM)  \n",
       "12857           Reformasi Birokrasi dan Tata Kelola  \n",
       "12858                                 Infrastruktur  \n",
       "12859  Bantuan Langsung Sementara Masyarakat (BLSM)  \n",
       "12860                           Kepesertaan Non-KPS  "
      ]
     },
     "execution_count": 5,
     "metadata": {},
     "output_type": "execute_result"
    }
   ],
   "source": [
    "data = pd.read_csv(\"dataset.csv\")\n",
    "label_drop = [\"web-scraper-order\",\"web-scraper-start-url\",\"pengadu\"]\n",
    "data = data.drop(columns=label_drop)\n",
    "data = data.replace({'\\n':' '},regex=True)\n",
    "data = data.replace({' +':' '},regex=True)\n",
    "data.tail()"
   ]
  },
  {
   "cell_type": "code",
   "execution_count": 3,
   "metadata": {},
   "outputs": [
    {
     "name": "stdout",
     "output_type": "stream",
     "text": [
      "\n",
      "Number of missing values:\n",
      "\tdiposisi: 141\n",
      "\tjudul: 0\n",
      "\tkeluhan: 0\n",
      "\ttipe: 0\n"
     ]
    },
    {
     "data": {
      "text/plain": [
       "Bantuan Langsung Sementara Masyarakat (BLSM)                                3592\n",
       "Kepesertaan Non-KPS                                                         2526\n",
       "Implementasi Penyesuaian Harga BBM                                           963\n",
       "Topik Lainnya                                                                806\n",
       "Beras Miskin (Raskin)                                                        694\n",
       "Infrastruktur                                                                693\n",
       "Reformasi Birokrasi dan Tata Kelola                                          643\n",
       "Kelangkaan BBM                                                               516\n",
       "Pendidikan                                                                   487\n",
       "Lingkungan Hidup dan Penanggulangan Bencana                                  413\n",
       "Kesehatan                                                                    401\n",
       "Kepesertaan KPS                                                              353\n",
       "Banjir Jakarta 2013                                                          244\n",
       "Bidang Kesejahteraan Rakyat                                                  113\n",
       "Bantuan Siswa Miskin (BSM)                                                   108\n",
       "Bidang Politik, Hukum, dan Keamanan                                           88\n",
       "Perdagangan, Perindustrian, Iklim Usaha, dan Investasi                        49\n",
       "Energi dan Sumber Daya Alam                                                   38\n",
       "Bidang Perekonomian                                                           22\n",
       "Program Keluarga Harapan (PKH)                                                18\n",
       "Pertanian                                                                     15\n",
       "Jamkesmas                                                                     13\n",
       "Topik Khusus                                                                  11\n",
       "Pengentasan Kemiskinan                                                        10\n",
       "Korupsi                                                                        9\n",
       "Kompensasi Lainnya                                                             9\n",
       "Teknologi Informasi dan Komunikasi                                             8\n",
       "Pembangunan Desa, Daerah Tertinggal, Terdepan, Terluar, dan Transmigrasi       4\n",
       "Penyerapan Anggaran                                                            4\n",
       "Kehutanan                                                                      2\n",
       "Keamanan dan Ketertiban Masyarakat                                             2\n",
       "Perhubungan                                                                    2\n",
       "Permasalahan                                                                   1\n",
       "Pertanahan dan Permukiman                                                      1\n",
       "Sarana dan Prasarana                                                           1\n",
       "Ketenagakerjaan                                                                1\n",
       "Lain-lain                                                                      1\n",
       "Name: tipe, dtype: int64"
      ]
     },
     "execution_count": 3,
     "metadata": {},
     "output_type": "execute_result"
    }
   ],
   "source": [
    "print('\\nNumber of missing values:')\n",
    "for col in data.columns:\n",
    "    print('\\t%s: %d' % (col, data[col].isnull().sum()))\n",
    "\n",
    "tipe = data[\"tipe\"].to_list()\n",
    "data[\"tipe\"].value_counts(dropna=False) #155 kelas diposisi, 37 kelas tipe"
   ]
  },
  {
   "cell_type": "code",
   "execution_count": null,
   "metadata": {},
   "outputs": [],
   "source": []
  },
  {
   "cell_type": "code",
   "execution_count": null,
   "metadata": {},
   "outputs": [],
   "source": []
  },
  {
   "cell_type": "code",
   "execution_count": 7,
   "metadata": {},
   "outputs": [],
   "source": [
    "# Prepocessing\n",
    "\n",
    "def tokenize(teks):\n",
    "    sentence = nlp(teks)\n",
    "    token_kata = [token.text for token in sentence]\n",
    "    \n",
    "    return \" \".join(token_kata)\n",
    "#     return token_kata\n",
    "\n",
    "def lemma(teks):\n",
    "    sentence = nlp(teks)\n",
    "\n",
    "    lemma = [token.lemma_ for token in sentence]\n",
    "    \n",
    "    return lemma\n",
    "\n",
    "def stopword(teks):\n",
    "    clean = []\n",
    "    for i in teks:\n",
    "        if i not in stopwords:\n",
    "            clean.append(i)\n",
    "\n",
    "    return clean"
   ]
  },
  {
   "cell_type": "code",
   "execution_count": 8,
   "metadata": {},
   "outputs": [],
   "source": [
    "def preprocessing(text):\n",
    "    clean = text.lower() #Lower\n",
    "    clean = tokenize(clean) #Token\n",
    "    #Slang\n",
    "    clean = lemma(clean) #Lemma\n",
    "    clean = stopword(clean) #Stopword\n",
    "    clean = ' '.join(ch for ch in clean if ch not in exclude) #Punctuation\n",
    "    clean = re.sub(\"[.,]\", \"\", str(clean))\n",
    "    \n",
    "    return clean"
   ]
  },
  {
   "cell_type": "code",
   "execution_count": 9,
   "metadata": {},
   "outputs": [],
   "source": [
    "clean = data[\"keluhan\"].apply(preprocessing)"
   ]
  },
  {
   "cell_type": "code",
   "execution_count": 10,
   "metadata": {},
   "outputs": [
    {
     "data": {
      "text/plain": [
       "0        lampu lintas jalan juanda veteran stasiun juan...\n",
       "1        yth pemprov dki jakarta guru bantu sd harap ma...\n",
       "2        kps camat patumbak,,kab deli serdang sumut des...\n",
       "3        tolong angkut mikrolet 39 jurus pademangan man...\n",
       "4                                          bbm tuju rakyat\n",
       "5        kps daerah desa sambong blsm .. kadang orang-o...\n",
       "6        lapor staf izin bangun kec makasar walikota ja...\n",
       "7        yth perintah provinsi dki jakarta lapor kel ci...\n",
       "8        kps desa kemirian kec tamanan kab.bondowoso-ja...\n",
       "9        kps blsm tdk sasar mrna yg tdk link gatep ampe...\n",
       "10       kps 888bdt 56789009 desa kampung terima 3,5 kg...\n",
       "11       bbm gmn lapor adu kena spbu yg dijalan wibawa ...\n",
       "12       kps rumah tangga nama h.abdul manaf jl.hm said...\n",
       "13       kps diwilayah rw 06 kalideres yg pnya mobil bl...\n",
       "14       kps tolong tindaklanjuti desa takpernah d data...\n",
       "15       yth pemprov dki jakarta alam desember 2012 dim...\n",
       "16       tolong ditinjau pasar tanah abang jalan parkir...\n",
       "17       kps terima balsem tdk sasar rt tetangga dpt pd...\n",
       "18       kps aduk desa yg kenearaan roda 4 blsm dgn ala...\n",
       "19        kps panitia blsm teliti untk beda hak yg tdk hak\n",
       "20       informasi stok obat rskd kosong anak alam saki...\n",
       "21       kps blsm sentuh masyarakat rt 04 rw 01 bekasi ...\n",
       "22       yth pemprov dki jakarta lapor jalan laksa 1 ke...\n",
       "23       kps knp dana kompensasinya blm purbalingga pa ...\n",
       "24       kps salur blsm dusun selogan desa jaten camat ...\n",
       "25       bbm pom bensin yg dikasi sanksi klu mlayani su...\n",
       "26       kps yg mendpt kompensasi bbm dimojokerto khusu...\n",
       "27       kps lurah karang sari camat nenglasari kab tan...\n",
       "28       bbm bali spbu jln kebo iwo denpasar curang pre...\n",
       "29       kps 3hsdax94226a05 perintah laku adil kartu kp...\n",
       "                               ...                        \n",
       "12831          kps 3731jv10430a06 manfaat kps terima kasih\n",
       "12832    selamat siang lapor staf instalasi software ve...\n",
       "12833          bbm daerah sentani papua antri klau isi bbm\n",
       "12834    kps maaf ni teamsos sy yah mertua sy dpt blsm ...\n",
       "12835    yth perintah provinsi dki jakarta jalan akses ...\n",
       "12836    yth perintah provinsi dki jakarta widodo warga...\n",
       "12837    selamat sore maaf kampung lubang buaya orang u...\n",
       "12838    ketua rw 07 pademangan barat jakarta utara 5 w...\n",
       "12839            bbm jaga sikap keamanannya.acak aman spbu\n",
       "12840    kps keluarga blsm nama sunarya alamat dusun kr...\n",
       "12841    kps 888bdt56789009 rumah tangga desa terima ra...\n",
       "12842    selamat siang lapor bus trans jakarta blok m a...\n",
       "12843    kps 39ig 1140232a02 terima kps manfaat kartu t...\n",
       "12844    kps tmpt kompensasi blsm daerah mraggen demak ...\n",
       "12845    kps blsm ga sasar d kitar bnyk orang ga ga men...\n",
       "12846    kepala puskesmas camat palmerah memerintahkam ...\n",
       "12847    kps kel sandubaya kab lombok timur betul2 ambu...\n",
       "12848                 bbm bensin mahal banget liter rp9000\n",
       "12849    kps tolong data blsm diperbaiki rt kartu blsm ...\n",
       "12850                kps 52365017 kps ambil blsm trma ksih\n",
       "12851    lampu lintas jalan juanda veteran stasiun juan...\n",
       "12852    yth pemprov dki jakarta guru bantu sd harap ma...\n",
       "12853    kps camat patumbak,,kab deli serdang sumut des...\n",
       "12854    tolong angkut mikrolet 39 jurus pademangan man...\n",
       "12855                                      bbm tuju rakyat\n",
       "12856    kps daerah desa sambong blsm .. kadang orang-o...\n",
       "12857    lapor staf izin bangun kec makasar walikota ja...\n",
       "12858    yth perintah provinsi dki jakarta lapor kel ci...\n",
       "12859    kps desa kemirian kec tamanan kab.bondowoso-ja...\n",
       "12860    kps blsm tdk sasar mrna yg tdk link gatep ampe...\n",
       "Name: keluhan, Length: 12861, dtype: object"
      ]
     },
     "execution_count": 10,
     "metadata": {},
     "output_type": "execute_result"
    }
   ],
   "source": [
    "clean"
   ]
  },
  {
   "cell_type": "code",
   "execution_count": 17,
   "metadata": {},
   "outputs": [],
   "source": [
    "# df = pd.DataFrame(data={\"clean\": clean})\n",
    "# df.to_csv(\"C:/xampp/htdocs/Deep-Learning/clean.csv\", sep=',',index=False)"
   ]
  },
  {
   "cell_type": "code",
   "execution_count": 2,
   "metadata": {},
   "outputs": [
    {
     "data": {
      "text/html": [
       "<div>\n",
       "<style scoped>\n",
       "    .dataframe tbody tr th:only-of-type {\n",
       "        vertical-align: middle;\n",
       "    }\n",
       "\n",
       "    .dataframe tbody tr th {\n",
       "        vertical-align: top;\n",
       "    }\n",
       "\n",
       "    .dataframe thead th {\n",
       "        text-align: right;\n",
       "    }\n",
       "</style>\n",
       "<table border=\"1\" class=\"dataframe\">\n",
       "  <thead>\n",
       "    <tr style=\"text-align: right;\">\n",
       "      <th></th>\n",
       "      <th>clean</th>\n",
       "    </tr>\n",
       "  </thead>\n",
       "  <tbody>\n",
       "    <tr>\n",
       "      <th>12855</th>\n",
       "      <td>kps daerah desa sambong blsm  kadang orang-ora...</td>\n",
       "    </tr>\n",
       "    <tr>\n",
       "      <th>12856</th>\n",
       "      <td>lapor staf izin bangun kec makasar walikota ja...</td>\n",
       "    </tr>\n",
       "    <tr>\n",
       "      <th>12857</th>\n",
       "      <td>yth perintah provinsi dki jakarta lapor kel ci...</td>\n",
       "    </tr>\n",
       "    <tr>\n",
       "      <th>12858</th>\n",
       "      <td>kps desa kemirian kec tamanan kabbondowoso-jat...</td>\n",
       "    </tr>\n",
       "    <tr>\n",
       "      <th>12859</th>\n",
       "      <td>kps blsm tdk sasar mrna yg tdk link gatep ampe...</td>\n",
       "    </tr>\n",
       "  </tbody>\n",
       "</table>\n",
       "</div>"
      ],
      "text/plain": [
       "                                                   clean\n",
       "12855  kps daerah desa sambong blsm  kadang orang-ora...\n",
       "12856  lapor staf izin bangun kec makasar walikota ja...\n",
       "12857  yth perintah provinsi dki jakarta lapor kel ci...\n",
       "12858  kps desa kemirian kec tamanan kabbondowoso-jat...\n",
       "12859  kps blsm tdk sasar mrna yg tdk link gatep ampe..."
      ]
     },
     "execution_count": 2,
     "metadata": {},
     "output_type": "execute_result"
    }
   ],
   "source": [
    "clean_data = pd.read_csv(\"C:/xampp/htdocs/Deep-Learning/clean.csv\",header=0)\n",
    "clean_data.tail()"
   ]
  },
  {
   "cell_type": "code",
   "execution_count": 9,
   "metadata": {},
   "outputs": [],
   "source": [
    "clean = clean_data.clean.values.tolist()\n",
    "tampung = []\n",
    "for i in clean:\n",
    "    sentence = nlp(i)\n",
    "    token_kata = [token.text for token in sentence]\n",
    "    tampung.append(token_kata)\n",
    "    "
   ]
  },
  {
   "cell_type": "code",
   "execution_count": 12,
   "metadata": {},
   "outputs": [],
   "source": []
  },
  {
   "cell_type": "code",
   "execution_count": 13,
   "metadata": {},
   "outputs": [],
   "source": []
  },
  {
   "cell_type": "code",
   "execution_count": 16,
   "metadata": {},
   "outputs": [],
   "source": [
    "dictionary = corpora.Dictionary(tampung)\n",
    "corpus = [dictionary.doc2bow(text) for text in tampung]\n",
    "\n",
    "pickle.dump(corpus, open('corpus.pkl', 'wb'))\n",
    "dictionary.save('dictionary.gensim')"
   ]
  },
  {
   "cell_type": "code",
   "execution_count": 19,
   "metadata": {
    "scrolled": true
   },
   "outputs": [],
   "source": [
    "NUM_TOPICS = 10\n",
    "\n",
    "lda_model = gensim.models.ldamodel.LdaModel(corpus=corpus,\n",
    "                                           id2word=dictionary,\n",
    "                                           num_topics = NUM_TOPICS, \n",
    "                                           random_state=100,\n",
    "                                           update_every=1,\n",
    "                                           chunksize=100,\n",
    "                                           passes=10,\n",
    "                                           alpha='auto',\n",
    "                                           per_word_topics=True)\n",
    "lda_model.save('model5.gensim')"
   ]
  },
  {
   "cell_type": "code",
   "execution_count": 27,
   "metadata": {},
   "outputs": [
    {
     "name": "stdout",
     "output_type": "stream",
     "text": [
      "(0, '0.024*\"rp\" + 0.017*\"sekolah\" + 0.015*\"uang\" + 0.013*\"surat\" + 0.012*\"daftar\"')\n",
      "(1, '0.151*\"yg\" + 0.058*\"tdk\" + 0.039*\"dpt\" + 0.025*\"d\" + 0.024*\" \"')\n",
      "(2, '0.114*\"kps\" + 0.095*\"blsm\" + 0.043*\"terima\" + 0.038*\"desa\" + 0.028*\"sasar\"')\n",
      "(3, '0.015*\"pt\" + 0.015*\"kendara\" + 0.012*\"atur\" + 0.010*\"indonesia\" + 0.010*\"kota\"')\n",
      "(4, '0.069*\"rt\" + 0.043*\"rw\" + 0.031*\"nama\" + 0.019*\"2\" + 0.018*\"bantu\"')\n",
      "(5, '0.050*\"sy\" + 0.019*\"blm\" + 0.018*\"ktp\" + 0.012*\"merah\" + 0.010*\"jln\"')\n",
      "(6, '0.062*\"kartu\" + 0.039*\"anak\" + 0.026*\"ulang\" + 0.025*\"kompensasi\" + 0.022*\"asi\"')\n",
      "(7, '0.053*\"jakarta\" + 0.047*\"mohon\" + 0.032*\"kasih\" + 0.031*\"jalan\" + 0.030*\"dki\"')\n",
      "(8, '0.027*\"air\" + 0.025*\"ambil\" + 0.023*\"dagang\" + 0.019*\"jual\" + 0.018*\"sampah\"')\n",
      "(9, '0.118*\"bbm\" + 0.029*\"spbu\" + 0.023*\"harga\" + 0.020*\"subsidi\" + 0.018*\"bantu\"')\n"
     ]
    }
   ],
   "source": [
    "topics = lda_model.print_topics(num_words=5)\n",
    "for topic in topics:\n",
    "    print(topic)"
   ]
  },
  {
   "cell_type": "code",
   "execution_count": null,
   "metadata": {},
   "outputs": [],
   "source": [
    "lemma = list()\n",
    "for i in list:"
   ]
  },
  {
   "cell_type": "code",
   "execution_count": 22,
   "metadata": {},
   "outputs": [],
   "source": [
    "dictionary = gensim.corpora.Dictionary.load('dictionary.gensim')\n",
    "corpus = pickle.load(open('corpus.pkl', 'rb'))\n",
    "lda = gensim.models.ldamodel.LdaModel.load('model5.gensim')"
   ]
  },
  {
   "cell_type": "code",
   "execution_count": 23,
   "metadata": {
    "scrolled": true
   },
   "outputs": [
    {
     "name": "stderr",
     "output_type": "stream",
     "text": [
      "C:\\Users\\USER\\Anaconda3\\lib\\site-packages\\pyLDAvis\\_prepare.py:257: FutureWarning: Sorting because non-concatenation axis is not aligned. A future version\n",
      "of pandas will change to not sort by default.\n",
      "\n",
      "To accept the future behavior, pass 'sort=False'.\n",
      "\n",
      "To retain the current behavior and silence the warning, pass 'sort=True'.\n",
      "\n",
      "  return pd.concat([default_term_info] + list(topic_dfs))\n"
     ]
    },
    {
     "data": {
      "text/html": [
       "\n",
       "<link rel=\"stylesheet\" type=\"text/css\" href=\"https://cdn.rawgit.com/bmabey/pyLDAvis/files/ldavis.v1.0.0.css\">\n",
       "\n",
       "\n",
       "<div id=\"ldavis_el11876196178580402469267043\"></div>\n",
       "<script type=\"text/javascript\">\n",
       "\n",
       "var ldavis_el11876196178580402469267043_data = {\"mdsDat\": {\"x\": [0.031801458237964986, -0.14284830000125218, 0.25802558051410257, -0.012515720708510192, -0.055984154436277, -0.13287257884049752, -0.06474996159131248, 0.29639825377090345, -0.11731144566005412, -0.0599431312850675], \"y\": [0.1854621446523478, -0.26139665549981134, -0.18907052960028756, 0.18209623818046491, 0.06392720034356382, -0.02810309280153955, 0.04118465485495992, 0.029721278325480376, -0.001748253362367555, -0.022072985092810183], \"topics\": [1, 2, 3, 4, 5, 6, 7, 8, 9, 10], \"cluster\": [1, 1, 1, 1, 1, 1, 1, 1, 1, 1], \"Freq\": [11.427260398864746, 11.366729736328125, 20.16439437866211, 8.116876602172852, 7.902429103851318, 4.039490699768066, 5.948983669281006, 18.67571258544922, 5.090763568878174, 7.267364978790283]}, \"tinfo\": {\"Category\": [\"Default\", \"Default\", \"Default\", \"Default\", \"Default\", \"Default\", \"Default\", \"Default\", \"Default\", \"Default\", \"Default\", \"Default\", \"Default\", \"Default\", \"Default\", \"Default\", \"Default\", \"Default\", \"Default\", \"Default\", \"Default\", \"Default\", \"Default\", \"Default\", \"Default\", \"Default\", \"Default\", \"Default\", \"Default\", \"Default\", \"Topic1\", \"Topic1\", \"Topic1\", \"Topic1\", \"Topic1\", \"Topic1\", \"Topic1\", \"Topic1\", \"Topic1\", \"Topic1\", \"Topic1\", \"Topic1\", \"Topic1\", \"Topic1\", \"Topic1\", \"Topic1\", \"Topic1\", \"Topic1\", \"Topic1\", \"Topic1\", \"Topic1\", \"Topic1\", \"Topic1\", \"Topic1\", \"Topic1\", \"Topic1\", \"Topic1\", \"Topic1\", \"Topic1\", \"Topic1\", \"Topic1\", \"Topic1\", \"Topic1\", \"Topic1\", \"Topic1\", \"Topic1\", \"Topic1\", \"Topic1\", \"Topic1\", \"Topic1\", \"Topic1\", \"Topic1\", \"Topic2\", \"Topic2\", \"Topic2\", \"Topic2\", \"Topic2\", \"Topic2\", \"Topic2\", \"Topic2\", \"Topic2\", \"Topic2\", \"Topic2\", \"Topic2\", \"Topic2\", \"Topic2\", \"Topic2\", \"Topic2\", \"Topic2\", \"Topic2\", \"Topic2\", \"Topic2\", \"Topic2\", \"Topic2\", \"Topic2\", \"Topic2\", \"Topic2\", \"Topic2\", \"Topic2\", \"Topic2\", \"Topic2\", \"Topic2\", \"Topic2\", \"Topic2\", \"Topic2\", \"Topic2\", \"Topic3\", \"Topic3\", \"Topic3\", \"Topic3\", \"Topic3\", \"Topic3\", \"Topic3\", \"Topic3\", \"Topic3\", \"Topic3\", \"Topic3\", \"Topic3\", \"Topic3\", \"Topic3\", \"Topic3\", \"Topic3\", \"Topic3\", \"Topic3\", \"Topic3\", \"Topic3\", \"Topic3\", \"Topic3\", \"Topic3\", \"Topic3\", \"Topic3\", \"Topic3\", \"Topic3\", \"Topic3\", \"Topic3\", \"Topic3\", \"Topic3\", \"Topic3\", \"Topic3\", \"Topic3\", \"Topic3\", \"Topic3\", \"Topic3\", \"Topic3\", \"Topic3\", \"Topic3\", \"Topic3\", \"Topic3\", \"Topic3\", \"Topic3\", \"Topic3\", \"Topic3\", \"Topic3\", \"Topic4\", \"Topic4\", \"Topic4\", \"Topic4\", \"Topic4\", \"Topic4\", \"Topic4\", \"Topic4\", \"Topic4\", \"Topic4\", \"Topic4\", \"Topic4\", \"Topic4\", \"Topic4\", \"Topic4\", \"Topic4\", \"Topic4\", \"Topic4\", \"Topic4\", \"Topic4\", \"Topic4\", \"Topic4\", \"Topic4\", \"Topic4\", \"Topic4\", \"Topic4\", \"Topic4\", \"Topic4\", \"Topic4\", \"Topic4\", \"Topic4\", \"Topic4\", \"Topic4\", \"Topic4\", \"Topic4\", \"Topic4\", \"Topic4\", \"Topic5\", \"Topic5\", \"Topic5\", \"Topic5\", \"Topic5\", \"Topic5\", \"Topic5\", \"Topic5\", \"Topic5\", \"Topic5\", \"Topic5\", \"Topic5\", \"Topic5\", \"Topic5\", \"Topic5\", \"Topic5\", \"Topic5\", \"Topic5\", \"Topic5\", \"Topic5\", \"Topic5\", \"Topic5\", \"Topic5\", \"Topic5\", \"Topic5\", \"Topic5\", \"Topic5\", \"Topic5\", \"Topic5\", \"Topic5\", \"Topic5\", \"Topic5\", \"Topic5\", \"Topic5\", \"Topic5\", \"Topic5\", \"Topic5\", \"Topic5\", \"Topic5\", \"Topic6\", \"Topic6\", \"Topic6\", \"Topic6\", \"Topic6\", \"Topic6\", \"Topic6\", \"Topic6\", \"Topic6\", \"Topic6\", \"Topic6\", \"Topic6\", \"Topic6\", \"Topic6\", \"Topic6\", \"Topic6\", \"Topic6\", \"Topic6\", \"Topic6\", \"Topic6\", \"Topic6\", \"Topic6\", \"Topic6\", \"Topic6\", \"Topic6\", \"Topic6\", \"Topic6\", \"Topic6\", \"Topic6\", \"Topic6\", \"Topic7\", \"Topic7\", \"Topic7\", \"Topic7\", \"Topic7\", \"Topic7\", \"Topic7\", \"Topic7\", \"Topic7\", \"Topic7\", \"Topic7\", \"Topic7\", \"Topic7\", \"Topic7\", \"Topic7\", \"Topic7\", \"Topic7\", \"Topic7\", \"Topic7\", \"Topic7\", \"Topic7\", \"Topic7\", \"Topic7\", \"Topic7\", \"Topic7\", \"Topic7\", \"Topic7\", \"Topic7\", \"Topic7\", \"Topic7\", \"Topic7\", \"Topic7\", \"Topic7\", \"Topic7\", \"Topic8\", \"Topic8\", \"Topic8\", \"Topic8\", \"Topic8\", \"Topic8\", \"Topic8\", \"Topic8\", \"Topic8\", \"Topic8\", \"Topic8\", \"Topic8\", \"Topic8\", \"Topic8\", \"Topic8\", \"Topic8\", \"Topic8\", \"Topic8\", \"Topic8\", \"Topic8\", \"Topic8\", \"Topic8\", \"Topic8\", \"Topic8\", \"Topic8\", \"Topic8\", \"Topic8\", \"Topic8\", \"Topic8\", \"Topic8\", \"Topic8\", \"Topic8\", \"Topic8\", \"Topic8\", \"Topic8\", \"Topic8\", \"Topic8\", \"Topic8\", \"Topic8\", \"Topic8\", \"Topic8\", \"Topic8\", \"Topic8\", \"Topic9\", \"Topic9\", \"Topic9\", \"Topic9\", \"Topic9\", \"Topic9\", \"Topic9\", \"Topic9\", \"Topic9\", \"Topic9\", \"Topic9\", \"Topic9\", \"Topic9\", \"Topic9\", \"Topic9\", \"Topic9\", \"Topic9\", \"Topic9\", \"Topic9\", \"Topic9\", \"Topic9\", \"Topic9\", \"Topic9\", \"Topic9\", \"Topic9\", \"Topic9\", \"Topic9\", \"Topic9\", \"Topic9\", \"Topic9\", \"Topic9\", \"Topic9\", \"Topic9\", \"Topic9\", \"Topic10\", \"Topic10\", \"Topic10\", \"Topic10\", \"Topic10\", \"Topic10\", \"Topic10\", \"Topic10\", \"Topic10\", \"Topic10\", \"Topic10\", \"Topic10\", \"Topic10\", \"Topic10\", \"Topic10\", \"Topic10\", \"Topic10\", \"Topic10\", \"Topic10\", \"Topic10\", \"Topic10\", \"Topic10\", \"Topic10\", \"Topic10\", \"Topic10\", \"Topic10\", \"Topic10\", \"Topic10\", \"Topic10\", \"Topic10\", \"Topic10\", \"Topic10\", \"Topic10\", \"Topic10\", \"Topic10\", \"Topic10\", \"Topic10\", \"Topic10\"], \"Freq\": [5389.0, 7189.0, 5988.0, 2687.0, 3084.0, 2078.0, 1725.0, 3191.0, 3975.0, 2380.0, 1155.0, 1894.0, 1403.0, 1778.0, 1759.0, 1950.0, 1070.0, 1836.0, 1308.0, 1338.0, 1309.0, 737.0, 637.0, 1204.0, 2030.0, 881.0, 884.0, 867.0, 1343.0, 845.0, 866.2384643554688, 461.6119079589844, 438.8079528808594, 377.138671875, 361.8887023925781, 342.5454406738281, 341.4589538574219, 336.8785400390625, 332.18743896484375, 284.6855163574219, 276.6686706542969, 264.6551208496094, 226.07176208496094, 211.7674560546875, 202.20823669433594, 190.22474670410156, 184.83984375, 175.51405334472656, 175.07769775390625, 169.43930053710938, 165.30905151367188, 164.198974609375, 163.50424194335938, 162.8450927734375, 144.8920135498047, 141.20443725585938, 619.1705932617188, 139.3498992919922, 137.9617919921875, 137.2313232421875, 526.9259643554688, 331.4334411621094, 397.1453857421875, 389.5592041015625, 286.5138244628906, 274.5869445800781, 281.6065673828125, 235.1171417236328, 258.9453125, 251.5812530517578, 238.58154296875, 189.72357177734375, 5388.7822265625, 2077.422119140625, 1402.388427734375, 883.5653076171875, 844.607177734375, 527.0026245117188, 496.31939697265625, 351.65875244140625, 343.63848876953125, 328.2552795410156, 328.2362976074219, 324.5314636230469, 303.9026794433594, 269.6905822753906, 264.2013854980469, 242.57418823242188, 227.74061584472656, 218.142822265625, 204.56057739257812, 193.0401611328125, 183.63330078125, 182.18312072753906, 179.7715301513672, 167.9201202392578, 167.0096893310547, 161.59262084960938, 161.27359008789062, 151.59396362304688, 151.11671447753906, 148.40533447265625, 507.5013732910156, 253.0048370361328, 302.9971008300781, 233.0845489501953, 7188.97509765625, 5988.052734375, 2379.8671875, 1758.908935546875, 1337.6209716796875, 1308.5445556640625, 1058.9671630859375, 873.3087158203125, 859.6920166015625, 448.6343078613281, 414.5857849121094, 409.2222900390625, 388.2426452636719, 352.99652099609375, 312.6067810058594, 303.6982116699219, 290.37054443359375, 275.2937316894531, 257.2918395996094, 247.5538787841797, 230.36703491210938, 225.691162109375, 185.7018280029297, 178.58099365234375, 172.66473388671875, 168.4245147705078, 167.28701782226562, 158.8016357421875, 154.1036376953125, 143.630859375, 681.2867431640625, 1645.7371826171875, 725.729248046875, 495.5188293457031, 270.85809326171875, 2732.373779296875, 542.3790893554688, 429.55889892578125, 442.6602478027344, 775.14453125, 951.1511840820312, 652.59765625, 547.5279541015625, 513.1871337890625, 482.65771484375, 414.89129638671875, 322.3936767578125, 394.81280517578125, 386.7886657714844, 316.6285095214844, 267.05816650390625, 218.08673095703125, 195.25677490234375, 195.12747192382812, 194.77149963378906, 189.72662353515625, 166.31216430664062, 166.1363067626953, 162.36080932617188, 152.9477996826172, 151.6182403564453, 143.8751678466797, 143.6496124267578, 143.3244171142578, 139.86375427246094, 138.27903747558594, 137.0957794189453, 133.60508728027344, 131.5494842529297, 129.7516326904297, 127.84245300292969, 125.98197937011719, 122.12324523925781, 121.78290557861328, 119.8492431640625, 116.75446319580078, 116.53996276855469, 183.302734375, 258.5992736816406, 170.6274871826172, 153.8067626953125, 206.91403198242188, 150.0669708251953, 130.20008850097656, 1725.0440673828125, 1070.09619140625, 385.1300354003906, 347.85101318359375, 346.38800048828125, 330.1925048828125, 311.1513366699219, 293.8653259277344, 225.22010803222656, 215.37083435058594, 205.10293579101562, 198.3648681640625, 180.57704162597656, 178.91921997070312, 153.84738159179688, 153.77694702148438, 152.96527099609375, 146.9204559326172, 144.4068145751953, 138.22836303710938, 132.86488342285156, 131.21763610839844, 125.533447265625, 117.59037780761719, 115.63272094726562, 111.81795501708984, 108.87892150878906, 106.28904724121094, 99.82794189453125, 99.35517120361328, 766.2120971679688, 224.62161254882812, 473.6153564453125, 448.4982604980469, 289.1090393066406, 142.17271423339844, 180.20579528808594, 206.85647583007812, 158.24517822265625, 636.4927368164062, 235.34872436523438, 222.96470642089844, 154.12350463867188, 121.35244750976562, 100.31104278564453, 95.76835632324219, 95.05402374267578, 86.73736572265625, 83.7228012084961, 83.07362365722656, 82.91548919677734, 82.59503936767578, 81.43790435791016, 78.58795166015625, 78.56542205810547, 77.28141021728516, 76.64366149902344, 75.96385192871094, 75.5242691040039, 74.73650360107422, 70.95591735839844, 69.73651885986328, 69.52428436279297, 68.14969635009766, 65.14962768554688, 63.632328033447266, 61.03300094604492, 59.713890075683594, 58.02519607543945, 1154.3992919921875, 737.09619140625, 477.7147521972656, 465.3599853515625, 407.1644287109375, 392.6788635253906, 332.9674377441406, 260.53704833984375, 235.6268768310547, 205.9273223876953, 204.2692108154297, 191.73118591308594, 146.5108642578125, 138.29598999023438, 135.43470764160156, 135.13021850585938, 129.62657165527344, 127.271728515625, 124.24758911132812, 121.67918395996094, 108.7081527709961, 107.1727294921875, 105.25891876220703, 96.48218536376953, 95.15930938720703, 93.95689392089844, 91.05406951904297, 88.82320404052734, 87.06168365478516, 86.07925415039062, 205.50079345703125, 124.71368408203125, 95.24110412597656, 99.08069610595703, 3083.328857421875, 1894.1197509765625, 1777.7808837890625, 1307.3096923828125, 1203.296875, 994.3667602539062, 924.9227905273438, 807.8363037109375, 656.0772705078125, 612.9965209960938, 604.31005859375, 598.2035522460938, 549.1907958984375, 515.0687255859375, 498.4443054199219, 471.0977478027344, 466.6258850097656, 465.5913391113281, 350.6209716796875, 318.4093933105469, 307.10052490234375, 248.96888732910156, 233.9765625, 220.00238037109375, 198.44229125976562, 194.66864013671875, 192.69793701171875, 177.33653259277344, 169.6352081298828, 169.58111572265625, 781.4578857421875, 1847.5965576171875, 2775.7265625, 968.0868530273438, 1128.969970703125, 356.5476379394531, 506.2713623046875, 1078.8779296875, 490.748046875, 1242.503173828125, 597.9649658203125, 485.70855712890625, 389.5698547363281, 425.7249450683594, 395.5838623046875, 375.3148498535156, 306.645263671875, 282.6260986328125, 278.0600280761719, 266.7563781738281, 264.6726379394531, 182.23623657226562, 179.93197631835938, 177.42092895507812, 176.19178771972656, 174.52523803710938, 164.01846313476562, 141.63894653320312, 127.77128601074219, 114.51386260986328, 105.25833892822266, 99.9122085571289, 97.79826354980469, 95.21622467041016, 94.4794692993164, 90.59417724609375, 85.85714721679688, 84.77240753173828, 83.17784881591797, 80.50192260742188, 77.96077728271484, 74.28573608398438, 74.16435241699219, 197.19456481933594, 187.2064208984375, 117.98849487304688, 107.75776672363281, 2686.31103515625, 650.9786376953125, 526.0079345703125, 459.8328857421875, 323.4249267578125, 271.6919250488281, 267.32293701171875, 226.30345153808594, 217.80809020996094, 163.482177734375, 162.95388793945312, 143.36874389648438, 138.3313751220703, 135.09242248535156, 125.03794860839844, 123.6545639038086, 123.4521255493164, 120.09651947021484, 119.22573852539062, 118.22666931152344, 112.69832611083984, 107.86106872558594, 102.59184265136719, 98.27131652832031, 94.21978759765625, 90.57247924804688, 89.07038116455078, 87.79792022705078, 84.19258117675781, 83.014404296875, 252.7044677734375, 411.229248046875, 368.6563720703125, 219.04356384277344, 156.97903442382812, 138.3839874267578, 109.75757598876953, 131.45718383789062], \"Term\": [\"yg\", \"kps\", \"blsm\", \"bbm\", \"jakarta\", \"tdk\", \"rt\", \"mohon\", \"terima\", \"desa\", \"kartu\", \"kasih\", \"dpt\", \"dki\", \"sasar\", \"jalan\", \"rw\", \"orang\", \"lurah\", \"kec\", \"miskin\", \"anak\", \"sy\", \"yth\", \"warga\", \"nama\", \"d\", \"rp\", \"bantu\", \" \", \"rp\", \"surat\", \"daftar\", \"2013\", \"layan\", \"nyata\", \"tanggal\", \"2012\", \"bayar\", \"menteri\", \"solar\", \"alas\", \"obat\", \"pns\", \"negeri\", \"cakung\", \"terang\", \"rs\", \"didik\", \"tanda\", \"adu\", \"nomor\", \"kirim\", \"sma\", \"kelas\", \"bpn\", \"sekolah\", \"11\", \"juta\", \"tunjang\", \"uang\", \"kepala\", \"kantor\", \"jam\", \"usaha\", \"suai\", \"laku\", \"puskesmas\", \"tugas\", \"no\", \"masuk\", \"orang\", \"yg\", \"tdk\", \"dpt\", \"d\", \" \", \"blt\", \"kaya\", \"beli\", \"tp\", \"utk\", \"pasar\", \"ga\", \"org\", \"dgn\", \"premium\", \"gak\", \"sdh\", \"mhn\", \"tdak\", \"msh\", \"parkir\", \"sawah\", \"kmi\", \"ditinjau\", \"didesa\", \"jg\", \"krn\", \"bnyak\", \"n\", \"tlg\", \"nya\", \"adil\", \"mobil\", \"motor\", \"kps\", \"blsm\", \"desa\", \"sasar\", \"kec\", \"miskin\", \"kab\", \"data\", \"raskin\", \"jawa\", \"ds\", \"selamat\", \"tangga\", \"kg\", \"sya\", \"pos\", \"siang\", \"cek\", \"dusun\", \"tinjau\", \"jateng\", \"bnyk\", \"potong\", \"beras\", \"jamkesmas\", \"dg\", \"buruh\", \"tanjung\", \"jatim\", \"bandung\", \"hak\", \"orang\", \"dana\", \"janda\", \"layak\", \"terima\", \"salah\", \"kel\", \"kabupaten\", \"tolong\", \"warga\", \"rumah\", \"daerah\", \"camat\", \"bantu\", \"mohon\", \"kota\", \"pt\", \"kendara\", \"atur\", \"indonesia\", \"bus\", \"tumpang\", \"halte\", \"akibat\", \"transjakarta\", \"tuju\", \"penuh\", \"arah\", \"henti\", \"ganti\", \"rupa\", \"busway\", \"sumatera\", \"indah\", \"blok\", \"bersih\", \"jalur\", \"m\", \"negara\", \"30\", \"resmi\", \"pribadi\", \"angkat\", \"duduk\", \"kelola\", \"hadap\", \"lintas\", \"kota\", \"utama\", \"jembatan\", \"kerja\", \"macet\", \"tunggu\", \"rt\", \"rw\", \"guru\", \"kk\", \"alamat\", \"tua\", \"ribu\", \"harap\", \"01\", \"tetangga\", \"04\", \"03\", \"g\", \"02\", \"gaji\", \"perhatikan\", \"sd\", \"cair\", \"honorer\", \"aparat\", \"ajar\", \"tegal\", \"bogor\", \"ko\", \"bs\", \"suami\", \"serdang\", \"kpd\", \"umur\", \"blum\", \"nama\", \"10\", \"2\", \"bantu\", \"1\", \"7\", \"4\", \"3\", \"no\", \"sy\", \"blm\", \"ktp\", \"merah\", \"jln\", \"pa\", \"jombang\", \"knp\", \"suka\", \"pademangan\", \"lg\", \"mangga\", \"lebak\", \"warung\", \"walikota\", \"wrga\", \"plat\", \"sampe\", \"dikenakan\", \"koridor\", \"sepeda\", \"kecewa\", \"jurus\", \"depok\", \"kl\", \"batang\", \"rupiah\", \"bos\", \"negri\", \"bojong\", \"kartu\", \"anak\", \"ulang\", \"kompensasi\", \"asi\", \"sehat\", \"sakit\", \"susu\", \"ruang\", \"bayi\", \"siswa\", \"sosial\", \"05\", \"manfaat\", \"didaerah\", \"eksklusif\", \"askes\", \"lapang\", \"lindung\", \"gimana\", \"solusi\", \"e-ktp\", \"timbul\", \"07\", \"pojok\", \"pulau\", \"serang\", \"antri\", \"loket\", \"bagus\", \"kerja\", \"milik\", \"tingkat\", \"rumah\", \"jakarta\", \"kasih\", \"dki\", \"lurah\", \"yth\", \"tindak\", \"terimakasih\", \"pemprov\", \"dinas\", \"provinsi\", \"kait\", \"utara\", \"kena\", \"biaya\", \"selatan\", \"perhati\", \"urus\", \"bangun\", \"informasi\", \"lampu\", \"ditindak\", \"malam\", \"maaf\", \"gawai\", \"lokasi\", \"makan\", \"liar\", \"rusak\", \"minggu\", \"adakah\", \"kali\", \"jalan\", \"mohon\", \"lapor\", \"perintah\", \"jl\", \"barat\", \"warga\", \"timur\", \"terima\", \"camat\", \"rumah\", \"2\", \"air\", \"ambil\", \"dagang\", \"jual\", \"sampah\", \"isi\", \"raya\", \"bensin\", \"angkut\", \"polisi\", \"kaki\", \"ecer\", \"bekasi\", \"susah\", \"byk\", \"pom\", \"mati\", \"tpt\", \"mahal\", \"trotoar\", \"km\", \"truk\", \"bagikan\", \"14\", \"pertamina\", \"hubung\", \"diambil\", \"puluh\", \"habis\", \"toko\", \"motor\", \"mobil\", \"jam\", \"salur\", \"bbm\", \"spbu\", \"harga\", \"subsidi\", \"dr\", \"tanah\", \"rb\", \"sulit\", \"rakyat\", \"kjs\", \"ketua\", \"tim\", \"pluit\", \"muara\", \"i\", \"liter\", \"trima\", \"tsb\", \"coba\", \"grogol\", \"sertifikat\", \"gang\", \"stasiun\", \"300\", \"aman\", \"bntuan\", \"kemarin\", \"tata\", \"langka\", \"dukung\", \"banjir\", \"bantu\", \"tolong\", \"masyarakat\", \"wilayah\", \"utama\", \"butuh\", \"daerah\"], \"Total\": [5389.0, 7189.0, 5988.0, 2687.0, 3084.0, 2078.0, 1725.0, 3191.0, 3975.0, 2380.0, 1155.0, 1894.0, 1403.0, 1778.0, 1759.0, 1950.0, 1070.0, 1836.0, 1308.0, 1338.0, 1309.0, 737.0, 637.0, 1204.0, 2030.0, 881.0, 884.0, 867.0, 1343.0, 845.0, 867.0543823242188, 462.42779541015625, 439.6238708496094, 377.9545593261719, 362.7046203613281, 343.3614501953125, 342.27484130859375, 337.6944274902344, 333.0033264160156, 285.5014343261719, 277.4847412109375, 265.4710693359375, 226.88771057128906, 212.5833740234375, 203.0241241455078, 191.04078674316406, 185.65594482421875, 176.33013916015625, 175.89353942871094, 170.25518798828125, 166.12513732910156, 165.0148468017578, 164.32029724121094, 163.66107177734375, 145.70790100097656, 142.0203094482422, 622.7721557617188, 140.16590881347656, 138.7777862548828, 138.04714965820312, 665.3347778320312, 404.3044738769531, 514.76416015625, 508.27569580078125, 360.14923095703125, 358.3704528808594, 437.6605224609375, 319.9724426269531, 394.9705810546875, 410.5526123046875, 492.56951904296875, 1836.1845703125, 5389.609375, 2078.248779296875, 1403.2152099609375, 884.3921508789062, 845.4340209960938, 527.8294677734375, 497.146240234375, 352.4858093261719, 344.4653625488281, 329.08221435546875, 329.0636901855469, 325.3583068847656, 304.7295227050781, 270.5174255371094, 265.0283508300781, 243.40101623535156, 228.56747436523438, 218.96978759765625, 205.38739013671875, 193.8669891357422, 184.46046447753906, 183.01014709472656, 180.5984344482422, 168.74705505371094, 167.83656311035156, 162.41946411132812, 162.10043334960938, 152.42079162597656, 151.94361877441406, 149.23219299316406, 653.7091674804688, 303.7099609375, 490.9425048828125, 529.1759033203125, 7189.8017578125, 5988.87939453125, 2380.69384765625, 1759.7357177734375, 1338.44775390625, 1309.371337890625, 1059.7939453125, 874.1356811523438, 860.518798828125, 449.4610900878906, 415.4125671386719, 410.0493469238281, 389.0694274902344, 353.82330322265625, 313.433837890625, 304.5252380371094, 291.1977233886719, 276.12066650390625, 258.11865234375, 248.380859375, 231.1937713623047, 226.5179901123047, 186.52871704101562, 179.4078369140625, 173.49168395996094, 169.25137329101562, 168.114013671875, 159.62875366210938, 154.93043518066406, 144.4576873779297, 714.6564331054688, 1836.1845703125, 790.2212524414062, 534.4115600585938, 286.2517395019531, 3975.608154296875, 667.94677734375, 520.1366577148438, 551.0391235351562, 1237.58056640625, 2030.7606201171875, 1238.0272216796875, 983.1085205078125, 1111.8836669921875, 1343.0345458984375, 3191.34912109375, 687.732421875, 395.6347351074219, 387.6105651855469, 317.450439453125, 267.8800964355469, 218.9085693359375, 196.07861328125, 195.9493408203125, 195.59341430664062, 190.5484619140625, 167.1340789794922, 166.9583740234375, 163.18270874023438, 153.7696990966797, 152.44033813476562, 144.69725036621094, 144.47145080566406, 144.1465301513672, 140.68580627441406, 139.10098266601562, 137.9178009033203, 134.42697143554688, 132.3714599609375, 130.57521057128906, 128.66458129882812, 126.80394744873047, 122.94532012939453, 122.60489654541016, 120.67124938964844, 117.57640838623047, 117.36189270019531, 229.99818420410156, 687.732421875, 309.74560546875, 234.41952514648438, 717.3810424804688, 330.833740234375, 202.52447509765625, 1725.873291015625, 1070.9254150390625, 385.95916748046875, 348.6801452636719, 347.2171325683594, 331.0216979980469, 311.98052978515625, 294.6946716308594, 226.0491943359375, 216.1999969482422, 205.9320831298828, 199.19395446777344, 181.40623474121094, 179.74832153320312, 154.67649841308594, 154.60614013671875, 153.7945098876953, 147.7495880126953, 145.23605346679688, 139.05764770507812, 133.6942901611328, 132.04676818847656, 126.3625717163086, 118.41954803466797, 116.46192169189453, 112.64710998535156, 109.70820617675781, 107.11829376220703, 100.65753173828125, 100.18431854248047, 881.7508544921875, 319.9447326660156, 1088.2589111328125, 1343.0345458984375, 740.6973876953125, 187.2987823486328, 327.5837097167969, 641.074951171875, 410.5526123046875, 637.3289184570312, 236.18499755859375, 223.801025390625, 154.95985412597656, 122.18876647949219, 101.14730834960938, 96.60467529296875, 95.8902816772461, 87.57388305664062, 84.55924224853516, 83.909912109375, 83.75209045410156, 83.43163299560547, 82.27432250976562, 79.4244155883789, 79.40165710449219, 78.11760711669922, 77.48020935058594, 76.80024719238281, 76.36070251464844, 75.57278442382812, 71.7922134399414, 70.57278442382812, 70.36056518554688, 68.98606872558594, 65.98593139648438, 64.46880340576172, 61.86930465698242, 60.5506706237793, 58.86157989501953, 1155.22705078125, 737.9240112304688, 478.5425720214844, 466.187744140625, 407.9920959472656, 393.506591796875, 333.795166015625, 261.36474609375, 236.4546356201172, 206.75494384765625, 205.0969696044922, 192.55894470214844, 147.3386993408203, 139.12368774414062, 136.2625274658203, 135.95785522460938, 130.4543914794922, 128.09957885742188, 125.07527923583984, 122.50691986083984, 109.53605651855469, 108.00045776367188, 106.08686828613281, 97.31016540527344, 95.98692321777344, 94.78461456298828, 91.8818130493164, 89.65120697021484, 87.88947296142578, 86.90706634521484, 717.3810424804688, 306.1170654296875, 122.39204406738281, 1238.0272216796875, 3084.152099609375, 1894.9432373046875, 1778.6043701171875, 1308.1331787109375, 1204.120361328125, 995.1902465820312, 925.7462158203125, 808.6597290039062, 656.9006958007812, 613.8199462890625, 605.1334838867188, 599.027099609375, 550.0142822265625, 515.8922119140625, 499.267822265625, 471.92120361328125, 467.4494934082031, 466.414794921875, 351.4444274902344, 319.2330017089844, 307.92401123046875, 249.79241943359375, 234.8002166748047, 220.8259735107422, 199.2657928466797, 195.4923095703125, 193.52134704589844, 178.1599578857422, 170.45864868164062, 170.40452575683594, 788.655517578125, 1950.3729248046875, 3191.34912109375, 1058.0430908203125, 1255.908203125, 397.81683349609375, 671.0811767578125, 2030.7606201171875, 759.427978515625, 3975.608154296875, 1111.8836669921875, 1238.0272216796875, 1088.2589111328125, 426.55584716796875, 396.4147644042969, 376.1457214355469, 307.47613525390625, 283.4569091796875, 278.89093017578125, 267.5872497558594, 265.50347900390625, 183.06716918945312, 180.76287841796875, 178.25173950195312, 177.0226287841797, 175.35621643066406, 164.8494110107422, 142.46986389160156, 128.6020965576172, 115.34486389160156, 106.08922576904297, 100.74319458007812, 98.62908172607422, 96.04727172851562, 95.31029510498047, 91.42514038085938, 86.68836975097656, 85.60331726074219, 84.00884246826172, 81.33284759521484, 78.79173278808594, 75.11660766601562, 74.99526977539062, 529.1759033203125, 490.9425048828125, 508.27569580078125, 340.1224060058594, 2687.14208984375, 651.8095703125, 526.8389282226562, 460.6638488769531, 324.2560119628906, 272.52294921875, 268.1539611816406, 227.13458251953125, 218.63905334472656, 164.31332397460938, 163.7849884033203, 144.19981384277344, 139.16236877441406, 135.92340087890625, 125.86920166015625, 124.48554992675781, 124.28312683105469, 120.9275894165039, 120.05691528320312, 119.05780029296875, 113.5293960571289, 108.69229888916016, 103.42295837402344, 99.10254669189453, 95.05093383789062, 91.40361785888672, 89.90149688720703, 88.62915802001953, 85.02349853515625, 83.84586334228516, 351.99945068359375, 1343.0345458984375, 1237.58056640625, 588.418701171875, 414.07977294921875, 309.74560546875, 218.166748046875, 983.1085205078125], \"loglift\": [30.0, 29.0, 28.0, 27.0, 26.0, 25.0, 24.0, 23.0, 22.0, 21.0, 20.0, 19.0, 18.0, 17.0, 16.0, 15.0, 14.0, 13.0, 12.0, 11.0, 10.0, 9.0, 8.0, 7.0, 6.0, 5.0, 4.0, 3.0, 2.0, 1.0, 2.1682000160217285, 2.1673998832702637, 2.16729998588562, 2.1670000553131104, 2.1668999195098877, 2.166800022125244, 2.166800022125244, 2.1666998863220215, 2.1666998863220215, 2.166300058364868, 2.1661999225616455, 2.166100025177002, 2.165600061416626, 2.165299892425537, 2.16510009765625, 2.164900064468384, 2.164799928665161, 2.1644999980926514, 2.1644999980926514, 2.164400100708008, 2.1642000675201416, 2.1642000675201416, 2.1642000675201416, 2.1642000675201416, 2.163599967956543, 2.1633999347686768, 2.1633999347686768, 2.163300037384033, 2.163300037384033, 2.1631999015808105, 1.9358999729156494, 1.9703999757766724, 1.9098000526428223, 1.9032000303268433, 1.9404000043869019, 1.902899980545044, 1.7281999588012695, 1.8609999418258667, 1.746999979019165, 1.6793999671936035, 1.444200038909912, -0.1006999984383583, 2.174299955368042, 2.174099922180176, 2.1738998889923096, 2.1735000610351562, 2.1735000610351562, 2.1728999614715576, 2.172800064086914, 2.172100067138672, 2.172100067138672, 2.171999931335449, 2.171999931335449, 2.1719000339508057, 2.171799898147583, 2.1714000701904297, 2.1714000701904297, 2.171099901199341, 2.1709001064300537, 2.1707000732421875, 2.1703999042510986, 2.1702001094818115, 2.1700000762939453, 2.1700000762939453, 2.1698999404907227, 2.169600009918213, 2.1695001125335693, 2.1693999767303467, 2.1693999767303467, 2.1689999103546143, 2.1689999103546143, 2.1689000129699707, 1.9213000535964966, 1.9917999505996704, 1.6919000148773193, 1.354599952697754, 1.601099967956543, 1.601099967956543, 1.6009000539779663, 1.6008000373840332, 1.600600004196167, 1.600600004196167, 1.6004999876022339, 1.6002999544143677, 1.6002999544143677, 1.5994000434875488, 1.5993000268936157, 1.5992000102996826, 1.5990999937057495, 1.5988999605178833, 1.5986000299453735, 1.5985000133514404, 1.5983999967575073, 1.5982999801635742, 1.5980000495910645, 1.5979000329971313, 1.5976999998092651, 1.597599983215332, 1.5967999696731567, 1.59660005569458, 1.596500039100647, 1.5964000225067139, 1.5963000059127808, 1.5960999727249146, 1.595900058746338, 1.5954999923706055, 1.5534000396728516, 1.4917999505996704, 1.5161000490188599, 1.5256999731063843, 1.5460000038146973, 1.226199984550476, 1.3930000066757202, 1.4098999500274658, 1.382200002670288, 1.1333999633789062, 0.8428000211715698, 0.9609000086784363, 1.0159000158309937, 0.8281000256538391, 0.5778999924659729, -0.4388999938964844, 0.8435999751091003, 2.5090999603271484, 2.5090999603271484, 2.5085999965667725, 2.50819993019104, 2.507499933242798, 2.506999969482422, 2.506999969482422, 2.506999969482422, 2.5069000720977783, 2.5062999725341797, 2.5062999725341797, 2.506200075149536, 2.5058999061584473, 2.5058000087738037, 2.505500078201294, 2.505500078201294, 2.505500078201294, 2.5053999423980713, 2.5053000450134277, 2.505199909210205, 2.5051000118255615, 2.505000114440918, 2.5048999786376953, 2.5048000812530518, 2.504699945449829, 2.504499912261963, 2.504499912261963, 2.5044000148773193, 2.504199981689453, 2.504199981689453, 2.2843000888824463, 1.5331000089645386, 1.9149999618530273, 2.0897998809814453, 1.267899990081787, 1.7207000255584717, 2.0694000720977783, 2.5374999046325684, 2.5371999740600586, 2.535799980163574, 2.535599946975708, 2.535599946975708, 2.5355000495910645, 2.5353000164031982, 2.5352001190185547, 2.5343000888824463, 2.5341999530792236, 2.5339999198913574, 2.533799886703491, 2.533400058746338, 2.533400058746338, 2.532599925994873, 2.532599925994873, 2.532599925994873, 2.532399892807007, 2.5322999954223633, 2.5320000648498535, 2.5318000316619873, 2.5316998958587646, 2.531399965286255, 2.5309998989105225, 2.530900001525879, 2.530600070953369, 2.530400037765503, 2.5302000045776367, 2.5297000408172607, 2.5297000408172607, 2.3975000381469727, 2.184299945831299, 1.7060999870300293, 1.4412000179290771, 1.5972000360488892, 2.2623000144958496, 1.9404000043869019, 1.4069000482559204, 1.5845999717712402, 3.20770001411438, 3.2054998874664307, 3.2053000926971436, 3.2035999298095703, 3.202199935913086, 3.200700044631958, 3.2004001140594482, 3.2002999782562256, 3.19950008392334, 3.1991000175476074, 3.1989998817443848, 3.1989998817443848, 3.1989998817443848, 3.1988000869750977, 3.198499917984009, 3.198499917984009, 3.1982998847961426, 3.198199987411499, 3.1981000900268555, 3.197999954223633, 3.1979000568389893, 3.1972999572753906, 3.1970999240875244, 3.1970999240875244, 3.196899890899658, 3.1963000297546387, 3.196000099182129, 3.1953999996185303, 3.1951000690460205, 3.194700002670288, 2.821199893951416, 2.8208000659942627, 2.820199966430664, 2.820199966430664, 2.8199000358581543, 2.8197999000549316, 2.819499969482422, 2.8187999725341797, 2.8183999061584473, 2.8178999423980713, 2.8178999423980713, 2.8176000118255615, 2.8162999153137207, 2.815999984741211, 2.8159000873565674, 2.8157999515533447, 2.8155999183654785, 2.815500020980835, 2.8152999877929688, 2.815200090408325, 2.8143999576568604, 2.814300060272217, 2.8141000270843506, 2.8134000301361084, 2.8132998943328857, 2.813199996948242, 2.8129000663757324, 2.812700033187866, 2.8125, 2.8124001026153564, 1.5717999935150146, 1.9240000247955322, 2.5710999965667725, 0.29660001397132874, 1.6777000427246094, 1.6775000095367432, 1.6775000095367432, 1.677299976348877, 1.677299976348877, 1.6770999431610107, 1.6770999431610107, 1.676900029182434, 1.6766999959945679, 1.6765999794006348, 1.6765999794006348, 1.6765999794006348, 1.6763999462127686, 1.676300048828125, 1.676300048828125, 1.676200032234192, 1.676200032234192, 1.676200032234192, 1.6756000518798828, 1.6754000186920166, 1.6753000020980835, 1.6746000051498413, 1.674399971961975, 1.6742000579833984, 1.673799991607666, 1.673699975013733, 1.673699975013733, 1.67330002784729, 1.6730999946594238, 1.6730999946594238, 1.6687999963760376, 1.6238000392913818, 1.5384000539779663, 1.5891000032424927, 1.5714000463485718, 1.5684000253677368, 1.3961000442504883, 1.0455000400543213, 1.2412999868392944, 0.5149000287055969, 1.0577000379562378, 0.7422999739646912, 0.6506999731063843, 2.975800037384033, 2.975600004196167, 2.9755001068115234, 2.9749999046325684, 2.9748001098632812, 2.9748001098632812, 2.974600076675415, 2.974600076675415, 2.9732000827789307, 2.973099946975708, 2.973099946975708, 2.9730000495910645, 2.9730000495910645, 2.9727001190185547, 2.97189998626709, 2.971299886703491, 2.9704999923706055, 2.969899892807007, 2.9695000648498535, 2.9693000316619873, 2.969099998474121, 2.9690001010894775, 2.968600034713745, 2.968100070953369, 2.9679999351501465, 2.9677999019622803, 2.9674999713897705, 2.967099905014038, 2.966599941253662, 2.966599941253662, 1.9905999898910522, 2.0136001110076904, 1.517300009727478, 1.8282999992370605, 2.621500015258789, 2.620500087738037, 2.6201999187469482, 2.619999885559082, 2.6191999912261963, 2.6187000274658203, 2.6187000274658203, 2.6180999279022217, 2.618000030517578, 2.6166999340057373, 2.6166999340057373, 2.615999937057495, 2.615799903869629, 2.615600109100342, 2.6152000427246094, 2.6150999069213867, 2.6150999069213867, 2.6149001121520996, 2.614799976348877, 2.614799976348877, 2.6143999099731445, 2.6140999794006348, 2.6136999130249023, 2.6133999824523926, 2.61299991607666, 2.612600088119507, 2.612499952316284, 2.6124000549316406, 2.611999988555908, 2.611799955368042, 2.2904000282287598, 1.4381999969482422, 1.4106999635696411, 1.6335999965667725, 1.6518000364303589, 1.816100001335144, 1.9348000288009644, 0.6097000241279602], \"logprob\": [30.0, 29.0, 28.0, 27.0, 26.0, 25.0, 24.0, 23.0, 22.0, 21.0, 20.0, 19.0, 18.0, 17.0, 16.0, 15.0, 14.0, 13.0, 12.0, 11.0, 10.0, 9.0, 8.0, 7.0, 6.0, 5.0, 4.0, 3.0, 2.0, 1.0, -3.724100112915039, -4.353499889373779, -4.404200077056885, -4.555699825286865, -4.59689998626709, -4.651899814605713, -4.65500020980835, -4.668499946594238, -4.682600021362305, -4.836900234222412, -4.865499973297119, -4.909800052642822, -5.067399978637695, -5.132800102233887, -5.178999900817871, -5.240099906921387, -5.268799781799316, -5.3206000328063965, -5.322999954223633, -5.355800151824951, -5.380499839782715, -5.387199878692627, -5.39139986038208, -5.395500183105469, -5.51230001449585, -5.538099765777588, -4.059899806976318, -5.551300048828125, -5.561299800872803, -5.5665998458862305, -4.221199989318848, -4.684800148010254, -4.504000186920166, -4.5233001708984375, -4.83050012588501, -4.873000144958496, -4.847799777984619, -5.028200149536133, -4.931700229644775, -4.9604997634887695, -5.013599872589111, -5.242700099945068, -1.8909000158309937, -2.844099998474121, -3.236999988555908, -3.6989998817443848, -3.7441000938415527, -4.215799808502197, -4.275700092315674, -4.620299816131592, -4.643400192260742, -4.689199924468994, -4.689199924468994, -4.7006001472473145, -4.766300201416016, -4.885700225830078, -4.906199932098389, -4.991700172424316, -5.054800033569336, -5.097799777984619, -5.162099838256836, -5.220099925994873, -5.269999980926514, -5.277900218963623, -5.291299819946289, -5.359499931335449, -5.3649001121521, -5.397900104522705, -5.399899959564209, -5.4618000984191895, -5.464900016784668, -5.482999801635742, -4.253499984741211, -4.9496002197265625, -4.769199848175049, -5.031599998474121, -2.1758999824523926, -2.3587000370025635, -3.281399965286255, -3.583699941635132, -3.8575000762939453, -3.879499912261963, -4.091100215911865, -4.283899784088135, -4.299600124359131, -4.949999809265137, -5.028900146484375, -5.041900157928467, -5.094600200653076, -5.189700126647949, -5.311200141906738, -5.340199947357178, -5.385000228881836, -5.438300132751465, -5.50600004196167, -5.544600009918213, -5.616499900817871, -5.63700008392334, -5.831999778747559, -5.871099948883057, -5.904799938201904, -5.929699897766113, -5.936500072479248, -5.988500118255615, -6.018599987030029, -6.088900089263916, -4.532199859619141, -3.6501998901367188, -4.468999862670898, -4.850599765777588, -5.454599857330322, -3.1433000564575195, -4.760200023651123, -4.9934000968933105, -4.963399887084961, -4.40310001373291, -4.198500156402588, -4.575200080871582, -4.750800132751465, -4.815499782562256, -4.8769001960754395, -5.028200149536133, -5.280399799346924, -4.167799949645996, -4.188300132751465, -4.388500213623047, -4.558700084686279, -4.761300086975098, -4.8719000816345215, -4.872600078582764, -4.8744001388549805, -4.900599956512451, -5.032299995422363, -5.033400058746338, -5.056399822235107, -5.116099834442139, -5.124800205230713, -5.177299976348877, -5.178800106048584, -5.181099891662598, -5.20550012588501, -5.216899871826172, -5.225500106811523, -5.251299858093262, -5.2667999267578125, -5.280600070953369, -5.295400142669678, -5.310100078582764, -5.34119987487793, -5.343999862670898, -5.360000133514404, -5.386099815368652, -5.388000011444092, -4.935100078582764, -4.59089994430542, -5.006700038909912, -5.110499858856201, -4.813899993896484, -5.1350998878479, -5.277100086212158, -2.6663999557495117, -3.143899917602539, -4.165900230407715, -4.2677001953125, -4.271900177001953, -4.319799900054932, -4.379199981689453, -4.436299800872803, -4.702400207519531, -4.747099876403809, -4.795899868011475, -4.8292999267578125, -4.923299789428711, -4.932499885559082, -5.083499908447266, -5.083899974822998, -5.089200019836426, -5.129499912261963, -5.1468000411987305, -5.190499782562256, -5.230100154876709, -5.242599964141846, -5.286900043487549, -5.352200031280518, -5.36899995803833, -5.402599811553955, -5.429200172424316, -5.4532999992370605, -5.515999794006348, -5.520699977874756, -3.4779999256134033, -4.704999923706055, -3.9590001106262207, -4.013500213623047, -4.452600002288818, -5.162399768829346, -4.925300121307373, -4.787399768829346, -5.055300235748291, -2.9923999309539795, -3.987299919128418, -4.041399955749512, -4.410600185394287, -4.649700164794922, -4.840099811553955, -4.886499881744385, -4.893899917602539, -4.985499858856201, -5.020899772644043, -5.02869987487793, -5.030600070953369, -5.03439998626709, -5.048500061035156, -5.084199905395508, -5.084499835968018, -5.100900173187256, -5.1092000007629395, -5.118100166320801, -5.123899936676025, -5.134399890899658, -5.186299800872803, -5.203700065612793, -5.206699848175049, -5.2266998291015625, -5.271699905395508, -5.295300006866455, -5.336999893188477, -5.358799934387207, -5.387499809265137, -2.7841999530792236, -3.232800006866455, -3.6665000915527344, -3.692699909210205, -3.8262999057769775, -3.862499952316284, -4.027400016784668, -4.27269983291626, -4.373199939727783, -4.507999897003174, -4.51609992980957, -4.579400062561035, -4.848400115966797, -4.906099796295166, -4.927000045776367, -4.929299831390381, -4.970799922943115, -4.989200115203857, -5.013199806213379, -5.03410005569458, -5.1468000411987305, -5.160999774932861, -5.179100036621094, -5.26609992980957, -5.279900074005127, -5.292699813842773, -5.323999881744385, -5.348800182342529, -5.368899822235107, -5.380199909210205, -4.510000228881836, -5.009500026702881, -5.279099941253662, -5.23960018157959, -2.94569993019104, -3.433000087738037, -3.4964001178741455, -3.803800106048584, -3.886699914932251, -4.077400207519531, -4.149799823760986, -4.285099983215332, -4.493199825286865, -4.561100006103516, -4.575399875640869, -4.585599899291992, -4.671000003814697, -4.735199928283691, -4.76800012588501, -4.824399948120117, -4.834000110626221, -4.83620023727417, -5.119800090789795, -5.21619987487793, -5.252299785614014, -5.462200164794922, -5.5243000984191895, -5.585899829864502, -5.689000129699707, -5.708199977874756, -5.718400001525879, -5.801400184631348, -5.845799922943115, -5.846199989318848, -4.318299770355225, -3.457900047302246, -3.050800085067749, -4.1041998863220215, -3.9504001140594482, -5.103000164031982, -4.752399921417236, -3.995800018310547, -4.783599853515625, -3.854599952697754, -4.585999965667725, -4.793900012969971, -5.014500141143799, -3.6259000301361084, -3.6993000507354736, -3.7518999576568604, -3.9539999961853027, -4.035600185394287, -4.0518999099731445, -4.093400001525879, -4.101200103759766, -4.474400043487549, -4.487100124359131, -4.501200199127197, -4.5081000328063965, -4.517600059509277, -4.579699993133545, -4.726399898529053, -4.829500198364258, -4.939000129699707, -5.0233001708984375, -5.075399875640869, -5.096799850463867, -5.123499870300293, -5.13129997253418, -5.173299789428711, -5.2270002365112305, -5.239699840545654, -5.258699893951416, -5.291399955749512, -5.323500156402588, -5.371799945831299, -5.3734002113342285, -4.395500183105469, -4.447500228881836, -4.90910005569458, -4.999800205230713, -2.139699935913086, -3.5571999549865723, -3.7702999114990234, -3.9047999382019043, -4.256700038909912, -4.431000232696533, -4.447199821472168, -4.613800048828125, -4.6519999504089355, -4.939000129699707, -4.942200183868408, -5.070199966430664, -5.105999946594238, -5.129700183868408, -5.206999778747559, -5.218200206756592, -5.219799995422363, -5.247399806976318, -5.2546000480651855, -5.2631001472473145, -5.3109002113342285, -5.354800224304199, -5.404900074005127, -5.44789981842041, -5.489999771118164, -5.5295000076293945, -5.546199798583984, -5.5605998039245605, -5.60260009765625, -5.616600036621094, -4.503399848937988, -4.016499996185303, -4.125800132751465, -4.646399974822998, -4.979599952697754, -5.105599880218506, -5.337399959564209, -5.1570000648498535]}, \"token.table\": {\"Topic\": [2, 5, 5, 5, 5, 7, 7, 1, 4, 5, 8, 1, 5, 8, 1, 9, 1, 4, 5, 8, 1, 1, 1, 4, 5, 8, 4, 10, 1, 4, 5, 8, 4, 5, 8, 2, 3, 1, 9, 5, 4, 5, 1, 10, 9, 7, 4, 9, 7, 5, 4, 7, 7, 4, 9, 7, 3, 8, 4, 10, 3, 5, 10, 3, 8, 6, 1, 7, 10, 9, 2, 9, 3, 4, 8, 6, 4, 3, 2, 5, 10, 2, 3, 5, 6, 6, 1, 5, 3, 4, 4, 7, 8, 10, 9, 5, 1, 3, 8, 3, 10, 2, 3, 4, 8, 10, 1, 9, 1, 3, 3, 6, 3, 3, 2, 9, 7, 2, 1, 6, 8, 8, 2, 8, 2, 10, 3, 4, 10, 3, 7, 9, 7, 5, 2, 5, 2, 10, 4, 8, 7, 10, 5, 9, 4, 3, 7, 4, 5, 10, 4, 5, 9, 10, 4, 4, 8, 9, 8, 4, 8, 4, 1, 9, 3, 3, 5, 3, 3, 3, 4, 9, 2, 5, 8, 6, 6, 9, 6, 1, 3, 1, 3, 8, 9, 4, 8, 1, 8, 7, 8, 2, 3, 6, 3, 8, 1, 4, 10, 8, 4, 1, 3, 1, 4, 5, 7, 10, 3, 1, 10, 5, 6, 9, 2, 6, 5, 7, 6, 1, 3, 4, 5, 5, 3, 2, 6, 1, 8, 8, 10, 7, 1, 4, 8, 3, 4, 1, 6, 6, 8, 7, 4, 9, 10, 8, 7, 8, 4, 8, 4, 8, 9, 8, 8, 7, 6, 1, 4, 8, 1, 3, 4, 10, 9, 1, 6, 2, 7, 8, 8, 3, 2, 9, 3, 8, 2, 8, 9, 2, 10, 2, 1, 3, 5, 4, 1, 6, 1, 5, 1, 2, 8, 10, 1, 1, 1, 3, 2, 6, 6, 2, 2, 8, 4, 8, 5, 7, 8, 10, 9, 6, 10, 1, 7, 9, 9, 3, 3, 2, 4, 8, 4, 7, 9, 1, 7, 10, 3, 9, 10, 4, 5, 1, 1, 5, 7, 3, 7, 8, 4, 6, 8, 5, 7, 1, 3, 7, 3, 9, 9, 6, 3, 2, 5, 2, 7, 1, 8, 3, 8, 6, 7, 5, 10, 3, 7, 1, 1, 7, 7, 10, 10, 1, 3, 5, 10, 6, 10, 4, 1, 9, 7, 6, 3, 10, 1, 3, 1, 3, 10, 2, 2, 5, 1, 3, 8, 8, 5, 10, 7, 3, 8, 8, 7, 8, 3, 2, 9, 3, 4, 9, 10, 2, 9, 4, 10, 9, 9, 10, 5, 1, 4, 8, 4, 4, 4, 8, 1, 1, 3, 7, 5, 8, 1, 4, 8, 4, 10, 8, 2, 6, 3, 8, 6, 8, 10, 6, 2, 8], \"Freq\": [0.9994866251945496, 0.9953585863113403, 0.9958368539810181, 0.9940060973167419, 0.9954738616943359, 0.9977012276649475, 0.9865362048149109, 0.17010995745658875, 0.16200947761535645, 0.3901728391647339, 0.27811628580093384, 0.20628562569618225, 0.7032464742660522, 0.09064065665006638, 0.9916819334030151, 0.9920592904090881, 0.1167001724243164, 0.09005209803581238, 0.43555811047554016, 0.3583706021308899, 0.997943639755249, 0.9974744319915771, 0.22618259489536285, 0.13570955395698547, 0.3228951692581177, 0.3135358691215515, 0.9948347806930542, 0.9888746738433838, 0.0824216827750206, 0.19842256605625153, 0.5494778752326965, 0.16789601743221283, 0.2349187731742859, 0.7581469416618347, 0.9976260662078857, 0.8330315947532654, 0.16463075578212738, 0.9932271838188171, 0.9986969232559204, 0.9948068857192993, 0.9969660639762878, 0.9964945912361145, 0.9982255101203918, 0.9889434576034546, 0.9989537000656128, 0.9987478256225586, 0.9950662851333618, 0.994170606136322, 0.9927362203598022, 0.9923941493034363, 0.9927522540092468, 0.9975683689117432, 0.9965168833732605, 0.998581051826477, 0.9953498244285583, 0.9895628094673157, 0.9968317151069641, 0.9991106986999512, 0.2812504470348358, 0.7187511324882507, 0.35963332653045654, 0.33357295393943787, 0.30602338910102844, 0.24438175559043884, 0.7540071606636047, 0.9850584864616394, 0.9969870448112488, 0.9963486194610596, 0.9995749592781067, 0.9979686141014099, 0.9986217617988586, 0.998103678226471, 0.9977267384529114, 0.993345320224762, 0.998270571231842, 0.9949827790260315, 0.9920850396156311, 0.9998531341552734, 0.9984285235404968, 0.9881786108016968, 0.99558424949646, 0.9972392916679382, 0.9977132678031921, 0.9971306920051575, 0.9853625893592834, 0.9859493374824524, 0.9928157329559326, 0.9960337281227112, 0.993373453617096, 0.9958495497703552, 0.9967367053031921, 0.2933535873889923, 0.20168060064315796, 0.5042014718055725, 0.9967020153999329, 0.9949266314506531, 0.9945520162582397, 0.46137920022010803, 0.5378260612487793, 0.9959414005279541, 0.9911965727806091, 0.9995566010475159, 0.5574155449867249, 0.021360816434025764, 0.28684523701667786, 0.13325080275535583, 0.9985808730125427, 0.9969540238380432, 0.08098997920751572, 0.9187300205230713, 0.9987007975578308, 0.9948754906654358, 0.9997085332870483, 0.9926064014434814, 0.9980872869491577, 0.9959076046943665, 0.9907345771789551, 0.9950156211853027, 0.994920015335083, 0.9895801544189453, 0.9986288547515869, 0.996999204158783, 0.9955729246139526, 0.9996601939201355, 0.9991340041160583, 0.9961264729499817, 0.9990068674087524, 0.9944373965263367, 0.989911675453186, 0.9956661462783813, 0.9907365441322327, 0.9942231774330139, 0.9929547905921936, 0.9977606534957886, 0.9988987445831299, 0.9956263899803162, 0.9983524680137634, 0.9936306476593018, 0.9971113801002502, 0.9962596297264099, 0.9958621263504028, 0.9911152124404907, 0.9975148439407349, 0.985135018825531, 0.9969164133071899, 0.9529054164886475, 0.046176034957170486, 0.9951551556587219, 0.9976427555084229, 0.9984076023101807, 0.9949944615364075, 0.9914893507957458, 0.987991213798523, 0.9930943846702576, 0.9951252341270447, 0.9967145919799805, 0.9987354278564453, 0.9968054294586182, 0.9996264576911926, 0.0522976890206337, 0.9475110769271851, 0.996823787689209, 0.7673001289367676, 0.23215746879577637, 0.9971659779548645, 0.9281236529350281, 0.07110624760389328, 0.9948365092277527, 0.9939944744110107, 0.9989741444587708, 0.6569418907165527, 0.34126850962638855, 0.9974173903465271, 0.10306250303983688, 0.8973979353904724, 0.9902710914611816, 0.9937407374382019, 0.9984514713287354, 0.9918837547302246, 0.9943954348564148, 0.9992508292198181, 0.1959933489561081, 0.8039356470108032, 0.9981268644332886, 0.9929776787757874, 0.007607884239405394, 0.9902929663658142, 0.7712269425392151, 0.22728854417800903, 0.9989378452301025, 0.9995022416114807, 0.9976943731307983, 0.9996654391288757, 0.9889652132987976, 0.826705813407898, 0.17303144931793213, 0.9951416254043579, 0.9950975775718689, 0.9899724125862122, 0.9981558918952942, 0.998424768447876, 0.8186899423599243, 0.1780836135149002, 0.2495187222957611, 0.2885495722293854, 0.17563886940479279, 0.2871556282043457, 0.9952071905136108, 0.9976730942726135, 0.9980507493019104, 0.9920071959495544, 0.9980493783950806, 0.9857062697410583, 0.9890962839126587, 0.9966863989830017, 0.9907156229019165, 0.9964570999145508, 0.9974521994590759, 0.9952763319015503, 0.10178377479314804, 0.46820536255836487, 0.3765999674797058, 0.052345938980579376, 0.9895601868629456, 0.9998884797096252, 0.9932113885879517, 0.9964208006858826, 0.6443350315093994, 0.3541557788848877, 0.9961376190185547, 0.9879621863365173, 0.9914162158966064, 0.05103761702775955, 0.034025080502033234, 0.914896547794342, 0.9467191100120544, 0.052401427179574966, 0.9980573058128357, 0.9948264956474304, 0.9891560673713684, 0.9973059892654419, 0.9914029240608215, 0.7956584692001343, 0.2000015825033188, 0.9960995316505432, 0.9936476945877075, 0.9898796677589417, 0.9991337656974792, 0.9971938133239746, 0.9965919256210327, 0.4533999562263489, 0.5440799593925476, 0.9926228523254395, 0.9974817037582397, 0.9968276619911194, 0.9919230937957764, 0.9910200238227844, 0.48521068692207336, 0.18474549055099487, 0.32888758182525635, 0.14615443348884583, 0.33479562401771545, 0.14615443348884583, 0.3721839487552643, 0.9970101714134216, 0.9982436895370483, 0.9938057661056519, 0.9955711364746094, 0.4083405137062073, 0.5912770628929138, 0.9973093271255493, 0.9997164011001587, 0.6171802282333374, 0.38089999556541443, 0.1300390511751175, 0.8698515295982361, 0.44030728936195374, 0.18519361317157745, 0.3722769618034363, 0.9955279231071472, 0.9932064414024353, 0.9937896728515625, 0.12588590383529663, 0.004536428954452276, 0.8687261343002319, 0.9955947995185852, 0.9949556589126587, 0.9909056425094604, 0.6138068437576294, 0.38484713435173035, 0.9938499927520752, 0.7771039605140686, 0.13155697286128998, 0.09178393334150314, 0.9989473223686218, 0.9960874319076538, 0.10347543656826019, 0.8964240550994873, 0.9976059794425964, 0.9886570572853088, 0.9933863878250122, 0.9975036978721619, 0.996767520904541, 0.9991841912269592, 0.994259774684906, 0.998047947883606, 0.9960794448852539, 0.04220053553581238, 0.8989510536193848, 0.05892150476574898, 0.9929521679878235, 0.9856932759284973, 0.9916473627090454, 0.997255802154541, 0.9897181391716003, 0.9957796931266785, 0.9953181147575378, 0.9982752203941345, 0.9971655011177063, 0.9961198568344116, 0.9923110604286194, 0.9986642003059387, 0.9983956813812256, 0.9917221069335938, 0.9899515509605408, 0.7344382405281067, 0.2625226080417633, 0.9970771074295044, 0.9993970990180969, 0.9978054165840149, 0.9956966638565063, 0.9936599135398865, 0.9968571066856384, 0.9987839460372925, 0.9981276988983154, 0.9994940161705017, 0.9980772733688354, 0.5274520516395569, 0.07996593415737152, 0.39256003499031067, 0.9951813220977783, 0.9927282333374023, 0.9934892058372498, 0.9991358518600464, 0.997617781162262, 0.10479877144098282, 0.8114418983459473, 0.08234188705682755, 0.6821073889732361, 0.3175327479839325, 0.9983881115913391, 0.9938021898269653, 0.9995819330215454, 0.9944803714752197, 0.9948339462280273, 0.9975172281265259, 0.9987125992774963, 0.9939429759979248, 0.004817171022295952, 0.9974409341812134, 0.997460663318634, 0.9924207329750061, 0.9904027581214905, 0.9935446381568909, 0.9953369498252869, 0.9958869218826294, 0.9946514368057251, 0.9959607124328613, 0.9982531070709229, 0.9951061010360718, 0.9970972537994385, 0.9987579584121704, 0.9959104061126709, 0.7673623561859131, 0.23160392045974731, 0.9942554235458374, 0.9985589385032654, 0.9934468865394592, 0.9950047731399536, 0.992046058177948, 0.9990748763084412, 0.9948473572731018, 0.9986044764518738, 0.9979148507118225, 0.9986158609390259, 0.9980810880661011, 0.9926276206970215, 0.9972513318061829, 0.9962753653526306, 0.9960611462593079, 0.9929012060165405, 0.9981138706207275, 0.9993991255760193, 0.9920727610588074, 0.996466875076294, 0.6871904730796814, 0.31265658140182495, 0.9991939067840576, 0.9944496154785156, 0.9916794896125793, 0.9897549152374268, 0.35289719700813293, 0.6465392708778381, 0.998803973197937, 0.7761942148208618, 0.2124321013689041, 0.9984666109085083, 0.9917430877685547, 0.9867289066314697, 0.6262218356132507, 0.07272253930568695, 0.0024240845814347267, 0.29816240072250366, 0.998649001121521, 0.9897329211235046, 0.9971216917037964, 0.989675760269165, 0.9936217665672302, 0.9862523078918457, 0.9923293590545654, 0.996913492679596, 0.6557450294494629, 0.23292873799800873, 0.10886886715888977, 0.9932145476341248, 0.9944990873336792, 0.6418977379798889, 0.3555125892162323, 0.9924145340919495, 0.7920824289321899, 0.20741437375545502, 0.9988662004470825, 0.9934676289558411, 0.9990383982658386, 0.7968918681144714, 0.0583091638982296, 0.14438459277153015, 0.5520659685134888, 0.4455268979072571, 0.9982854127883911, 0.9967114329338074, 0.9946563839912415, 0.46829745173454285, 0.531328022480011, 0.9845113158226013, 0.6182383894920349, 0.3791539967060089, 0.9949414730072021, 0.9998869299888611, 0.9990695714950562], \"Term\": [\" \", \"01\", \"02\", \"03\", \"04\", \"05\", \"07\", \"1\", \"1\", \"1\", \"1\", \"10\", \"10\", \"10\", \"11\", \"14\", \"2\", \"2\", \"2\", \"2\", \"2012\", \"2013\", \"3\", \"3\", \"3\", \"3\", \"30\", \"300\", \"4\", \"4\", \"4\", \"4\", \"7\", \"7\", \"adakah\", \"adil\", \"adil\", \"adu\", \"air\", \"ajar\", \"akibat\", \"alamat\", \"alas\", \"aman\", \"ambil\", \"anak\", \"angkat\", \"angkut\", \"antri\", \"aparat\", \"arah\", \"asi\", \"askes\", \"atur\", \"bagikan\", \"bagus\", \"bandung\", \"bangun\", \"banjir\", \"banjir\", \"bantu\", \"bantu\", \"bantu\", \"barat\", \"barat\", \"batang\", \"bayar\", \"bayi\", \"bbm\", \"bekasi\", \"beli\", \"bensin\", \"beras\", \"bersih\", \"biaya\", \"blm\", \"blok\", \"blsm\", \"blt\", \"blum\", \"bntuan\", \"bnyak\", \"bnyk\", \"bogor\", \"bojong\", \"bos\", \"bpn\", \"bs\", \"buruh\", \"bus\", \"busway\", \"butuh\", \"butuh\", \"butuh\", \"byk\", \"cair\", \"cakung\", \"camat\", \"camat\", \"cek\", \"coba\", \"d\", \"daerah\", \"daerah\", \"daerah\", \"daerah\", \"daftar\", \"dagang\", \"dana\", \"dana\", \"data\", \"depok\", \"desa\", \"dg\", \"dgn\", \"diambil\", \"didaerah\", \"didesa\", \"didik\", \"dikenakan\", \"dinas\", \"ditindak\", \"ditinjau\", \"dki\", \"dpt\", \"dr\", \"ds\", \"duduk\", \"dukung\", \"dusun\", \"e-ktp\", \"ecer\", \"eksklusif\", \"g\", \"ga\", \"gaji\", \"gak\", \"gang\", \"ganti\", \"gawai\", \"gimana\", \"grogol\", \"guru\", \"habis\", \"hadap\", \"hak\", \"hak\", \"halte\", \"harap\", \"harga\", \"henti\", \"honorer\", \"hubung\", \"i\", \"indah\", \"indonesia\", \"informasi\", \"isi\", \"jakarta\", \"jalan\", \"jalan\", \"jalur\", \"jam\", \"jam\", \"jamkesmas\", \"janda\", \"janda\", \"jateng\", \"jatim\", \"jawa\", \"jembatan\", \"jembatan\", \"jg\", \"jl\", \"jl\", \"jln\", \"jombang\", \"jual\", \"jurus\", \"juta\", \"kab\", \"kabupaten\", \"kabupaten\", \"kait\", \"kaki\", \"kali\", \"kali\", \"kantor\", \"kantor\", \"kartu\", \"kasih\", \"kaya\", \"kec\", \"kecewa\", \"kel\", \"kel\", \"kelas\", \"kelola\", \"kemarin\", \"kena\", \"kendara\", \"kepala\", \"kepala\", \"kerja\", \"kerja\", \"kerja\", \"kerja\", \"ketua\", \"kg\", \"kirim\", \"kjs\", \"kk\", \"kl\", \"km\", \"kmi\", \"knp\", \"ko\", \"kompensasi\", \"koridor\", \"kota\", \"kota\", \"kota\", \"kota\", \"kpd\", \"kps\", \"krn\", \"ktp\", \"laku\", \"laku\", \"lampu\", \"langka\", \"lapang\", \"lapor\", \"lapor\", \"lapor\", \"layak\", \"layak\", \"layan\", \"lebak\", \"lg\", \"liar\", \"lindung\", \"lintas\", \"lintas\", \"liter\", \"lokasi\", \"loket\", \"lurah\", \"m\", \"maaf\", \"macet\", \"macet\", \"mahal\", \"makan\", \"malam\", \"manfaat\", \"mangga\", \"masuk\", \"masuk\", \"masuk\", \"masyarakat\", \"masyarakat\", \"masyarakat\", \"masyarakat\", \"mati\", \"menteri\", \"merah\", \"mhn\", \"milik\", \"milik\", \"minggu\", \"miskin\", \"mobil\", \"mobil\", \"mohon\", \"mohon\", \"motor\", \"motor\", \"motor\", \"msh\", \"muara\", \"n\", \"nama\", \"nama\", \"nama\", \"negara\", \"negeri\", \"negri\", \"no\", \"no\", \"nomor\", \"nya\", \"nya\", \"nya\", \"nyata\", \"obat\", \"orang\", \"orang\", \"org\", \"pa\", \"pademangan\", \"parkir\", \"pasar\", \"pemprov\", \"penuh\", \"perhati\", \"perhatikan\", \"perintah\", \"perintah\", \"perintah\", \"pertamina\", \"plat\", \"pluit\", \"pns\", \"pojok\", \"polisi\", \"pom\", \"pos\", \"potong\", \"premium\", \"pribadi\", \"provinsi\", \"pt\", \"pulau\", \"puluh\", \"puskesmas\", \"puskesmas\", \"rakyat\", \"raskin\", \"raya\", \"rb\", \"resmi\", \"ribu\", \"rp\", \"rs\", \"rt\", \"ruang\", \"rumah\", \"rumah\", \"rumah\", \"rupa\", \"rupiah\", \"rusak\", \"rw\", \"sakit\", \"salah\", \"salah\", \"salah\", \"salur\", \"salur\", \"sampah\", \"sampe\", \"sasar\", \"sawah\", \"sd\", \"sdh\", \"sehat\", \"sekolah\", \"sekolah\", \"selamat\", \"selatan\", \"sepeda\", \"serang\", \"serdang\", \"sertifikat\", \"siang\", \"siswa\", \"sma\", \"solar\", \"solusi\", \"sosial\", \"spbu\", \"stasiun\", \"suai\", \"suai\", \"suami\", \"subsidi\", \"suka\", \"sulit\", \"sumatera\", \"surat\", \"susah\", \"susu\", \"sy\", \"sya\", \"tanah\", \"tanda\", \"tangga\", \"tanggal\", \"tanjung\", \"tata\", \"tdak\", \"tdk\", \"tegal\", \"terang\", \"terima\", \"terima\", \"terimakasih\", \"tetangga\", \"tim\", \"timbul\", \"timur\", \"timur\", \"tindak\", \"tingkat\", \"tingkat\", \"tinjau\", \"tlg\", \"toko\", \"tolong\", \"tolong\", \"tolong\", \"tolong\", \"tp\", \"tpt\", \"transjakarta\", \"trima\", \"trotoar\", \"truk\", \"tsb\", \"tua\", \"tugas\", \"tugas\", \"tugas\", \"tuju\", \"tumpang\", \"tunggu\", \"tunggu\", \"tunjang\", \"uang\", \"uang\", \"ulang\", \"umur\", \"urus\", \"usaha\", \"usaha\", \"usaha\", \"utama\", \"utama\", \"utara\", \"utk\", \"walikota\", \"warga\", \"warga\", \"warung\", \"wilayah\", \"wilayah\", \"wrga\", \"yg\", \"yth\"]}, \"R\": 30, \"lambda.step\": 0.01, \"plot.opts\": {\"xlab\": \"PC1\", \"ylab\": \"PC2\"}, \"topic.order\": [1, 2, 3, 4, 5, 6, 7, 8, 9, 10]};\n",
       "\n",
       "function LDAvis_load_lib(url, callback){\n",
       "  var s = document.createElement('script');\n",
       "  s.src = url;\n",
       "  s.async = true;\n",
       "  s.onreadystatechange = s.onload = callback;\n",
       "  s.onerror = function(){console.warn(\"failed to load library \" + url);};\n",
       "  document.getElementsByTagName(\"head\")[0].appendChild(s);\n",
       "}\n",
       "\n",
       "if(typeof(LDAvis) !== \"undefined\"){\n",
       "   // already loaded: just create the visualization\n",
       "   !function(LDAvis){\n",
       "       new LDAvis(\"#\" + \"ldavis_el11876196178580402469267043\", ldavis_el11876196178580402469267043_data);\n",
       "   }(LDAvis);\n",
       "}else if(typeof define === \"function\" && define.amd){\n",
       "   // require.js is available: use it to load d3/LDAvis\n",
       "   require.config({paths: {d3: \"https://cdnjs.cloudflare.com/ajax/libs/d3/3.5.5/d3.min\"}});\n",
       "   require([\"d3\"], function(d3){\n",
       "      window.d3 = d3;\n",
       "      LDAvis_load_lib(\"https://cdn.rawgit.com/bmabey/pyLDAvis/files/ldavis.v1.0.0.js\", function(){\n",
       "        new LDAvis(\"#\" + \"ldavis_el11876196178580402469267043\", ldavis_el11876196178580402469267043_data);\n",
       "      });\n",
       "    });\n",
       "}else{\n",
       "    // require.js not available: dynamically load d3 & LDAvis\n",
       "    LDAvis_load_lib(\"https://cdnjs.cloudflare.com/ajax/libs/d3/3.5.5/d3.min.js\", function(){\n",
       "         LDAvis_load_lib(\"https://cdn.rawgit.com/bmabey/pyLDAvis/files/ldavis.v1.0.0.js\", function(){\n",
       "                 new LDAvis(\"#\" + \"ldavis_el11876196178580402469267043\", ldavis_el11876196178580402469267043_data);\n",
       "            })\n",
       "         });\n",
       "}\n",
       "</script>"
      ],
      "text/plain": [
       "<IPython.core.display.HTML object>"
      ]
     },
     "execution_count": 23,
     "metadata": {},
     "output_type": "execute_result"
    }
   ],
   "source": [
    "lda_display = pyLDAvis.gensim.prepare(lda, corpus, dictionary, sort_topics=False)\n",
    "pyLDAvis.display(lda_display)"
   ]
  },
  {
   "cell_type": "code",
   "execution_count": 8,
   "metadata": {},
   "outputs": [],
   "source": [
    "def tokenize(teks):\n",
    "    sentence = nlp(teks)\n",
    "    token_kata = [token.text for token in sentence]\n",
    "    \n",
    "#     return \"_\".join(token_kata)\n",
    "#     return token_kata"
   ]
  },
  {
   "cell_type": "code",
   "execution_count": 10,
   "metadata": {},
   "outputs": [
    {
     "data": {
      "text/plain": [
       "str"
      ]
     },
     "execution_count": 10,
     "metadata": {},
     "output_type": "execute_result"
    }
   ],
   "source": [
    "text = \"aku belajar komputer\"\n",
    "tes = tokenize(text)\n",
    "# type(tes"
   ]
  }
 ],
 "metadata": {
  "kernelspec": {
   "display_name": "Python 3",
   "language": "python",
   "name": "python3"
  },
  "language_info": {
   "codemirror_mode": {
    "name": "ipython",
    "version": 3
   },
   "file_extension": ".py",
   "mimetype": "text/x-python",
   "name": "python",
   "nbconvert_exporter": "python",
   "pygments_lexer": "ipython3",
   "version": "3.6.4"
  }
 },
 "nbformat": 4,
 "nbformat_minor": 2
}
