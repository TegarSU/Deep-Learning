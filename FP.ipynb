{
 "cells": [
  {
   "cell_type": "code",
   "execution_count": 170,
   "metadata": {},
   "outputs": [
    {
     "name": "stdout",
     "output_type": "stream",
     "text": [
      "[nltk_data] Downloading package wordnet to\n",
      "[nltk_data]     C:\\Users\\USER\\AppData\\Roaming\\nltk_data...\n",
      "[nltk_data]   Package wordnet is already up-to-date!\n"
     ]
    }
   ],
   "source": [
    "import pandas as pd\n",
    "import numpy as np\n",
    "\n",
    "import spacy\n",
    "from spacy.lang.id import Indonesian\n",
    "\n",
    "import nltk\n",
    "from nltk.corpus import wordnet as wn\n",
    "\n",
    "nltk.download('wordnet')\n",
    "nlp = Indonesian()  # use directly\n",
    "stopwords = spacy.lang.id.stop_words.STOP_WORDS"
   ]
  },
  {
   "cell_type": "code",
   "execution_count": 171,
   "metadata": {},
   "outputs": [
    {
     "data": {
      "text/html": [
       "<div>\n",
       "<style scoped>\n",
       "    .dataframe tbody tr th:only-of-type {\n",
       "        vertical-align: middle;\n",
       "    }\n",
       "\n",
       "    .dataframe tbody tr th {\n",
       "        vertical-align: top;\n",
       "    }\n",
       "\n",
       "    .dataframe thead th {\n",
       "        text-align: right;\n",
       "    }\n",
       "</style>\n",
       "<table border=\"1\" class=\"dataframe\">\n",
       "  <thead>\n",
       "    <tr style=\"text-align: right;\">\n",
       "      <th></th>\n",
       "      <th>diposisi</th>\n",
       "      <th>judul</th>\n",
       "      <th>keluhan</th>\n",
       "      <th>tipe</th>\n",
       "    </tr>\n",
       "  </thead>\n",
       "  <tbody>\n",
       "    <tr>\n",
       "      <th>12856</th>\n",
       "      <td>Kementerian Sosial</td>\n",
       "      <td>Orang-Orang Mampu Mendapatkan BLSM</td>\n",
       "      <td>KPS di daerah desa sambong belum ada BLSM..dan...</td>\n",
       "      <td>Bantuan Langsung Sementara Masyarakat (BLSM)</td>\n",
       "    </tr>\n",
       "    <tr>\n",
       "      <th>12857</th>\n",
       "      <td>Kantor Walikota Jakarta Timur</td>\n",
       "      <td>Pungli di Kecamatan Makasar Dalam Pengurusan IMB</td>\n",
       "      <td>Hal melaporkan Staf Perizinan Bangunan Kec. Ma...</td>\n",
       "      <td>Reformasi Birokrasi dan Tata Kelola</td>\n",
       "    </tr>\n",
       "    <tr>\n",
       "      <th>12858</th>\n",
       "      <td>Kantor Walikota Jakarta Utara</td>\n",
       "      <td>Kader-kader Kelurahan Cilincing Memanfaatkan P...</td>\n",
       "      <td>Yth. Pemerintah Provinsi DKI Jakarta. Saya ing...</td>\n",
       "      <td>Infrastruktur</td>\n",
       "    </tr>\n",
       "    <tr>\n",
       "      <th>12859</th>\n",
       "      <td>Kementerian Sosial</td>\n",
       "      <td>BLSM Di Bondowoso</td>\n",
       "      <td>KPS  Di desa kemirian kec. tamanan kab.bondowo...</td>\n",
       "      <td>Bantuan Langsung Sementara Masyarakat (BLSM)</td>\n",
       "    </tr>\n",
       "    <tr>\n",
       "      <th>12860</th>\n",
       "      <td>Kementerian Sosial</td>\n",
       "      <td>BLSM Tidak Tepat Sasaran di Mataram</td>\n",
       "      <td>KPS BLSM tdk tepat sasaran mRNA ada yg seharus...</td>\n",
       "      <td>Kepesertaan Non-KPS</td>\n",
       "    </tr>\n",
       "  </tbody>\n",
       "</table>\n",
       "</div>"
      ],
      "text/plain": [
       "                            diposisi  \\\n",
       "12856             Kementerian Sosial   \n",
       "12857  Kantor Walikota Jakarta Timur   \n",
       "12858  Kantor Walikota Jakarta Utara   \n",
       "12859             Kementerian Sosial   \n",
       "12860             Kementerian Sosial   \n",
       "\n",
       "                                                   judul  \\\n",
       "12856                 Orang-Orang Mampu Mendapatkan BLSM   \n",
       "12857   Pungli di Kecamatan Makasar Dalam Pengurusan IMB   \n",
       "12858  Kader-kader Kelurahan Cilincing Memanfaatkan P...   \n",
       "12859                                  BLSM Di Bondowoso   \n",
       "12860                BLSM Tidak Tepat Sasaran di Mataram   \n",
       "\n",
       "                                                 keluhan  \\\n",
       "12856  KPS di daerah desa sambong belum ada BLSM..dan...   \n",
       "12857  Hal melaporkan Staf Perizinan Bangunan Kec. Ma...   \n",
       "12858  Yth. Pemerintah Provinsi DKI Jakarta. Saya ing...   \n",
       "12859  KPS  Di desa kemirian kec. tamanan kab.bondowo...   \n",
       "12860  KPS BLSM tdk tepat sasaran mRNA ada yg seharus...   \n",
       "\n",
       "                                               tipe  \n",
       "12856  Bantuan Langsung Sementara Masyarakat (BLSM)  \n",
       "12857           Reformasi Birokrasi dan Tata Kelola  \n",
       "12858                                 Infrastruktur  \n",
       "12859  Bantuan Langsung Sementara Masyarakat (BLSM)  \n",
       "12860                           Kepesertaan Non-KPS  "
      ]
     },
     "execution_count": 171,
     "metadata": {},
     "output_type": "execute_result"
    }
   ],
   "source": [
    "data = pd.read_csv(\"dataset.csv\")\n",
    "label_drop = [\"web-scraper-order\",\"web-scraper-start-url\",\"pengadu\"]\n",
    "data = data.drop(columns=label_drop)\n",
    "data.tail()"
   ]
  },
  {
   "cell_type": "code",
   "execution_count": 172,
   "metadata": {},
   "outputs": [
    {
     "data": {
      "text/plain": [
       "Bantuan Langsung Sementara Masyarakat (BLSM)                                3592\n",
       "Kepesertaan Non-KPS                                                         2526\n",
       "Implementasi Penyesuaian Harga BBM                                           963\n",
       "Topik Lainnya                                                                806\n",
       "Beras Miskin (Raskin)                                                        694\n",
       "Infrastruktur                                                                693\n",
       "Reformasi Birokrasi dan Tata Kelola                                          643\n",
       "Kelangkaan BBM                                                               516\n",
       "Pendidikan                                                                   487\n",
       "Lingkungan Hidup dan Penanggulangan Bencana                                  413\n",
       "Kesehatan                                                                    401\n",
       "Kepesertaan KPS                                                              353\n",
       "Banjir Jakarta 2013                                                          244\n",
       "Bidang Kesejahteraan Rakyat                                                  113\n",
       "Bantuan Siswa Miskin (BSM)                                                   108\n",
       "Bidang Politik, Hukum, dan Keamanan                                           88\n",
       "Perdagangan, Perindustrian, Iklim Usaha, dan Investasi                        49\n",
       "Energi dan Sumber Daya Alam                                                   38\n",
       "Bidang Perekonomian                                                           22\n",
       "Program Keluarga Harapan (PKH)                                                18\n",
       "Pertanian                                                                     15\n",
       "Jamkesmas                                                                     13\n",
       "Topik Khusus                                                                  11\n",
       "Pengentasan Kemiskinan                                                        10\n",
       "Korupsi                                                                        9\n",
       "Kompensasi Lainnya                                                             9\n",
       "Teknologi Informasi dan Komunikasi                                             8\n",
       "Penyerapan Anggaran                                                            4\n",
       "Pembangunan Desa, Daerah Tertinggal, Terdepan, Terluar, dan Transmigrasi       4\n",
       "Kehutanan                                                                      2\n",
       "Keamanan dan Ketertiban Masyarakat                                             2\n",
       "Perhubungan                                                                    2\n",
       "Ketenagakerjaan                                                                1\n",
       "Permasalahan                                                                   1\n",
       "Pertanahan dan Permukiman                                                      1\n",
       "Sarana dan Prasarana                                                           1\n",
       "Lain-lain                                                                      1\n",
       "Name: tipe, dtype: int64"
      ]
     },
     "execution_count": 172,
     "metadata": {},
     "output_type": "execute_result"
    }
   ],
   "source": [
    "# print('\\nNumber of missing values:')\n",
    "# for col in data.columns:\n",
    "#     print('\\t%s: %d' % (col, data[col].isnull().sum()))\n",
    "    \n",
    "# # cek jumlah perkelas\n",
    "# print('\\nNumber of class values:')\n",
    "# print(data.iloc[:,-1].value_counts(dropna=False))\n",
    "tipe = data[\"tipe\"].to_list()\n",
    "data[\"tipe\"].value_counts(dropna=False) #155 kelas diposisi, 37 kelas tipe"
   ]
  },
  {
   "cell_type": "code",
   "execution_count": 180,
   "metadata": {},
   "outputs": [],
   "source": [
    "# Topic Modelling\n",
    "\n",
    "def tokenize(teks):\n",
    "    sentence = nlp(teks)\n",
    "    token_kata = [token.text for token in sentence]\n",
    "    \n",
    "    return token_kata\n",
    "\n",
    "def lemma(teks):\n",
    "    for v in teks:\n",
    "        lemma = [token.lemma_ for token in nlp(v)]\n",
    "    \n",
    "    return lemma\n",
    "\n",
    "def stopword(teks):\n",
    "    clean = []\n",
    "    for i in teks:\n",
    "        if i not in stopwords:\n",
    "            clean.append(i)\n",
    "#             return i\n",
    "    return clean"
   ]
  },
  {
   "cell_type": "code",
   "execution_count": 182,
   "metadata": {},
   "outputs": [],
   "source": [
    "def preprocessing(text):\n",
    "    clean = text.lower()\n",
    "    clean = tokenize(text)\n",
    "    \n",
    "    return clean"
   ]
  },
  {
   "cell_type": "code",
   "execution_count": 183,
   "metadata": {},
   "outputs": [
    {
     "data": {
      "text/plain": [
       "0        [Lampu, Lalu, Lintas, di, Jalan, Juanda, dan, ...\n",
       "1        [Yth, ., Pemprov, DKI, Jakarta, ., Saya, guru,...\n",
       "2        [KPS, kecamatan, :, patumbak,,Kab, ., Deli, Se...\n",
       "3        [Pak, ., Tolong, dong, ,, angkutan, umum, mikr...\n",
       "4                        [BBM, setuju, naik, demi, rakyat]\n",
       "5        [KPS, di, daerah, desa, sambong, belum, ada, B...\n",
       "6        [Hal, melaporkan, Staf, Perizinan, Bangunan, K...\n",
       "7        [Yth, ., Pemerintah, Provinsi, DKI, Jakarta, ....\n",
       "8        [KPS,  , Di, desa, kemirian, kec, ., tamanan, ...\n",
       "9        [KPS, BLSM, tdk, tepat, sasaran, mRNA, ada, yg...\n",
       "10       [KPS, 888bdt, 56789009, di, desa, /, kampung, ...\n",
       "11       [BBM, gmn, laporan, pengaduan, saya, mengenai,...\n",
       "12       [KPS, Rumah, tangga, saya, atas, nama, H.ABDUL...\n",
       "13       [KPS, DIWILAYAH, RW, 06, KALIDERES, BANYAK, YG...\n",
       "14       [KPS,  , Tolong, di, tindaklanjuti, di, desa, ...\n",
       "15       [Yth, ., Pemprov, DKI, Jakarta, ., \\n\\n\\n\\n, S...\n",
       "16       [Tolong, ditinjau, depan, pasar, tanah, abang,...\n",
       "17       [KPS,  , PENERIMA, BALSEM, TDK, TEPAT, SASARAN...\n",
       "18       [KPS,  , kami, adukan, di, desa, saya, ada, yg...\n",
       "19       [KPS, panitia, pemberian, BLSM, harus, sangat,...\n",
       "20       [Saya, ingin, memberikan, informasi, ,, bahwa,...\n",
       "21       [KPS, Pembagian, BLSM, tidak, sangat, menyentu...\n",
       "22       [Yth, ., Pemprov, DKI, Jakarta, ., Mau, melapo...\n",
       "23       [KPS, knp, dana, kompensasinya, blm, sampai, d...\n",
       "24       [KPS,  , Penyaluran, BLSM, di, dusun, selogan,...\n",
       "25       [BBM, harusnya, pom, bensin, yg, dikasi, sanks...\n",
       "26       [KPS, yg, mendpt, kompensasi, BBM, dimojokerto...\n",
       "27       [KPS, di, kelurahan, karang, sari, kecamatan, ...\n",
       "28       [BBM, -, SAYA, DARI, BALI, DI, SPBU, DI, JLN, ...\n",
       "29       [KPS, 3hsdax94226A05, saya, minta, pemerintah,...\n",
       "                               ...                        \n",
       "12831    [KPS, 3731jv10430A06, saya, minta, penjelasan,...\n",
       "12832    [Selamat, siang, Ada, laporan, dari, staf, say...\n",
       "12833    [BBM, di, daerah, sentani, papua, antri, klau,...\n",
       "12834    [KPS, Maaf, ni, teamsos, sy, mau, tanya, ,, ke...\n",
       "12835    [Kepada, Yth, ., Pemerintah, Provinsi, DKI, Ja...\n",
       "12836    [Kepada, Yth, ., Pemerintah, Provinsi, DKI, Ja...\n",
       "12837    [Selamat, sore, pak, ., Maaf, saya, mau, tanya...\n",
       "12838    [Saya, ketua, RW, 07, Pademangan, Barat, ,, Ja...\n",
       "12839    [BBM, Jaga, sikap, keamanannya.acak, aman, di,...\n",
       "12840    [KPS, KELUARGA, SAYA, TIDAK, DAPAT, BLSM, ., Y...\n",
       "12841    [KPS, 888bdt56789009, Rumah, tangga, di, desa,...\n",
       "12842    [Selamat, siang, ,, saya, ingin, melaporkan, b...\n",
       "12843    [KPS, 39ig, 1140232A02, Saya, adalah, penerima...\n",
       "12844    [KPS, di, tmpt, saya, kompensasi, blsm, di, da...\n",
       "12845    [KPS, BLSM, ga, tepat, sasaran, d, sekitar, sa...\n",
       "12846    [Kepala, puskesmas, kecamatan, palmerah, tidak...\n",
       "12847    [KPS, kel, sandubaya, kab, lombok, timur, betu...\n",
       "12848    [BBM, di, tempat, saya, bensin, mahal, banget,...\n",
       "12849    [KPS, Tolong, data, BLSM, diperbaiki, ,, hari,...\n",
       "12850    [KPS, 52365017, apakah, KPS, ini, juga, akan, ...\n",
       "12851    [Lampu, Lalu, Lintas, di, Jalan, Juanda, dan, ...\n",
       "12852    [Yth, ., Pemprov, DKI, Jakarta, ., Saya, guru,...\n",
       "12853    [KPS, kecamatan, :, patumbak,,Kab, ., Deli, Se...\n",
       "12854    [Pak, ., Tolong, dong, ,, angkutan, umum, mikr...\n",
       "12855                    [BBM, setuju, naik, demi, rakyat]\n",
       "12856    [KPS, di, daerah, desa, sambong, belum, ada, B...\n",
       "12857    [Hal, melaporkan, Staf, Perizinan, Bangunan, K...\n",
       "12858    [Yth, ., Pemerintah, Provinsi, DKI, Jakarta, ....\n",
       "12859    [KPS,  , Di, desa, kemirian, kec, ., tamanan, ...\n",
       "12860    [KPS, BLSM, tdk, tepat, sasaran, mRNA, ada, yg...\n",
       "Name: keluhan, Length: 12861, dtype: object"
      ]
     },
     "execution_count": 183,
     "metadata": {},
     "output_type": "execute_result"
    }
   ],
   "source": [
    "texts = data[\"keluhan\"].to_list() \n",
    "# # lemmas = lemma(token)\n",
    "# # text = stopword(lemmas)\n",
    "# # text\n",
    "# for line in texts:\n",
    "clean = data[\"keluhan\"].apply(preprocessing)\n",
    "    \n",
    "clean"
   ]
  },
  {
   "cell_type": "code",
   "execution_count": 184,
   "metadata": {},
   "outputs": [
    {
     "data": {
      "text/plain": [
       "0    [Lampu, Lalu, Lintas, di, Jalan, Juanda, dan, ...\n",
       "1    [Yth, ., Pemprov, DKI, Jakarta, ., Saya, guru,...\n",
       "2    [KPS, kecamatan, :, patumbak,,Kab, ., Deli, Se...\n",
       "3    [Pak, ., Tolong, dong, ,, angkutan, umum, mikr...\n",
       "4                    [BBM, setuju, naik, demi, rakyat]\n",
       "Name: keluhan, dtype: object"
      ]
     },
     "execution_count": 184,
     "metadata": {},
     "output_type": "execute_result"
    }
   ],
   "source": [
    "clean.head()"
   ]
  }
 ],
 "metadata": {
  "kernelspec": {
   "display_name": "Python 3",
   "language": "python",
   "name": "python3"
  },
  "language_info": {
   "codemirror_mode": {
    "name": "ipython",
    "version": 3
   },
   "file_extension": ".py",
   "mimetype": "text/x-python",
   "name": "python",
   "nbconvert_exporter": "python",
   "pygments_lexer": "ipython3",
   "version": "3.6.4"
  }
 },
 "nbformat": 4,
 "nbformat_minor": 2
}
