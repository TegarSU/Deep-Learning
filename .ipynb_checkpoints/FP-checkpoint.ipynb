{
 "cells": [
  {
   "cell_type": "code",
   "execution_count": 1,
   "metadata": {},
   "outputs": [
    {
     "name": "stderr",
     "output_type": "stream",
     "text": [
      "C:\\Users\\USER\\Anaconda3\\lib\\importlib\\_bootstrap.py:219: RuntimeWarning: cymem.cymem.Pool size changed, may indicate binary incompatibility. Expected 48 from C header, got 64 from PyObject\n",
      "  return f(*args, **kwds)\n",
      "C:\\Users\\USER\\Anaconda3\\lib\\importlib\\_bootstrap.py:219: RuntimeWarning: cymem.cymem.Address size changed, may indicate binary incompatibility. Expected 24 from C header, got 40 from PyObject\n",
      "  return f(*args, **kwds)\n",
      "C:\\Users\\USER\\Anaconda3\\lib\\importlib\\_bootstrap.py:219: RuntimeWarning: cymem.cymem.Pool size changed, may indicate binary incompatibility. Expected 48 from C header, got 64 from PyObject\n",
      "  return f(*args, **kwds)\n",
      "C:\\Users\\USER\\Anaconda3\\lib\\importlib\\_bootstrap.py:219: RuntimeWarning: cymem.cymem.Address size changed, may indicate binary incompatibility. Expected 24 from C header, got 40 from PyObject\n",
      "  return f(*args, **kwds)\n",
      "C:\\Users\\USER\\Anaconda3\\lib\\site-packages\\gensim\\utils.py:1212: UserWarning: detected Windows; aliasing chunkize to chunkize_serial\n",
      "  warnings.warn(\"detected Windows; aliasing chunkize to chunkize_serial\")\n"
     ]
    },
    {
     "name": "stdout",
     "output_type": "stream",
     "text": [
      "[nltk_data] Downloading package wordnet to\n",
      "[nltk_data]     C:\\Users\\USER\\AppData\\Roaming\\nltk_data...\n",
      "[nltk_data]   Package wordnet is already up-to-date!\n"
     ]
    }
   ],
   "source": [
    "import pandas as pd\n",
    "import numpy as np\n",
    "import string\n",
    "import pickle\n",
    "\n",
    "import spacy\n",
    "from spacy.lang.id import Indonesian\n",
    "\n",
    "import nltk\n",
    "from nltk.corpus import wordnet as wn\n",
    "\n",
    "import gensim\n",
    "from gensim import corpora\n",
    "import pyLDAvis.gensim\n",
    "\n",
    "nltk.download('wordnet')\n",
    "nlp = Indonesian()  # use directly\n",
    "stopwords = spacy.lang.id.stop_words.STOP_WORDS"
   ]
  },
  {
   "cell_type": "code",
   "execution_count": 2,
   "metadata": {},
   "outputs": [
    {
     "data": {
      "text/html": [
       "<div>\n",
       "<style scoped>\n",
       "    .dataframe tbody tr th:only-of-type {\n",
       "        vertical-align: middle;\n",
       "    }\n",
       "\n",
       "    .dataframe tbody tr th {\n",
       "        vertical-align: top;\n",
       "    }\n",
       "\n",
       "    .dataframe thead th {\n",
       "        text-align: right;\n",
       "    }\n",
       "</style>\n",
       "<table border=\"1\" class=\"dataframe\">\n",
       "  <thead>\n",
       "    <tr style=\"text-align: right;\">\n",
       "      <th></th>\n",
       "      <th>diposisi</th>\n",
       "      <th>judul</th>\n",
       "      <th>keluhan</th>\n",
       "      <th>tipe</th>\n",
       "    </tr>\n",
       "  </thead>\n",
       "  <tbody>\n",
       "    <tr>\n",
       "      <th>12856</th>\n",
       "      <td>Kementerian Sosial</td>\n",
       "      <td>Orang-Orang Mampu Mendapatkan BLSM</td>\n",
       "      <td>KPS di daerah desa sambong belum ada BLSM..dan...</td>\n",
       "      <td>Bantuan Langsung Sementara Masyarakat (BLSM)</td>\n",
       "    </tr>\n",
       "    <tr>\n",
       "      <th>12857</th>\n",
       "      <td>Kantor Walikota Jakarta Timur</td>\n",
       "      <td>Pungli di Kecamatan Makasar Dalam Pengurusan IMB</td>\n",
       "      <td>Hal melaporkan Staf Perizinan Bangunan Kec. Ma...</td>\n",
       "      <td>Reformasi Birokrasi dan Tata Kelola</td>\n",
       "    </tr>\n",
       "    <tr>\n",
       "      <th>12858</th>\n",
       "      <td>Kantor Walikota Jakarta Utara</td>\n",
       "      <td>Kader-kader Kelurahan Cilincing Memanfaatkan P...</td>\n",
       "      <td>Yth. Pemerintah Provinsi DKI Jakarta. Saya ing...</td>\n",
       "      <td>Infrastruktur</td>\n",
       "    </tr>\n",
       "    <tr>\n",
       "      <th>12859</th>\n",
       "      <td>Kementerian Sosial</td>\n",
       "      <td>BLSM Di Bondowoso</td>\n",
       "      <td>KPS  Di desa kemirian kec. tamanan kab.bondowo...</td>\n",
       "      <td>Bantuan Langsung Sementara Masyarakat (BLSM)</td>\n",
       "    </tr>\n",
       "    <tr>\n",
       "      <th>12860</th>\n",
       "      <td>Kementerian Sosial</td>\n",
       "      <td>BLSM Tidak Tepat Sasaran di Mataram</td>\n",
       "      <td>KPS BLSM tdk tepat sasaran mRNA ada yg seharus...</td>\n",
       "      <td>Kepesertaan Non-KPS</td>\n",
       "    </tr>\n",
       "  </tbody>\n",
       "</table>\n",
       "</div>"
      ],
      "text/plain": [
       "                            diposisi  \\\n",
       "12856             Kementerian Sosial   \n",
       "12857  Kantor Walikota Jakarta Timur   \n",
       "12858  Kantor Walikota Jakarta Utara   \n",
       "12859             Kementerian Sosial   \n",
       "12860             Kementerian Sosial   \n",
       "\n",
       "                                                   judul  \\\n",
       "12856                 Orang-Orang Mampu Mendapatkan BLSM   \n",
       "12857   Pungli di Kecamatan Makasar Dalam Pengurusan IMB   \n",
       "12858  Kader-kader Kelurahan Cilincing Memanfaatkan P...   \n",
       "12859                                  BLSM Di Bondowoso   \n",
       "12860                BLSM Tidak Tepat Sasaran di Mataram   \n",
       "\n",
       "                                                 keluhan  \\\n",
       "12856  KPS di daerah desa sambong belum ada BLSM..dan...   \n",
       "12857  Hal melaporkan Staf Perizinan Bangunan Kec. Ma...   \n",
       "12858  Yth. Pemerintah Provinsi DKI Jakarta. Saya ing...   \n",
       "12859  KPS  Di desa kemirian kec. tamanan kab.bondowo...   \n",
       "12860  KPS BLSM tdk tepat sasaran mRNA ada yg seharus...   \n",
       "\n",
       "                                               tipe  \n",
       "12856  Bantuan Langsung Sementara Masyarakat (BLSM)  \n",
       "12857           Reformasi Birokrasi dan Tata Kelola  \n",
       "12858                                 Infrastruktur  \n",
       "12859  Bantuan Langsung Sementara Masyarakat (BLSM)  \n",
       "12860                           Kepesertaan Non-KPS  "
      ]
     },
     "execution_count": 2,
     "metadata": {},
     "output_type": "execute_result"
    }
   ],
   "source": [
    "data = pd.read_csv(\"dataset.csv\")\n",
    "label_drop = [\"web-scraper-order\",\"web-scraper-start-url\",\"pengadu\"]\n",
    "data = data.drop(columns=label_drop)\n",
    "data.tail()"
   ]
  },
  {
   "cell_type": "code",
   "execution_count": 3,
   "metadata": {},
   "outputs": [
    {
     "name": "stdout",
     "output_type": "stream",
     "text": [
      "\n",
      "Number of missing values:\n",
      "\tdiposisi: 141\n",
      "\tjudul: 0\n",
      "\tkeluhan: 0\n",
      "\ttipe: 0\n"
     ]
    },
    {
     "data": {
      "text/plain": [
       "Bantuan Langsung Sementara Masyarakat (BLSM)                                3592\n",
       "Kepesertaan Non-KPS                                                         2526\n",
       "Implementasi Penyesuaian Harga BBM                                           963\n",
       "Topik Lainnya                                                                806\n",
       "Beras Miskin (Raskin)                                                        694\n",
       "Infrastruktur                                                                693\n",
       "Reformasi Birokrasi dan Tata Kelola                                          643\n",
       "Kelangkaan BBM                                                               516\n",
       "Pendidikan                                                                   487\n",
       "Lingkungan Hidup dan Penanggulangan Bencana                                  413\n",
       "Kesehatan                                                                    401\n",
       "Kepesertaan KPS                                                              353\n",
       "Banjir Jakarta 2013                                                          244\n",
       "Bidang Kesejahteraan Rakyat                                                  113\n",
       "Bantuan Siswa Miskin (BSM)                                                   108\n",
       "Bidang Politik, Hukum, dan Keamanan                                           88\n",
       "Perdagangan, Perindustrian, Iklim Usaha, dan Investasi                        49\n",
       "Energi dan Sumber Daya Alam                                                   38\n",
       "Bidang Perekonomian                                                           22\n",
       "Program Keluarga Harapan (PKH)                                                18\n",
       "Pertanian                                                                     15\n",
       "Jamkesmas                                                                     13\n",
       "Topik Khusus                                                                  11\n",
       "Pengentasan Kemiskinan                                                        10\n",
       "Korupsi                                                                        9\n",
       "Kompensasi Lainnya                                                             9\n",
       "Teknologi Informasi dan Komunikasi                                             8\n",
       "Penyerapan Anggaran                                                            4\n",
       "Pembangunan Desa, Daerah Tertinggal, Terdepan, Terluar, dan Transmigrasi       4\n",
       "Keamanan dan Ketertiban Masyarakat                                             2\n",
       "Perhubungan                                                                    2\n",
       "Kehutanan                                                                      2\n",
       "Sarana dan Prasarana                                                           1\n",
       "Pertanahan dan Permukiman                                                      1\n",
       "Ketenagakerjaan                                                                1\n",
       "Permasalahan                                                                   1\n",
       "Lain-lain                                                                      1\n",
       "Name: tipe, dtype: int64"
      ]
     },
     "execution_count": 3,
     "metadata": {},
     "output_type": "execute_result"
    }
   ],
   "source": [
    "print('\\nNumber of missing values:')\n",
    "for col in data.columns:\n",
    "    print('\\t%s: %d' % (col, data[col].isnull().sum()))\n",
    "    \n",
    "# # cek jumlah perkelas\n",
    "# print('\\nNumber of class values:')\n",
    "# print(data.iloc[:,-1].value_counts(dropna=False))\n",
    "tipe = data[\"tipe\"].to_list()\n",
    "data[\"tipe\"].value_counts(dropna=False) #155 kelas diposisi, 37 kelas tipe"
   ]
  },
  {
   "cell_type": "code",
   "execution_count": 4,
   "metadata": {},
   "outputs": [],
   "source": [
    "# Prepocessing\n",
    "\n",
    "def tokenize(teks):\n",
    "    sentence = nlp(teks)\n",
    "    token_kata = [token.text for token in sentence]\n",
    "    \n",
    "    return \" \".join(token_kata)\n",
    "\n",
    "def lemma(teks):\n",
    "    sentence = nlp(teks)\n",
    "\n",
    "    lemma = [token.lemma_ for token in sentence]\n",
    "    \n",
    "    return lemma\n",
    "\n",
    "def stopword(teks):\n",
    "    clean = []\n",
    "    for i in teks:\n",
    "        if i not in stopwords:\n",
    "            clean.append(i)\n",
    "\n",
    "    return clean"
   ]
  },
  {
   "cell_type": "code",
   "execution_count": 21,
   "metadata": {},
   "outputs": [],
   "source": [
    "def preprocessing(text):\n",
    "    clean = text.lower() #Lower\n",
    "    clean = clean.translate(str.maketrans('', '', string.punctuation)) #Punct\n",
    "    clean = tokenize(clean) #Token\n",
    "    #Slang\n",
    "    clean = lemma(clean) #Lemma\n",
    "    \n",
    "    clean = stopword(clean) #Stopword\n",
    "    \n",
    "    return clean"
   ]
  },
  {
   "cell_type": "code",
   "execution_count": 22,
   "metadata": {},
   "outputs": [],
   "source": [
    "texts = data[\"keluhan\"].to_list() \n",
    "# # lemmas = lemma(token)\n",
    "# # text = stopword(lemmas)\n",
    "# # text\n",
    "# for line in texts:\n",
    "clean = data[\"keluhan\"].apply(preprocessing)\n",
    "    \n",
    "# clean"
   ]
  },
  {
   "cell_type": "code",
   "execution_count": 23,
   "metadata": {},
   "outputs": [
    {
     "data": {
      "text/plain": [
       "0    [lampu, lintas, jalan, juanda, veteran, stasiu...\n",
       "1    [yth, pemprov, dki, jakarta, guru, bantu, sd, ...\n",
       "2    [kps, camat, patumbakkab, deli, serdang, sumut...\n",
       "3    [tolong, angkut, mikrolet, 39, jurus, pademang...\n",
       "4                                  [bbm, tuju, rakyat]\n",
       "Name: keluhan, dtype: object"
      ]
     },
     "execution_count": 23,
     "metadata": {},
     "output_type": "execute_result"
    }
   ],
   "source": [
    "clean.head()"
   ]
  },
  {
   "cell_type": "code",
   "execution_count": 24,
   "metadata": {},
   "outputs": [],
   "source": [
    "dictionary = corpora.Dictionary(clean)\n",
    "corpus = [dictionary.doc2bow(text) for text in clean]\n",
    "\n",
    "pickle.dump(corpus, open('corpus.pkl', 'wb'))\n",
    "dictionary.save('dictionary.gensim')"
   ]
  },
  {
   "cell_type": "code",
   "execution_count": 25,
   "metadata": {},
   "outputs": [
    {
     "name": "stdout",
     "output_type": "stream",
     "text": [
      "(0, '0.019*\"jakarta\" + 0.011*\"mohon\" + 0.011*\"rp\" + 0.010*\"  \"')\n",
      "(1, '0.045*\"kps\" + 0.045*\"blsm\" + 0.042*\"yg\" + 0.032*\"  \"')\n",
      "(2, '0.036*\"\\n\\n \" + 0.016*\"\\n\\n\\n\\n \" + 0.009*\"  \" + 0.008*\"lapor\"')\n",
      "(3, '0.062*\"kps\" + 0.032*\"terima\" + 0.029*\"raskin\" + 0.020*\"rumah\"')\n",
      "(4, '0.027*\"jakarta\" + 0.024*\"jalan\" + 0.022*\"mohon\" + 0.017*\"dki\"')\n"
     ]
    }
   ],
   "source": [
    "NUM_TOPICS = 5\n",
    "ldamodel = gensim.models.ldamodel.LdaModel(corpus, num_topics = NUM_TOPICS, id2word=dictionary, passes=15)\n",
    "ldamodel.save('model5.gensim')\n",
    "topics = ldamodel.print_topics(num_words=4)\n",
    "for topic in topics:\n",
    "    print(topic)"
   ]
  },
  {
   "cell_type": "code",
   "execution_count": 27,
   "metadata": {},
   "outputs": [],
   "source": [
    "dictionary = gensim.corpora.Dictionary.load('dictionary.gensim')\n",
    "corpus = pickle.load(open('corpus.pkl', 'rb'))\n",
    "lda = gensim.models.ldamodel.LdaModel.load('model5.gensim')"
   ]
  },
  {
   "cell_type": "code",
   "execution_count": 28,
   "metadata": {},
   "outputs": [
    {
     "name": "stderr",
     "output_type": "stream",
     "text": [
      "C:\\Users\\USER\\Anaconda3\\lib\\site-packages\\pyLDAvis\\_prepare.py:257: FutureWarning: Sorting because non-concatenation axis is not aligned. A future version\n",
      "of pandas will change to not sort by default.\n",
      "\n",
      "To accept the future behavior, pass 'sort=False'.\n",
      "\n",
      "To retain the current behavior and silence the warning, pass 'sort=True'.\n",
      "\n",
      "  return pd.concat([default_term_info] + list(topic_dfs))\n"
     ]
    },
    {
     "data": {
      "text/html": [
       "\n",
       "<link rel=\"stylesheet\" type=\"text/css\" href=\"https://cdn.rawgit.com/bmabey/pyLDAvis/files/ldavis.v1.0.0.css\">\n",
       "\n",
       "\n",
       "<div id=\"ldavis_el530819154745537367568515371\"></div>\n",
       "<script type=\"text/javascript\">\n",
       "\n",
       "var ldavis_el530819154745537367568515371_data = {\"mdsDat\": {\"x\": [-0.1437266511742671, 0.22232062262783342, -0.12284616143680843, 0.1683442658609178, -0.12409207587767583], \"y\": [-0.016447465824075847, 0.14625695288310409, -0.10482134470434547, -0.17391000721782054, 0.14892186486313777], \"topics\": [1, 2, 3, 4, 5], \"cluster\": [1, 1, 1, 1, 1], \"Freq\": [19.739046096801758, 37.19314193725586, 14.928841590881348, 6.9030561447143555, 21.23590850830078]}, \"tinfo\": {\"Category\": [\"Default\", \"Default\", \"Default\", \"Default\", \"Default\", \"Default\", \"Default\", \"Default\", \"Default\", \"Default\", \"Default\", \"Default\", \"Default\", \"Default\", \"Default\", \"Default\", \"Default\", \"Default\", \"Default\", \"Default\", \"Default\", \"Default\", \"Default\", \"Default\", \"Default\", \"Default\", \"Default\", \"Default\", \"Default\", \"Default\", \"Topic1\", \"Topic1\", \"Topic1\", \"Topic1\", \"Topic1\", \"Topic1\", \"Topic1\", \"Topic1\", \"Topic1\", \"Topic1\", \"Topic1\", \"Topic1\", \"Topic1\", \"Topic1\", \"Topic1\", \"Topic1\", \"Topic1\", \"Topic1\", \"Topic1\", \"Topic1\", \"Topic1\", \"Topic1\", \"Topic1\", \"Topic1\", \"Topic1\", \"Topic1\", \"Topic1\", \"Topic1\", \"Topic1\", \"Topic1\", \"Topic1\", \"Topic1\", \"Topic1\", \"Topic1\", \"Topic1\", \"Topic1\", \"Topic1\", \"Topic1\", \"Topic1\", \"Topic1\", \"Topic1\", \"Topic1\", \"Topic1\", \"Topic1\", \"Topic1\", \"Topic1\", \"Topic1\", \"Topic1\", \"Topic1\", \"Topic1\", \"Topic1\", \"Topic1\", \"Topic1\", \"Topic1\", \"Topic1\", \"Topic1\", \"Topic1\", \"Topic1\", \"Topic2\", \"Topic2\", \"Topic2\", \"Topic2\", \"Topic2\", \"Topic2\", \"Topic2\", \"Topic2\", \"Topic2\", \"Topic2\", \"Topic2\", \"Topic2\", \"Topic2\", \"Topic2\", \"Topic2\", \"Topic2\", \"Topic2\", \"Topic2\", \"Topic2\", \"Topic2\", \"Topic2\", \"Topic2\", \"Topic2\", \"Topic2\", \"Topic2\", \"Topic2\", \"Topic2\", \"Topic2\", \"Topic2\", \"Topic2\", \"Topic2\", \"Topic2\", \"Topic2\", \"Topic2\", \"Topic2\", \"Topic2\", \"Topic2\", \"Topic2\", \"Topic2\", \"Topic2\", \"Topic2\", \"Topic2\", \"Topic2\", \"Topic2\", \"Topic2\", \"Topic2\", \"Topic2\", \"Topic2\", \"Topic2\", \"Topic2\", \"Topic2\", \"Topic2\", \"Topic2\", \"Topic3\", \"Topic3\", \"Topic3\", \"Topic3\", \"Topic3\", \"Topic3\", \"Topic3\", \"Topic3\", \"Topic3\", \"Topic3\", \"Topic3\", \"Topic3\", \"Topic3\", \"Topic3\", \"Topic3\", \"Topic3\", \"Topic3\", \"Topic3\", \"Topic3\", \"Topic3\", \"Topic3\", \"Topic3\", \"Topic3\", \"Topic3\", \"Topic3\", \"Topic3\", \"Topic3\", \"Topic3\", \"Topic3\", \"Topic3\", \"Topic3\", \"Topic3\", \"Topic3\", \"Topic3\", \"Topic3\", \"Topic3\", \"Topic3\", \"Topic3\", \"Topic3\", \"Topic3\", \"Topic3\", \"Topic3\", \"Topic3\", \"Topic3\", \"Topic3\", \"Topic3\", \"Topic3\", \"Topic3\", \"Topic3\", \"Topic3\", \"Topic3\", \"Topic3\", \"Topic3\", \"Topic3\", \"Topic3\", \"Topic3\", \"Topic3\", \"Topic3\", \"Topic3\", \"Topic3\", \"Topic3\", \"Topic3\", \"Topic3\", \"Topic3\", \"Topic3\", \"Topic3\", \"Topic4\", \"Topic4\", \"Topic4\", \"Topic4\", \"Topic4\", \"Topic4\", \"Topic4\", \"Topic4\", \"Topic4\", \"Topic4\", \"Topic4\", \"Topic4\", \"Topic4\", \"Topic4\", \"Topic4\", \"Topic4\", \"Topic4\", \"Topic4\", \"Topic4\", \"Topic4\", \"Topic4\", \"Topic4\", \"Topic4\", \"Topic4\", \"Topic4\", \"Topic4\", \"Topic4\", \"Topic4\", \"Topic4\", \"Topic4\", \"Topic4\", \"Topic4\", \"Topic4\", \"Topic4\", \"Topic4\", \"Topic4\", \"Topic4\", \"Topic4\", \"Topic4\", \"Topic4\", \"Topic4\", \"Topic4\", \"Topic4\", \"Topic4\", \"Topic4\", \"Topic4\", \"Topic4\", \"Topic4\", \"Topic4\", \"Topic4\", \"Topic4\", \"Topic4\", \"Topic4\", \"Topic4\", \"Topic4\", \"Topic4\", \"Topic4\", \"Topic4\", \"Topic4\", \"Topic5\", \"Topic5\", \"Topic5\", \"Topic5\", \"Topic5\", \"Topic5\", \"Topic5\", \"Topic5\", \"Topic5\", \"Topic5\", \"Topic5\", \"Topic5\", \"Topic5\", \"Topic5\", \"Topic5\", \"Topic5\", \"Topic5\", \"Topic5\", \"Topic5\", \"Topic5\", \"Topic5\", \"Topic5\", \"Topic5\", \"Topic5\", \"Topic5\", \"Topic5\", \"Topic5\", \"Topic5\", \"Topic5\", \"Topic5\", \"Topic5\", \"Topic5\", \"Topic5\", \"Topic5\", \"Topic5\", \"Topic5\", \"Topic5\", \"Topic5\", \"Topic5\", \"Topic5\", \"Topic5\", \"Topic5\", \"Topic5\", \"Topic5\", \"Topic5\", \"Topic5\", \"Topic5\", \"Topic5\", \"Topic5\", \"Topic5\", \"Topic5\", \"Topic5\", \"Topic5\", \"Topic5\", \"Topic5\", \"Topic5\", \"Topic5\", \"Topic5\", \"Topic5\", \"Topic5\", \"Topic5\", \"Topic5\", \"Topic5\", \"Topic5\", \"Topic5\", \"Topic5\", \"Topic5\", \"Topic5\"], \"Freq\": [6691.0, 5316.0, 5152.0, 2319.0, 2952.0, 2625.0, 3746.0, 1680.0, 2215.0, 2006.0, 658.0, 1711.0, 1149.0, 1532.0, 1020.0, 1306.0, 1290.0, 3022.0, 1007.0, 759.0, 611.0, 1103.0, 963.0, 339.0, 759.0, 840.0, 860.0, 301.0, 491.0, 477.0, 610.3984375, 490.6653137207031, 477.0684814453125, 413.3808898925781, 325.77203369140625, 300.3696594238281, 262.54364013671875, 260.7987365722656, 230.81085205078125, 191.92478942871094, 184.89044189453125, 154.2251739501953, 140.78884887695312, 135.60562133789062, 128.75340270996094, 121.5615005493164, 114.50464630126953, 110.46573638916016, 106.7127914428711, 98.53584289550781, 98.08879852294922, 96.88233947753906, 96.06476593017578, 95.2745361328125, 87.24286651611328, 73.43357849121094, 71.8974838256836, 64.1172103881836, 64.01808166503906, 60.10633087158203, 60.525543212890625, 61.44120407104492, 316.1670837402344, 664.2662353515625, 128.67263793945312, 153.5980682373047, 292.6351318359375, 506.7721862792969, 342.313232421875, 285.9988098144531, 1160.51953125, 329.3003234863281, 355.12158203125, 420.0018615722656, 557.894287109375, 718.4449462890625, 429.4798889160156, 217.30319213867188, 233.80108642578125, 481.2051086425781, 391.45587158203125, 620.44482421875, 511.6242980957031, 381.3245849609375, 335.2724609375, 309.2383728027344, 280.3583679199219, 254.7582244873047, 5315.59912109375, 2624.859375, 2005.2899169921875, 1531.49169921875, 1305.978759765625, 1289.9647216796875, 962.7964477539062, 840.228515625, 626.6130981445312, 570.478759765625, 500.47381591796875, 463.3883361816406, 435.87738037109375, 387.4478454589844, 327.42578125, 303.419189453125, 288.12884521484375, 269.4566345214844, 230.1461181640625, 225.66677856445312, 204.9099578857422, 201.35903930664062, 185.53692626953125, 183.83546447753906, 172.17868041992188, 159.6815643310547, 161.5848388671875, 157.68960571289062, 140.57504272460938, 137.94215393066406, 5012.736328125, 484.9308776855469, 423.40582275390625, 227.44631958007812, 5341.66162109375, 1064.816162109375, 1867.3985595703125, 249.76808166503906, 260.1166076660156, 708.2102661132812, 3795.04833984375, 1324.778076171875, 548.7416381835938, 370.22119140625, 554.1238403320312, 942.4724731445312, 1374.0546875, 744.5255126953125, 445.1128845214844, 508.9596252441406, 538.9375, 518.4447021484375, 562.6236572265625, 307.32586669921875, 213.31015014648438, 186.9015350341797, 176.9077606201172, 156.13482666015625, 111.61168670654297, 104.8037338256836, 96.00859832763672, 85.18973541259766, 81.2569351196289, 79.50568389892578, 70.29720306396484, 51.56855773925781, 47.92303466796875, 46.51508712768555, 45.15896987915039, 45.299137115478516, 43.51838684082031, 42.72447204589844, 43.2173957824707, 37.62290573120117, 37.57667541503906, 37.56483459472656, 37.42522430419922, 36.13287353515625, 34.83949279785156, 35.44328308105469, 34.49039840698242, 33.992523193359375, 33.0267333984375, 172.82452392578125, 89.30931854248047, 1706.77587890625, 62.67734146118164, 764.7686767578125, 273.8056945800781, 157.60694885253906, 189.6619110107422, 241.27471923828125, 61.245426177978516, 262.82977294921875, 250.8502960205078, 121.94156646728516, 150.7603302001953, 227.9798583984375, 74.11017608642578, 83.83689880371094, 129.57199096679688, 223.29080200195312, 361.2442321777344, 191.63034057617188, 178.49879455566406, 196.43275451660156, 191.89556884765625, 158.409912109375, 156.26019287109375, 162.3431396484375, 434.8105163574219, 196.38856506347656, 188.3447265625, 176.18162536621094, 247.45452880859375, 205.415771484375, 167.80523681640625, 162.0563201904297, 162.80795288085938, 338.7995300292969, 300.9451904296875, 152.91522216796875, 53.09571838378906, 44.947654724121094, 33.56952667236328, 28.333515167236328, 27.680578231811523, 26.036273956298828, 24.868038177490234, 23.307029724121094, 636.865234375, 22.14781951904297, 21.313241958618164, 21.608858108520508, 20.522871017456055, 18.308582305908203, 18.412322998046875, 17.653100967407227, 17.222543716430664, 16.300025939941406, 15.459209442138672, 15.231008529663086, 15.401772499084473, 17.6374454498291, 15.131428718566895, 14.649600982666016, 16.768522262573242, 14.770355224609375, 16.770029067993164, 38.92251205444336, 82.58567810058594, 40.45215606689453, 16.632648468017578, 435.12188720703125, 85.73408508300781, 150.17752075195312, 1349.620849609375, 158.5094451904297, 708.8078002929688, 230.53688049316406, 66.26696014404297, 92.99332427978516, 290.2454528808594, 374.3470458984375, 126.92656707763672, 93.30010223388672, 37.306739807128906, 58.139984130859375, 66.52696990966797, 100.65705871582031, 57.11378860473633, 63.39767837524414, 47.540992736816406, 53.17775344848633, 50.640872955322266, 56.105003356933594, 52.03821563720703, 45.7783203125, 355.037109375, 322.6654357910156, 272.9770812988281, 195.5277862548828, 190.52069091796875, 192.82723999023438, 182.0376739501953, 130.76138305664062, 126.11042022705078, 123.13460540771484, 305.2527160644531, 107.95869445800781, 98.989501953125, 96.02723693847656, 108.08953857421875, 198.30657958984375, 84.69642639160156, 84.53668212890625, 82.04998779296875, 79.81625366210938, 78.43309783935547, 77.47526550292969, 74.17784881591797, 73.71295166015625, 71.9393539428711, 71.54195404052734, 59.29303741455078, 59.22866439819336, 57.41274642944336, 53.8288459777832, 274.4254455566406, 1620.1444091796875, 192.38145446777344, 75.89754486083984, 315.1579895019531, 181.5271453857422, 383.5575866699219, 121.62467956542969, 652.2335815429688, 409.18939208984375, 796.9119873046875, 1153.0362548828125, 625.7066650390625, 1790.5987548828125, 314.95782470703125, 349.8484802246094, 209.5220489501953, 604.1267700195312, 1005.302490234375, 1494.137451171875, 770.2246704101562, 982.2157592773438, 394.69512939453125, 320.27978515625, 366.5110168457031, 507.81646728515625, 521.0685424804688, 365.8825378417969, 946.4100341796875, 379.7801818847656, 403.2416076660156, 529.6492309570312, 500.7078857421875, 840.5023803710938, 463.8533630371094, 476.4475402832031, 414.9378967285156, 347.7494201660156], \"Term\": [\"kps\", \"blsm\", \"yg\", \"\\n\\n \", \"jakarta\", \"bbm\", \"terima\", \"jalan\", \"desa\", \"tdk\", \"raskin\", \"dki\", \"rumah\", \"sasar\", \"\\n\\n\\n\\n \", \"miskin\", \"dpt\", \"mohon\", \"kartu\", \"rp\", \"sekolah\", \"yth\", \"kab\", \"tangga\", \"pemprov\", \"d\", \"terimakasih\", \"kg\", \"biaya\", \"asi\", \"sekolah\", \"biaya\", \"asi\", \"guru\", \"sehat\", \"ktp\", \"ruang\", \"susu\", \"bayi\", \"siswa\", \"didik\", \"pojok\", \"eksklusif\", \"kjs\", \"tunjang\", \"dokter\", \"murid\", \"kelas\", \"fasilitas\", \"gratis\", \"sertifikasi\", \"dikenakan\", \"honor\", \"pintar\", \"pungutan\", \"swasta\", \"tarif\", \"marunda\", \"rokok\", \"askes\", \"smk\", \"bsm\", \"sakit\", \"rp\", \"rs\", \"gaji\", \"bayar\", \"anak\", \"urus\", \"milik\", \"jakarta\", \"uang\", \"kerja\", \"kartu\", \"dki\", \"mohon\", \"perintah\", \"daftar\", \"surat\", \"\\n\\n \", \"kasih\", \"  \", \"terima\", \"orang\", \"lurah\", \"rumah\", \"yth\", \"\\n\\n\\n\\n \", \"blsm\", \"bbm\", \"tdk\", \"sasar\", \"miskin\", \"dpt\", \"kab\", \"d\", \"sy\", \"spbu\", \"janda\", \"blt\", \"kompensasi\", \"ds\", \"ga\", \"tp\", \"org\", \"gak\", \"sya\", \"jateng\", \"bnyk\", \"premium\", \"solar\", \"msh\", \"ecer\", \"bnyak\", \"dg\", \"tdak\", \"tlg\", \"gk\", \"yg\", \"kaya\", \"subsidi\", \"rb\", \"kps\", \"kec\", \"desa\", \"bensin\", \"dgn\", \"data\", \"  \", \"orang\", \"hak\", \"ulang\", \"dana\", \"rt\", \"terima\", \"warga\", \"salah\", \"daerah\", \"tolong\", \"bantu\", \"mohon\", \"pt\", \"bus\", \"tumpang\", \"transjakarta\", \"halte\", \"bpn\", \"pulau\", \"hukum\", \"sertifikat\", \"pln\", \"pajak\", \"koridor\", \"sim\", \"upah\", \"armada\", \"menit\", \"cawang\", \"bumn\", \"nuptk\", \"aceh\", \"hutan\", \"transportasi\", \"pbb\", \"muhammad\", \"harmoni\", \"sitti\", \"dikirim\", \"\\n\\n   \", \"26\", \"telepon\", \"polisi\", \"berkas\", \"\\n\\n \", \"\\n\\n  \", \"\\n\\n\\n\\n \", \"tanggal\", \"nomor\", \"menteri\", \"tanah\", \"jurus\", \"tugas\", \"2013\", \"busway\", \"tunggu\", \"no\", \"putus\", \"listrik\", \"selesai\", \"kantor\", \"lapor\", \"jam\", \"layan\", \"laku\", \"surat\", \"atur\", \"indonesia\", \"usaha\", \"  \", \"nama\", \"1\", \"kerja\", \"mohon\", \"terima\", \"masyarakat\", \"2\", \"kasih\", \"tangga\", \"kg\", \"beras\", \"\\n\\n    \", \"dak\", \"000\", \"ngambil\", \"hitam\", \"dijalan\", \"banget\", \"trans\", \"raskin\", \"cimahi\", \"koto\", \"jakbar\", \"sumatra\", \"mskn\", \"menyebrang\", \"engga\", \"888\", \"mikrolet\", \"rt05\", \"rt10\", \"ngk\", \"ngetem\", \"dikantor\", \"005\", \"belok\", \"seharus\", \"puri\", \"75\", \"lindung\", \"888bdt56789009\", \"tomang\", \"rumah\", \"sosial\", \"5\", \"kps\", \"ambil\", \"terima\", \"kartu\", \"15\", \"pos\", \"desa\", \"  \", \"nama\", \"rp\", \"jatah\", \"4\", \"harga\", \"rt\", \"keluarga\", \"anak\", \"kampung\", \"kantor\", \"tinggal\", \"rw\", \"3\", \"kota\", \"banjir\", \"dagang\", \"macet\", \"parkir\", \"lampu\", \"jembatan\", \"kaki\", \"ditertibkan\", \"hujan\", \"pluit\", \"sampah\", \"parah\", \"diperbaiki\", \"bahaya\", \"tertib\", \"ganggu\", \"lubang\", \"gunung\", \"trotoar\", \"pkl\", \"kapuk\", \"truk\", \"sunter\", \"tumpuk\", \"pademangan\", \"bau\", \"jelambar\", \"mangga\", \"seberang\", \"tambora\", \"raya\", \"jalan\", \"rusak\", \"penjaringan\", \"pasar\", \"lintas\", \"jl\", \"bersih\", \"pemprov\", \"air\", \"yth\", \"dki\", \"terimakasih\", \"jakarta\", \"selamat\", \"bangun\", \"siang\", \"tindak\", \"kasih\", \"mohon\", \"lurah\", \"warga\", \"kait\", \"perhati\", \"provinsi\", \"rw\", \"camat\", \"dinas\", \"terima\", \"barat\", \"kali\", \"bantu\", \"tolong\", \"  \", \"perintah\", \"rt\", \"lapor\", \"timur\"], \"Total\": [6691.0, 5316.0, 5152.0, 2319.0, 2952.0, 2625.0, 3746.0, 1680.0, 2215.0, 2006.0, 658.0, 1711.0, 1149.0, 1532.0, 1020.0, 1306.0, 1290.0, 3022.0, 1007.0, 759.0, 611.0, 1103.0, 963.0, 339.0, 759.0, 840.0, 860.0, 301.0, 491.0, 477.0, 611.1063232421875, 491.3742370605469, 477.77081298828125, 414.089111328125, 326.4846496582031, 301.0821838378906, 263.2492980957031, 261.5025634765625, 231.5134735107422, 192.6302032470703, 185.5967559814453, 154.93026733398438, 141.49099731445312, 136.31211853027344, 129.45948791503906, 122.26881408691406, 115.20874786376953, 111.17393493652344, 107.42271423339844, 99.24070739746094, 98.79431915283203, 97.5916748046875, 96.77023315429688, 95.97848510742188, 87.95319366455078, 74.14212799072266, 72.60824584960938, 64.8281478881836, 64.72991180419922, 60.81224822998047, 61.238372802734375, 62.18758773803711, 337.0727844238281, 759.2088012695312, 135.11590576171875, 169.25120544433594, 349.2339172363281, 660.1829223632812, 426.18890380859375, 385.9742736816406, 2952.61572265625, 603.566162109375, 695.092529296875, 1007.9861450195312, 1711.56787109375, 3022.8193359375, 1226.248291015625, 360.24072265625, 432.7001037597656, 2319.79638671875, 1828.7244873046875, 6065.1533203125, 3746.3125, 1888.0679931640625, 1384.165771484375, 1149.41748046875, 1103.9412841796875, 1020.0491333007812, 5316.31298828125, 2625.573486328125, 2006.0037841796875, 1532.205322265625, 1306.69921875, 1290.67724609375, 963.5155029296875, 840.9515991210938, 627.3285522460938, 571.19775390625, 501.1878662109375, 464.1031494140625, 436.58929443359375, 388.15863037109375, 328.14764404296875, 304.1358947753906, 288.8445739746094, 270.1744384765625, 230.86209106445312, 226.38018798828125, 205.6204071044922, 202.0736541748047, 186.25657653808594, 184.5518798828125, 172.8934326171875, 160.39361572265625, 162.30567932128906, 158.40150451660156, 141.2939453125, 138.6597137451172, 5152.21875, 490.710693359375, 430.2528076171875, 231.5304718017578, 6691.83935546875, 1209.92529296875, 2215.566650390625, 258.08331298828125, 270.08837890625, 860.572021484375, 6065.1533203125, 1888.0679931640625, 677.5578002929688, 420.6732482910156, 748.0066528320312, 1565.307861328125, 3746.3125, 1984.343505859375, 683.2352905273438, 1034.806640625, 1220.672607421875, 1303.15625, 3022.8193359375, 308.037109375, 214.01980590820312, 187.61288452148438, 177.61672973632812, 156.8509063720703, 112.31759643554688, 105.51824951171875, 96.72431182861328, 85.8965072631836, 81.96525573730469, 80.2157974243164, 71.00511169433594, 52.28742599487305, 48.64480972290039, 47.22256088256836, 45.87190246582031, 46.027076721191406, 44.225223541259766, 43.4417724609375, 43.95940399169922, 38.33189392089844, 38.28633117675781, 38.27666473388672, 38.14057540893555, 36.844932556152344, 35.547054290771484, 36.164852142333984, 35.206260681152344, 34.71625518798828, 33.74070358276367, 188.48777770996094, 96.39512634277344, 2319.79638671875, 66.52469635009766, 1020.0491333007812, 339.302978515625, 196.8389892578125, 259.3075866699219, 351.8382263183594, 68.5634765625, 406.211669921875, 396.8468933105469, 161.2374267578125, 211.43235778808594, 378.56524658203125, 88.89122772216797, 105.35584259033203, 197.8589630126953, 435.43670654296875, 952.1199951171875, 394.1647033691406, 356.74639892578125, 426.5277099609375, 432.7001037597656, 301.0499267578125, 308.8117370605469, 382.53533935546875, 6065.1533203125, 818.123779296875, 769.4757080078125, 695.092529296875, 3022.8193359375, 3746.3125, 631.9570922851562, 936.97998046875, 1828.7244873046875, 339.537841796875, 301.6806640625, 153.65711975097656, 53.846797943115234, 45.69761276245117, 34.30588150024414, 29.07488250732422, 28.43446159362793, 26.801780700683594, 25.644792556762695, 24.08922576904297, 658.3666381835938, 22.900184631347656, 22.071088790893555, 22.382509231567383, 21.266286849975586, 19.06898307800293, 19.18816375732422, 18.40254020690918, 17.958324432373047, 17.060998916625977, 16.208837509155273, 15.96967601776123, 16.153656005859375, 18.5051326751709, 15.893653869628906, 15.394400596618652, 17.63075065612793, 15.535503387451172, 17.64875030517578, 41.40222930908203, 105.98281860351562, 48.76155090332031, 17.735769271850586, 1149.41748046875, 153.53404235839844, 338.322021484375, 6691.83935546875, 382.9283447265625, 3746.3125, 1007.9861450195312, 148.5743408203125, 258.7428283691406, 2215.566650390625, 6065.1533203125, 818.123779296875, 759.2088012695312, 86.73311614990234, 317.15863037109375, 475.8127136230469, 1565.307861328125, 446.2574462890625, 660.1829223632812, 264.4073181152344, 435.43670654296875, 388.57611083984375, 981.678466796875, 561.8578491210938, 547.9691162109375, 355.74810791015625, 323.38580322265625, 273.6943359375, 196.24095153808594, 191.23550415039062, 193.5511932373047, 182.75143432617188, 131.4770050048828, 126.82252502441406, 123.84637451171875, 307.139404296875, 108.67526245117188, 99.70453643798828, 96.74120330810547, 108.95999145507812, 199.91958618164062, 85.40653991699219, 85.26480102539062, 82.76010131835938, 80.5303726196289, 79.1469497680664, 78.19043731689453, 74.88966369628906, 74.42810821533203, 72.65070343017578, 72.25519561767578, 60.00400161743164, 59.946136474609375, 58.126827239990234, 54.54811477661133, 279.4305725097656, 1680.310302734375, 196.34861755371094, 76.98905181884766, 338.4602355957031, 191.62245178222656, 421.83612060546875, 126.45664978027344, 759.169189453125, 474.7640075683594, 1103.9412841796875, 1711.56787109375, 860.786376953125, 2952.61572265625, 395.825927734375, 457.21240234375, 249.80079650878906, 933.1361083984375, 1828.7244873046875, 3022.8193359375, 1384.165771484375, 1984.343505859375, 592.3203735351562, 465.48931884765625, 581.6182861328125, 981.678466796875, 1068.8028564453125, 602.545654296875, 3746.3125, 680.5855102539062, 768.95849609375, 1303.15625, 1220.672607421875, 6065.1533203125, 1226.248291015625, 1565.307861328125, 952.1199951171875, 674.976318359375], \"loglift\": [30.0, 29.0, 28.0, 27.0, 26.0, 25.0, 24.0, 23.0, 22.0, 21.0, 20.0, 19.0, 18.0, 17.0, 16.0, 15.0, 14.0, 13.0, 12.0, 11.0, 10.0, 9.0, 8.0, 7.0, 6.0, 5.0, 4.0, 3.0, 2.0, 1.0, 1.621399998664856, 1.6210999488830566, 1.6210999488830566, 1.62090003490448, 1.6203999519348145, 1.6202000379562378, 1.6198999881744385, 1.6198999881744385, 1.6195000410079956, 1.618899941444397, 1.6188000440597534, 1.6180000305175781, 1.6175999641418457, 1.617400050163269, 1.6171000003814697, 1.6167999505996704, 1.6164000034332275, 1.6161999702453613, 1.6159000396728516, 1.615399956703186, 1.615399956703186, 1.6153000593185425, 1.6153000593185425, 1.6152000427246094, 1.6145000457763672, 1.6130000352859497, 1.6126999855041504, 1.6115000247955322, 1.6115000247955322, 1.6109000444412231, 1.6109000444412231, 1.6104999780654907, 1.558500051498413, 1.4889999628067017, 1.573699951171875, 1.5255000591278076, 1.4457999467849731, 1.3581000566482544, 1.40339994430542, 1.3228000402450562, 0.6887000203132629, 1.016700029373169, 0.9509999752044678, 0.7470999956130981, 0.5016000270843506, 0.18569999933242798, 0.5734000205993652, 1.1171000003814697, 1.0069999694824219, 0.04960000142455101, 0.08110000193119049, -0.6572999954223633, -0.3684000074863434, 0.02290000021457672, 0.20469999313354492, 0.30970001220703125, 0.25200000405311584, 0.2353000044822693, 0.9889000058174133, 0.9887999892234802, 0.9886999726295471, 0.9886000156402588, 0.9884999990463257, 0.9884999990463257, 0.9883000254631042, 0.9882000088691711, 0.9879000186920166, 0.9878000020980835, 0.9876000285148621, 0.987500011920929, 0.9873999953269958, 0.9872000217437744, 0.9868000149726868, 0.9866999983787537, 0.9865999817848206, 0.9864000082015991, 0.9858999848365784, 0.9858999848365784, 0.9855999946594238, 0.9854999780654907, 0.9851999878883362, 0.9851999878883362, 0.9848999977111816, 0.9846000075340271, 0.9846000075340271, 0.984499990940094, 0.9839000105857849, 0.9839000105857849, 0.9616000056266785, 0.9771999716758728, 0.9729999899864197, 0.9711999893188477, 0.763700008392334, 0.861299991607666, 0.8180999755859375, 0.9563000202178955, 0.9513999819755554, 0.7942000031471252, 0.5202000141143799, 0.6347000002861023, 0.7781999707221985, 0.861299991607666, 0.6890000104904175, 0.48170000314712524, -0.014000000432133675, 0.008700000122189522, 0.5605000257492065, 0.2793999910354614, 0.17149999737739563, 0.06729999929666519, -0.692300021648407, 1.8996000289916992, 1.8985999822616577, 1.8981000185012817, 1.8978999853134155, 1.8973000049591064, 1.8955999612808228, 1.8950999975204468, 1.8944000005722046, 1.8935999870300293, 1.8932000398635864, 1.8930000066757202, 1.8918999433517456, 1.8880000114440918, 1.8868999481201172, 1.8868000507354736, 1.886199951171875, 1.8859000205993652, 1.8858000040054321, 1.885200023651123, 1.8848999738693237, 1.8832000494003296, 1.8832000494003296, 1.8831000328063965, 1.8828999996185303, 1.8824000358581543, 1.8818000555038452, 1.881700038909912, 1.8812999725341797, 1.8808000087738037, 1.8804999589920044, 1.8150999546051025, 1.8255000114440918, 1.5950000286102295, 1.8423000574111938, 1.613800048828125, 1.687399983406067, 1.6796000003814697, 1.5891000032424927, 1.5246000289916992, 1.7890000343322754, 1.4665000438690186, 1.4431999921798706, 1.622499942779541, 1.5636999607086182, 1.394700050354004, 1.7200000286102295, 1.6734000444412231, 1.478600025177002, 1.2339999675750732, 0.932699978351593, 1.1806999444961548, 1.2094000577926636, 1.1265000104904175, 1.0887999534606934, 1.2597999572753906, 1.2207000255584717, 1.044800043106079, -0.7335000038146973, 0.4749999940395355, 0.4943999946117401, 0.5292999744415283, -0.6007999777793884, -1.0016000270843506, 0.5759000182151794, 0.14720000326633453, -0.5169000029563904, 2.6710000038146973, 2.670799970626831, 2.6684000492095947, 2.6591999530792236, 2.6566998958587646, 2.6514999866485596, 2.64739990234375, 2.6463000774383545, 2.644200086593628, 2.642400026321411, 2.640199899673462, 2.640000104904175, 2.6398000717163086, 2.6382999420166016, 2.638000011444092, 2.6375999450683594, 2.632499933242798, 2.6319000720977783, 2.6315999031066895, 2.6314001083374023, 2.6275999546051025, 2.6259000301361084, 2.6257998943328857, 2.625499963760376, 2.625200033187866, 2.6240999698638916, 2.6236000061035156, 2.6231000423431396, 2.6226999759674072, 2.6221001148223877, 2.6113998889923096, 2.423799991607666, 2.4863998889923096, 2.6089999675750732, 1.701799988746643, 2.0905001163482666, 1.8609999418258667, 1.072100043296814, 1.791200041770935, 1.0082999467849731, 1.1979000568389893, 1.8658000230789185, 1.649899959564209, 0.6406999826431274, -0.11190000176429749, 0.8098000288009644, 0.5767999887466431, 1.8294999599456787, 0.9767000079154968, 0.7057999968528748, -0.07090000063180923, 0.6173999905586243, 0.33009999990463257, 0.9573000073432922, 0.5705000162124634, 0.6355000138282776, -0.18880000710487366, 0.2939000129699707, 0.1907999962568283, 1.5475000143051147, 1.5471999645233154, 1.5469000339508057, 1.545799970626831, 1.545699954032898, 1.545699954032898, 1.5456000566482544, 1.5440000295639038, 1.5437999963760376, 1.5436999797821045, 1.5433000326156616, 1.5428999662399292, 1.5422999858856201, 1.542099952697754, 1.5414999723434448, 1.5413999557495117, 1.541100025177002, 1.5408999919891357, 1.5408999919891357, 1.5405999422073364, 1.5404000282287598, 1.5403000116348267, 1.5398999452590942, 1.5398000478744507, 1.5396000146865845, 1.5396000146865845, 1.537600040435791, 1.5374000072479248, 1.5370999574661255, 1.5362000465393066, 1.5313999652862549, 1.5130000114440918, 1.529099941253662, 1.5351999998092651, 1.4780999422073364, 1.4953999519348145, 1.454300045967102, 1.5104999542236328, 1.3976999521255493, 1.4007999897003174, 1.2236000299453735, 1.1545000076293945, 1.2304999828338623, 1.049299955368042, 1.3208999633789062, 1.2818000316619873, 1.3736000061035156, 1.1146999597549438, 0.9510999917984009, 0.8447999954223633, 0.9632999897003174, 0.8461999893188477, 1.1434999704360962, 1.1756000518798828, 1.0877000093460083, 0.8902999758720398, 0.8310999870300293, 1.0506000518798828, 0.1736000031232834, 0.9660999774932861, 0.9039999842643738, 0.6491000056266785, 0.65829998254776, -0.426800012588501, 0.5773000121116638, 0.36000001430511475, 0.7189000248908997, 0.8863000273704529], \"logprob\": [30.0, 29.0, 28.0, 27.0, 26.0, 25.0, 24.0, 23.0, 22.0, 21.0, 20.0, 19.0, 18.0, 17.0, 16.0, 15.0, 14.0, 13.0, 12.0, 11.0, 10.0, 9.0, 8.0, 7.0, 6.0, 5.0, 4.0, 3.0, 2.0, 1.0, -4.631700038909912, -4.850100040435791, -4.878200054168701, -5.021399974822998, -5.2596001625061035, -5.340799808502197, -5.475399971008301, -5.482100009918213, -5.6041998863220215, -5.788700103759766, -5.826000213623047, -6.007400035858154, -6.098599910736084, -6.136099815368652, -6.187900066375732, -6.2453999519348145, -6.305200099945068, -6.341100215911865, -6.375699996948242, -6.455399990081787, -6.45989990234375, -6.472300052642822, -6.480800151824951, -6.488999843597412, -6.577099800109863, -6.7494001388549805, -6.770599842071533, -6.8850998878479, -6.886600017547607, -6.949699878692627, -6.942699909210205, -6.927700042724609, -5.2895002365112305, -4.547100067138672, -6.188499927520752, -6.011499881744385, -5.3668999671936035, -4.817800045013428, -5.210100173950195, -5.389800071716309, -3.9892001152038574, -5.248799800872803, -5.173399925231934, -5.0055999755859375, -4.72160005569458, -4.468699932098389, -4.9832000732421875, -5.6645002365112305, -5.591300010681152, -4.869500160217285, -5.075900077819824, -4.6153998374938965, -4.808199882507324, -5.102200031280518, -5.230899810791016, -5.311699867248535, -5.4096999168396, -5.505499839782715, -3.1008999347686768, -3.8066000938415527, -4.075799942016602, -4.345300197601318, -4.5046000480651855, -4.517000198364258, -4.809500217437744, -4.945700168609619, -5.238999843597412, -5.332900047302246, -5.463799953460693, -5.540800094604492, -5.6020002365112305, -5.719799995422363, -5.8881001472473145, -5.964200019836426, -6.015900135040283, -6.082900047302246, -6.240600109100342, -6.260300159454346, -6.356800079345703, -6.374199867248535, -6.456099987030029, -6.4653000831604, -6.530799865722656, -6.606200218200684, -6.594299793243408, -6.61870002746582, -6.73360013961792, -6.752500057220459, -3.159600019454956, -5.495299816131592, -5.63100004196167, -6.252399921417236, -3.0959999561309814, -4.708799839019775, -4.146999835968018, -6.15880012512207, -6.118199825286865, -5.116600036621094, -3.4379000663757324, -4.490300178527832, -5.371699810028076, -5.765200138092041, -5.361999988555908, -4.8308000564575195, -4.453800201416016, -5.0665998458862305, -5.580999851226807, -5.447000026702881, -5.389699935913086, -5.428500175476074, -5.346700191497803, -5.038599967956543, -5.403800010681152, -5.535900115966797, -5.59089994430542, -5.715799808502197, -6.051499843597412, -6.1143999099731445, -6.202099800109863, -6.321599960327148, -6.368899822235107, -6.390699863433838, -6.513800144195557, -6.823599815368652, -6.896900177001953, -6.926700115203857, -6.956299781799316, -6.953199863433838, -6.993299961090088, -7.01170015335083, -7.00029993057251, -7.138899803161621, -7.140100002288818, -7.140399932861328, -7.144199848175049, -7.179299831390381, -7.215799808502197, -7.198599815368652, -7.225800037384033, -7.2403998374938965, -7.269199848175049, -5.614200115203857, -6.274400234222412, -3.3241000175476074, -6.628499984741211, -4.1269001960754395, -5.154099941253662, -5.706399917602539, -5.521299839019775, -5.280600070953369, -6.651599884033203, -5.195000171661377, -5.241700172424316, -5.9629998207092285, -5.750800132751465, -5.337299823760986, -6.460999965667725, -6.337600231170654, -5.902299880981445, -5.357999801635742, -4.876999855041504, -5.510900020599365, -5.581900119781494, -5.486199855804443, -5.5096001625061035, -5.701300144195557, -5.715000152587891, -5.676799774169922, -4.6915998458862305, -5.486400127410889, -5.528200149536133, -5.59499979019165, -5.255300045013428, -5.441500186920166, -5.643700122833252, -5.678599834442139, -5.673900127410889, -4.1697998046875, -4.2881999015808105, -4.9653000831604, -6.023099899291992, -6.189700126647949, -6.481599807739258, -6.651100158691406, -6.6743998527526855, -6.7357001304626465, -6.781599998474121, -6.846399784088135, -3.538599967956543, -6.89739990234375, -6.935800075531006, -6.922100067138672, -6.973599910736084, -7.087800025939941, -7.082200050354004, -7.124300003051758, -7.14900016784668, -7.203999996185303, -7.256999969482422, -7.2718000411987305, -7.260700225830078, -7.125199794769287, -7.27839994430542, -7.310800075531006, -7.1757001876831055, -7.302599906921387, -7.175600051879883, -6.333600044250488, -5.581299781799316, -6.295100212097168, -7.183800220489502, -3.919600009918213, -5.543900012969971, -4.983399868011475, -2.787600040435791, -4.9293999671936035, -3.4316000938415527, -4.554800033569336, -5.801499843597412, -5.462699890136719, -4.32450008392334, -4.070000171661377, -5.151599884033203, -5.459400177001953, -6.375999927520752, -5.932300090789795, -5.797599792480469, -5.383500099182129, -5.950099945068359, -5.845799922943115, -6.133600234985352, -6.021500110626221, -6.070400238037109, -5.9679999351501465, -6.0432000160217285, -6.17140007019043, -5.246699810028076, -5.342299938201904, -5.509500026702881, -5.843200206756592, -5.869100093841553, -5.857100009918213, -5.914700031280518, -6.245500087738037, -6.281700134277344, -6.305600166320801, -5.397799968719482, -6.43720006942749, -6.523900032043457, -6.554299831390381, -6.4359002113342285, -5.829100131988525, -6.679800033569336, -6.681700229644775, -6.711599826812744, -6.739200115203857, -6.756700038909912, -6.768899917602539, -6.812399864196777, -6.818699836730957, -6.843100070953369, -6.848599910736084, -7.036399841308594, -7.037499904632568, -7.068600177764893, -7.1331000328063965, -5.504199981689453, -3.728600025177002, -5.859399795532227, -6.7895002365112305, -5.365799903869629, -5.917500019073486, -5.169400215148926, -6.317999839782715, -4.638500213623047, -5.104700088500977, -4.438199996948242, -4.06879997253418, -4.679999828338623, -3.6285998821258545, -5.366499900817871, -5.26140022277832, -5.774099826812744, -4.715099811553955, -4.205900192260742, -3.8096001148223877, -4.4721999168396, -4.229100227355957, -5.1407999992370605, -5.349699974060059, -5.214900016784668, -4.888800144195557, -4.86299991607666, -5.216599941253662, -4.266200065612793, -5.179299831390381, -5.1194000244140625, -4.846700191497803, -4.902900218963623, -4.384900093078613, -4.979300022125244, -4.952600002288818, -5.090799808502197, -5.267399787902832]}, \"token.table\": {\"Topic\": [1, 3, 1, 2, 3, 1, 3, 3, 4, 1, 2, 3, 4, 5, 4, 4, 1, 2, 3, 4, 5, 1, 3, 4, 5, 1, 2, 3, 4, 5, 1, 3, 3, 1, 2, 3, 4, 5, 1, 2, 3, 4, 5, 1, 3, 4, 5, 3, 4, 4, 2, 4, 3, 1, 4, 5, 1, 2, 3, 4, 5, 1, 2, 4, 3, 1, 1, 1, 3, 5, 5, 4, 1, 3, 5, 5, 1, 2, 3, 4, 5, 1, 2, 3, 5, 5, 1, 3, 4, 1, 2, 4, 2, 5, 4, 1, 3, 1, 3, 5, 1, 2, 2, 2, 2, 3, 1, 3, 3, 3, 5, 1, 2, 3, 5, 3, 4, 2, 1, 2, 3, 5, 1, 2, 3, 4, 5, 4, 1, 2, 1, 2, 3, 2, 3, 4, 2, 2, 3, 4, 1, 4, 4, 1, 3, 1, 5, 5, 5, 1, 5, 1, 2, 2, 2, 1, 4, 1, 2, 1, 3, 2, 1, 5, 2, 1, 5, 1, 1, 2, 3, 3, 1, 2, 3, 4, 3, 4, 1, 5, 3, 3, 1, 3, 1, 3, 5, 4, 1, 3, 5, 1, 3, 5, 2, 2, 4, 5, 2, 5, 5, 1, 3, 4, 5, 3, 4, 2, 1, 3, 5, 5, 1, 2, 3, 4, 5, 1, 2, 3, 4, 5, 1, 3, 4, 5, 5, 1, 2, 4, 5, 1, 2, 3, 4, 5, 1, 2, 3, 2, 5, 1, 1, 2, 3, 4, 5, 1, 2, 3, 5, 4, 1, 2, 3, 1, 2, 3, 4, 5, 4, 2, 4, 1, 1, 2, 3, 5, 5, 1, 3, 5, 1, 3, 1, 4, 5, 3, 5, 3, 5, 5, 1, 2, 3, 4, 5, 5, 5, 1, 1, 2, 3, 5, 3, 1, 3, 4, 4, 1, 3, 5, 2, 1, 2, 3, 5, 2, 4, 3, 1, 1, 2, 3, 4, 5, 4, 4, 4, 1, 2, 3, 4, 5, 1, 3, 3, 1, 2, 3, 4, 5, 2, 5, 3, 5, 5, 1, 5, 3, 1, 5, 1, 5, 1, 2, 3, 5, 1, 2, 3, 5, 1, 5, 3, 5, 1, 3, 5, 2, 3, 4, 5, 2, 1, 3, 5, 3, 3, 1, 4, 1, 3, 2, 4, 1, 5, 2, 3, 1, 1, 2, 3, 4, 1, 5, 1, 2, 4, 5, 4, 4, 1, 1, 2, 4, 5, 3, 5, 2, 4, 5, 1, 5, 1, 2, 3, 4, 5, 1, 5, 2, 5, 4, 1, 1, 1, 3, 5, 1, 3, 5, 1, 3, 1, 3, 5, 3, 1, 3, 1, 2, 1, 2, 3, 4, 5, 2, 1, 2, 4, 5, 1, 3, 4, 1, 1, 2, 2, 5, 3, 5, 4, 1, 3, 1, 2, 2, 3, 1, 2, 3, 4, 5, 1, 3, 5, 5, 1, 2, 3, 5, 1, 2, 3, 5, 1, 2, 3, 4, 5, 2, 1, 2, 3, 5, 4, 5, 2, 4, 3, 3, 5, 5, 1, 2, 3, 5, 3, 5, 1, 2, 3, 1, 1, 2, 3, 4, 1, 2, 3, 5, 3, 1, 3, 5, 1, 2, 3, 5, 1, 2, 3, 5, 2, 3, 5, 1, 3, 5], \"Freq\": [0.24998795986175537, 0.7499638795852661, 0.20734578371047974, 0.05647047236561775, 0.7358404397964478, 0.04509603604674339, 0.947016716003418, 0.9657373428344727, 0.9842739701271057, 0.10222329944372177, 0.6257055401802063, 0.07172118872404099, 0.061663735657930374, 0.1386609673500061, 0.9910836815834045, 0.9743802547454834, 0.22872716188430786, 0.1806424856185913, 0.24432219564914703, 0.04028717055916786, 0.3054027557373047, 0.2221110314130783, 0.1413433849811554, 0.4442220628261566, 0.1951884776353836, 0.2347969114780426, 0.2561420798301697, 0.1728959083557129, 0.03842131048440933, 0.29776516556739807, 0.365380197763443, 0.6324857473373413, 0.9793683290481567, 0.3079070746898651, 0.13882514834403992, 0.1904396265745163, 0.09255009889602661, 0.2705310583114624, 0.23332172632217407, 0.13557884097099304, 0.20809775590896606, 0.18287378549575806, 0.23962771892547607, 0.13005360960960388, 0.209859237074852, 0.44336459040641785, 0.21577076613903046, 0.048306576907634735, 0.9419782757759094, 0.9466361999511719, 0.1640636920928955, 0.8203184604644775, 0.9781752228736877, 0.10742179304361343, 0.031594645231962204, 0.8614806532859802, 0.16191019117832184, 0.2611454725265503, 0.15146437287330627, 0.41522127389907837, 0.010445818305015564, 0.7679689526557922, 0.13632585108280182, 0.09542809426784515, 0.9952870011329651, 0.9983866214752197, 0.986643373966217, 0.34545764327049255, 0.5248298645019531, 0.12622490525245667, 0.9923382997512817, 0.9748567938804626, 0.09842252731323242, 0.1356043666601181, 0.7655085325241089, 0.9978970885276794, 0.18263350427150726, 0.39749646186828613, 0.0030694708693772554, 0.009975779801607132, 0.4067048728466034, 0.17338012158870697, 0.21305184066295624, 0.05436495319008827, 0.5583427548408508, 0.9964681267738342, 0.8389792442321777, 0.1431705206632614, 0.017180461436510086, 0.9977821111679077, 0.9997815489768982, 0.9642243981361389, 0.9686794281005859, 0.03099774196743965, 0.9957234859466553, 0.0726177766919136, 0.9232832193374634, 0.015815695747733116, 0.015815695747733116, 0.96475750207901, 0.9992383718490601, 0.9999411106109619, 0.9976230263710022, 0.9975459575653076, 0.996982753276825, 0.9971723556518555, 0.980903148651123, 0.9949073791503906, 0.9952349662780762, 0.7566481232643127, 0.24187932908535004, 0.10946827381849289, 0.31530603766441345, 0.08794886618852615, 0.48746126890182495, 0.9776853919029236, 0.9606909155845642, 0.9988684058189392, 0.11306460201740265, 0.49187934398651123, 0.08504004031419754, 0.31020286679267883, 0.6023749709129333, 0.25538477301597595, 0.09160540997982025, 0.049966588616371155, 0.9988070130348206, 0.9847341775894165, 0.2580190896987915, 0.740635097026825, 0.08831334859132767, 0.8227086067199707, 0.08831334859132767, 0.8426738381385803, 0.026178404688835144, 0.13089202344417572, 0.998116672039032, 0.9626478552818298, 0.011107475496828556, 0.02591744251549244, 0.9967846870422363, 0.9700847864151001, 0.9437729120254517, 0.9939372539520264, 0.9677904844284058, 0.3916715681552887, 0.6074228286743164, 0.9929337501525879, 0.9963719248771667, 0.3260168731212616, 0.6736513376235962, 0.9978014230728149, 0.9994753003120422, 0.9970150589942932, 0.994832456111908, 0.9965298175811768, 0.978125810623169, 0.9960649609565735, 0.9965026378631592, 0.9098901152610779, 0.08862566202878952, 0.9956530332565308, 0.005002011079341173, 0.9903982281684875, 0.9952422380447388, 0.997574508190155, 0.996894359588623, 0.9973698854446411, 0.0856015533208847, 0.8102629780769348, 0.10478810966014862, 0.9945750832557678, 0.1555233746767044, 0.6262968182563782, 0.0777616873383522, 0.1408117115497589, 0.9770678877830505, 0.9847205877304077, 0.9920405745506287, 0.993514358997345, 0.9925115704536438, 0.9913415908813477, 0.4922092854976654, 0.5051621198654175, 0.39321067929267883, 0.0003386827593203634, 0.6065807938575745, 0.9829103350639343, 0.019044101238250732, 0.01666358858346939, 0.9641076326370239, 0.1395355761051178, 0.4871060252189636, 0.3729405403137207, 0.9976298809051514, 0.5418922305107117, 0.4265959858894348, 0.023059243336319923, 0.9983205795288086, 0.9832677841186523, 0.9971522092819214, 0.026076477020978928, 0.02370588853955269, 0.04030001163482666, 0.9103060960769653, 0.8896865248680115, 0.10209517180919647, 0.9994649887084961, 0.2616827189922333, 0.07090757042169571, 0.6668688654899597, 0.9958882331848145, 0.1690598428249359, 0.12744511663913727, 0.14955294132232666, 0.029910586774349213, 0.524085521697998, 0.026474304497241974, 0.32147371768951416, 0.05673065409064293, 0.18153809010982513, 0.41224274039268494, 0.23884068429470062, 0.512129545211792, 0.12171688675880432, 0.12401343137025833, 0.9855086207389832, 0.41667240858078003, 0.32440921664237976, 0.2291698157787323, 0.02976231463253498, 0.21381023526191711, 0.12850487232208252, 0.08913316577672958, 0.018592193722724915, 0.5495633482933044, 0.008151442743837833, 0.9883624315261841, 0.004075721371918917, 0.8802196383476257, 0.11984211206436157, 0.9894405603408813, 0.26890307664871216, 0.5355653166770935, 0.044817179441452026, 0.12772895395755768, 0.022408589720726013, 0.510723352432251, 0.1481817066669464, 0.25320369005203247, 0.08775810152292252, 0.9977437853813171, 0.9977102875709534, 0.9986502528190613, 0.9858444929122925, 0.14051887392997742, 0.37045884132385254, 0.24453933537006378, 0.0839463397860527, 0.16059298813343048, 0.9514709711074829, 0.798285722732544, 0.20173825323581696, 0.9964056611061096, 0.3587105870246887, 0.06799089163541794, 0.45952466130256653, 0.11488116532564163, 0.9987685084342957, 0.18485064804553986, 0.37915387749671936, 0.435869425535202, 0.4989538788795471, 0.4989538788795471, 0.16983884572982788, 0.7831457853317261, 0.04717746004462242, 0.05218595266342163, 0.9497843384742737, 0.7972979545593262, 0.19932448863983154, 0.9952399730682373, 0.2420230358839035, 0.10475623607635498, 0.08958464860916138, 0.007224568165838718, 0.5562917590141296, 0.9974631071090698, 0.9842168688774109, 0.9872254729270935, 0.24052265286445618, 0.4256618022918701, 0.2658408284187317, 0.06804259121417999, 0.9809926748275757, 0.26609325408935547, 0.7327205538749695, 0.9380782842636108, 0.9378114342689514, 0.7409820556640625, 0.21763108670711517, 0.041453540325164795, 0.9994648694992065, 0.23752659559249878, 0.1862499713897705, 0.0817117989063263, 0.49424058198928833, 0.9970096349716187, 0.9439412355422974, 0.9700954556465149, 0.9981880784034729, 0.16990093886852264, 0.3899165391921997, 0.23957255482673645, 0.155233234167099, 0.04522543027997017, 0.9630305171012878, 0.9727030992507935, 0.9285823702812195, 0.09773744642734528, 0.0369817353785038, 0.6022740006446838, 0.05811415612697601, 0.2060410976409912, 0.1981314718723297, 0.8026865124702454, 0.9898306727409363, 0.2017935812473297, 0.7017755508422852, 0.05349383503198624, 0.001059283851645887, 0.041312072426080704, 0.9970760345458984, 0.9910433888435364, 0.9973098039627075, 0.9937863945960999, 0.998772144317627, 0.06795480847358704, 0.9306854009628296, 0.9927719831466675, 0.13962632417678833, 0.8588336110115051, 0.012988859787583351, 0.9871533513069153, 0.17401044070720673, 0.07733797281980515, 0.060151755809783936, 0.6874486207962036, 0.34984758496284485, 0.17206954956054688, 0.0994904562830925, 0.3783899247646332, 0.9898051619529724, 0.9934139847755432, 0.9882236123085022, 0.993165910243988, 0.9939955472946167, 0.9178314208984375, 0.07958075404167175, 0.15845850110054016, 0.42513254284858704, 0.3594302535057068, 0.05410778149962425, 0.9946868419647217, 0.3060426414012909, 0.06361560523509979, 0.6309980154037476, 0.9966331720352173, 0.995088517665863, 0.9891625046730042, 0.9632409811019897, 0.15749585628509521, 0.8324781060218811, 0.03189712017774582, 0.9675459861755371, 0.014314825646579266, 0.9805655479431152, 0.9804325103759766, 0.0172763429582119, 0.9887237548828125, 0.8745946884155273, 0.0013171606697142124, 0.0013171606697142124, 0.12249594926834106, 0.9547358751296997, 0.04440631717443466, 0.02938719093799591, 0.6017985343933105, 0.06452404707670212, 0.30409353971481323, 0.9254210591316223, 0.9392801523208618, 0.9990530014038086, 0.2688318192958832, 0.12180082499980927, 0.3784525692462921, 0.2305515706539154, 0.015278946608304977, 0.9778525829315186, 0.4247826635837555, 0.05704515427350998, 0.5174810290336609, 0.937483012676239, 0.059334367513656616, 0.20637106895446777, 0.6513129472732544, 0.09074472635984421, 0.023417994379997253, 0.027808867394924164, 0.00325585063546896, 0.9930344223976135, 0.9992133378982544, 0.9806143045425415, 0.9655303359031677, 0.9985155463218689, 0.9981896281242371, 0.17684541642665863, 0.025263629853725433, 0.7958043813705444, 0.1111903116106987, 0.6570336818695068, 0.23248884081840515, 0.9919598698616028, 0.9895629286766052, 0.12009569257497787, 0.04003189876675606, 0.8406698703765869, 0.9945029616355896, 0.9967284202575684, 0.9846104383468628, 0.9961074590682983, 0.998622477054596, 0.13677749037742615, 0.18236997723579407, 0.03256606683135033, 0.5601363778114319, 0.08467177301645279, 0.9979031085968018, 0.013945289887487888, 0.9831429123878479, 0.9874784350395203, 0.9881203174591064, 0.5407902598381042, 0.4437253475189209, 0.01617748662829399, 0.9980781674385071, 0.9845954179763794, 0.9994762539863586, 0.9962657690048218, 0.9899517297744751, 0.6849738955497742, 0.3126436769962311, 0.9984159469604492, 0.19156919419765472, 0.807537853717804, 0.9916229248046875, 0.9974652528762817, 0.9994996190071106, 0.9780471920967102, 0.13666772842407227, 0.36676064133644104, 0.054720476269721985, 0.18925276398658752, 0.25251495838165283, 0.26952099800109863, 0.0034851853270083666, 0.7272419929504395, 0.9911894798278809, 0.15852408111095428, 0.31112203001976013, 0.014815334230661392, 0.5155736207962036, 0.15538997948169708, 0.12109702080488205, 0.07608750462532043, 0.6472796201705933, 0.2856583297252655, 0.16727739572525024, 0.06948445737361908, 0.13124841451644897, 0.3474222719669342, 0.9979196190834045, 0.055706992745399475, 0.4415598511695862, 0.09175269305706024, 0.410429447889328, 0.958514928817749, 0.05638323351740837, 0.996265172958374, 0.9547836780548096, 0.9965277314186096, 0.992521345615387, 0.9908155798912048, 0.9847751259803772, 0.26340946555137634, 0.0024617707822471857, 0.6474456787109375, 0.08616197854280472, 0.9967332482337952, 0.9942480325698853, 0.16080793738365173, 0.12297076731920242, 0.7141764163970947, 0.9964507222175598, 0.5450935363769531, 0.2882865369319916, 0.11266370862722397, 0.05301821231842041, 0.040411412715911865, 0.8795424699783325, 0.05942854657769203, 0.019017135724425316, 0.9867445230484009, 0.8024610877037048, 0.16424641013145447, 0.032849282026290894, 0.32153892517089844, 0.20651686191558838, 0.4234902858734131, 0.0470544770359993, 0.09776533395051956, 0.37543901801109314, 0.031748536974191666, 0.4948740005493164, 0.9729788899421692, 0.005046369507908821, 0.021932298317551613, 0.2536366879940033, 0.023551978170871735, 0.7219586968421936], \"Term\": [\"\\n\\n\\n\\n \", \"\\n\\n\\n\\n \", \"\\n\\n \", \"\\n\\n \", \"\\n\\n \", \"\\n\\n  \", \"\\n\\n  \", \"\\n\\n   \", \"\\n\\n    \", \"  \", \"  \", \"  \", \"  \", \"  \", \"000\", \"005\", \"1\", \"1\", \"1\", \"1\", \"1\", \"15\", \"15\", \"15\", \"15\", \"2\", \"2\", \"2\", \"2\", \"2\", \"2013\", \"2013\", \"26\", \"3\", \"3\", \"3\", \"3\", \"3\", \"4\", \"4\", \"4\", \"4\", \"4\", \"5\", \"5\", \"5\", \"5\", \"75\", \"75\", \"888\", \"888bdt56789009\", \"888bdt56789009\", \"aceh\", \"air\", \"air\", \"air\", \"ambil\", \"ambil\", \"ambil\", \"ambil\", \"ambil\", \"anak\", \"anak\", \"anak\", \"armada\", \"asi\", \"askes\", \"atur\", \"atur\", \"atur\", \"bahaya\", \"banget\", \"bangun\", \"bangun\", \"bangun\", \"banjir\", \"bantu\", \"bantu\", \"bantu\", \"bantu\", \"bantu\", \"barat\", \"barat\", \"barat\", \"barat\", \"bau\", \"bayar\", \"bayar\", \"bayar\", \"bayi\", \"bbm\", \"belok\", \"bensin\", \"bensin\", \"beras\", \"berkas\", \"berkas\", \"bersih\", \"bersih\", \"bersih\", \"biaya\", \"blsm\", \"blt\", \"bnyak\", \"bnyk\", \"bpn\", \"bsm\", \"bumn\", \"bus\", \"busway\", \"busway\", \"camat\", \"camat\", \"camat\", \"camat\", \"cawang\", \"cimahi\", \"d\", \"daerah\", \"daerah\", \"daerah\", \"daerah\", \"daftar\", \"daftar\", \"daftar\", \"daftar\", \"dagang\", \"dak\", \"dana\", \"dana\", \"data\", \"data\", \"data\", \"desa\", \"desa\", \"desa\", \"dg\", \"dgn\", \"dgn\", \"dgn\", \"didik\", \"dijalan\", \"dikantor\", \"dikenakan\", \"dikirim\", \"dinas\", \"dinas\", \"diperbaiki\", \"ditertibkan\", \"dki\", \"dki\", \"dokter\", \"dpt\", \"ds\", \"ecer\", \"eksklusif\", \"engga\", \"fasilitas\", \"ga\", \"gaji\", \"gaji\", \"gak\", \"ganggu\", \"ganggu\", \"gk\", \"gratis\", \"gunung\", \"guru\", \"hak\", \"hak\", \"hak\", \"halte\", \"harga\", \"harga\", \"harga\", \"harga\", \"harmoni\", \"hitam\", \"honor\", \"hujan\", \"hukum\", \"hutan\", \"indonesia\", \"indonesia\", \"jakarta\", \"jakarta\", \"jakarta\", \"jakbar\", \"jalan\", \"jalan\", \"jalan\", \"jam\", \"jam\", \"jam\", \"janda\", \"jatah\", \"jatah\", \"jatah\", \"jateng\", \"jelambar\", \"jembatan\", \"jl\", \"jl\", \"jl\", \"jl\", \"jurus\", \"jurus\", \"kab\", \"kait\", \"kait\", \"kait\", \"kaki\", \"kali\", \"kali\", \"kali\", \"kali\", \"kali\", \"kampung\", \"kampung\", \"kampung\", \"kampung\", \"kampung\", \"kantor\", \"kantor\", \"kantor\", \"kantor\", \"kapuk\", \"kartu\", \"kartu\", \"kartu\", \"kartu\", \"kasih\", \"kasih\", \"kasih\", \"kasih\", \"kasih\", \"kaya\", \"kaya\", \"kaya\", \"kec\", \"kec\", \"kelas\", \"keluarga\", \"keluarga\", \"keluarga\", \"keluarga\", \"keluarga\", \"kerja\", \"kerja\", \"kerja\", \"kerja\", \"kg\", \"kjs\", \"kompensasi\", \"koridor\", \"kota\", \"kota\", \"kota\", \"kota\", \"kota\", \"koto\", \"kps\", \"kps\", \"ktp\", \"laku\", \"laku\", \"laku\", \"laku\", \"lampu\", \"lapor\", \"lapor\", \"lapor\", \"layan\", \"layan\", \"lindung\", \"lindung\", \"lindung\", \"lintas\", \"lintas\", \"listrik\", \"listrik\", \"lubang\", \"lurah\", \"lurah\", \"lurah\", \"lurah\", \"lurah\", \"macet\", \"mangga\", \"marunda\", \"masyarakat\", \"masyarakat\", \"masyarakat\", \"masyarakat\", \"menit\", \"menteri\", \"menteri\", \"menyebrang\", \"mikrolet\", \"milik\", \"milik\", \"milik\", \"miskin\", \"mohon\", \"mohon\", \"mohon\", \"mohon\", \"msh\", \"mskn\", \"muhammad\", \"murid\", \"nama\", \"nama\", \"nama\", \"nama\", \"nama\", \"ngambil\", \"ngetem\", \"ngk\", \"no\", \"no\", \"no\", \"no\", \"no\", \"nomor\", \"nomor\", \"nuptk\", \"orang\", \"orang\", \"orang\", \"orang\", \"orang\", \"org\", \"pademangan\", \"pajak\", \"parah\", \"parkir\", \"pasar\", \"pasar\", \"pbb\", \"pemprov\", \"pemprov\", \"penjaringan\", \"penjaringan\", \"perhati\", \"perhati\", \"perhati\", \"perhati\", \"perintah\", \"perintah\", \"perintah\", \"perintah\", \"pintar\", \"pkl\", \"pln\", \"pluit\", \"pojok\", \"polisi\", \"polisi\", \"pos\", \"pos\", \"pos\", \"pos\", \"premium\", \"provinsi\", \"provinsi\", \"provinsi\", \"pt\", \"pulau\", \"pungutan\", \"puri\", \"putus\", \"putus\", \"raskin\", \"raskin\", \"raya\", \"raya\", \"rb\", \"rb\", \"rokok\", \"rp\", \"rp\", \"rp\", \"rp\", \"rs\", \"rs\", \"rt\", \"rt\", \"rt\", \"rt\", \"rt05\", \"rt10\", \"ruang\", \"rumah\", \"rumah\", \"rumah\", \"rumah\", \"rusak\", \"rusak\", \"rw\", \"rw\", \"rw\", \"sakit\", \"sakit\", \"salah\", \"salah\", \"salah\", \"salah\", \"salah\", \"sampah\", \"sampah\", \"sasar\", \"seberang\", \"seharus\", \"sehat\", \"sekolah\", \"selamat\", \"selamat\", \"selamat\", \"selesai\", \"selesai\", \"selesai\", \"sertifikasi\", \"sertifikat\", \"siang\", \"siang\", \"siang\", \"sim\", \"siswa\", \"sitti\", \"smk\", \"solar\", \"sosial\", \"sosial\", \"sosial\", \"sosial\", \"sosial\", \"spbu\", \"subsidi\", \"subsidi\", \"sumatra\", \"sunter\", \"surat\", \"surat\", \"surat\", \"susu\", \"swasta\", \"sy\", \"sya\", \"tambora\", \"tanah\", \"tanah\", \"tangga\", \"tanggal\", \"tanggal\", \"tarif\", \"tdak\", \"tdk\", \"telepon\", \"terima\", \"terima\", \"terima\", \"terima\", \"terima\", \"terimakasih\", \"terimakasih\", \"terimakasih\", \"tertib\", \"timur\", \"timur\", \"timur\", \"timur\", \"tindak\", \"tindak\", \"tindak\", \"tindak\", \"tinggal\", \"tinggal\", \"tinggal\", \"tinggal\", \"tinggal\", \"tlg\", \"tolong\", \"tolong\", \"tolong\", \"tolong\", \"tomang\", \"tomang\", \"tp\", \"trans\", \"transjakarta\", \"transportasi\", \"trotoar\", \"truk\", \"tugas\", \"tugas\", \"tugas\", \"tugas\", \"tumpang\", \"tumpuk\", \"tunggu\", \"tunggu\", \"tunggu\", \"tunjang\", \"uang\", \"uang\", \"uang\", \"uang\", \"ulang\", \"ulang\", \"ulang\", \"ulang\", \"upah\", \"urus\", \"urus\", \"urus\", \"usaha\", \"usaha\", \"usaha\", \"usaha\", \"warga\", \"warga\", \"warga\", \"warga\", \"yg\", \"yg\", \"yg\", \"yth\", \"yth\", \"yth\"]}, \"R\": 30, \"lambda.step\": 0.01, \"plot.opts\": {\"xlab\": \"PC1\", \"ylab\": \"PC2\"}, \"topic.order\": [1, 2, 3, 4, 5]};\n",
       "\n",
       "function LDAvis_load_lib(url, callback){\n",
       "  var s = document.createElement('script');\n",
       "  s.src = url;\n",
       "  s.async = true;\n",
       "  s.onreadystatechange = s.onload = callback;\n",
       "  s.onerror = function(){console.warn(\"failed to load library \" + url);};\n",
       "  document.getElementsByTagName(\"head\")[0].appendChild(s);\n",
       "}\n",
       "\n",
       "if(typeof(LDAvis) !== \"undefined\"){\n",
       "   // already loaded: just create the visualization\n",
       "   !function(LDAvis){\n",
       "       new LDAvis(\"#\" + \"ldavis_el530819154745537367568515371\", ldavis_el530819154745537367568515371_data);\n",
       "   }(LDAvis);\n",
       "}else if(typeof define === \"function\" && define.amd){\n",
       "   // require.js is available: use it to load d3/LDAvis\n",
       "   require.config({paths: {d3: \"https://cdnjs.cloudflare.com/ajax/libs/d3/3.5.5/d3.min\"}});\n",
       "   require([\"d3\"], function(d3){\n",
       "      window.d3 = d3;\n",
       "      LDAvis_load_lib(\"https://cdn.rawgit.com/bmabey/pyLDAvis/files/ldavis.v1.0.0.js\", function(){\n",
       "        new LDAvis(\"#\" + \"ldavis_el530819154745537367568515371\", ldavis_el530819154745537367568515371_data);\n",
       "      });\n",
       "    });\n",
       "}else{\n",
       "    // require.js not available: dynamically load d3 & LDAvis\n",
       "    LDAvis_load_lib(\"https://cdnjs.cloudflare.com/ajax/libs/d3/3.5.5/d3.min.js\", function(){\n",
       "         LDAvis_load_lib(\"https://cdn.rawgit.com/bmabey/pyLDAvis/files/ldavis.v1.0.0.js\", function(){\n",
       "                 new LDAvis(\"#\" + \"ldavis_el530819154745537367568515371\", ldavis_el530819154745537367568515371_data);\n",
       "            })\n",
       "         });\n",
       "}\n",
       "</script>"
      ],
      "text/plain": [
       "<IPython.core.display.HTML object>"
      ]
     },
     "execution_count": 28,
     "metadata": {},
     "output_type": "execute_result"
    }
   ],
   "source": [
    "lda_display = pyLDAvis.gensim.prepare(lda, corpus, dictionary, sort_topics=False)\n",
    "pyLDAvis.display(lda_display)"
   ]
  }
 ],
 "metadata": {
  "kernelspec": {
   "display_name": "Python 3",
   "language": "python",
   "name": "python3"
  },
  "language_info": {
   "codemirror_mode": {
    "name": "ipython",
    "version": 3
   },
   "file_extension": ".py",
   "mimetype": "text/x-python",
   "name": "python",
   "nbconvert_exporter": "python",
   "pygments_lexer": "ipython3",
   "version": "3.6.4"
  }
 },
 "nbformat": 4,
 "nbformat_minor": 2
}
